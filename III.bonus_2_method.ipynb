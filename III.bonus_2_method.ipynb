{
 "cells": [
  {
   "cell_type": "code",
   "execution_count": 1,
   "id": "ee669f39",
   "metadata": {},
   "outputs": [],
   "source": [
    "import math\n",
    "from sympy.matrices import Matrix\n",
    "import sympy\n",
    "import numpy as np\n",
    "from sympy.abc import x,y\n",
    "from sympy import *\n",
    "init_printing( use_latex='mathjax' )\n",
    "f = Function(\"f\")\n",
    "h = symbols(\"h\")\n",
    "x0=symbols(\"x0\")"
   ]
  },
  {
   "cell_type": "markdown",
   "id": "23239bba",
   "metadata": {},
   "source": [
    "http://mykaralw.narod.ru/articles/mnk_circle.pdf"
   ]
  },
  {
   "cell_type": "code",
   "execution_count": 2,
   "id": "3200023a",
   "metadata": {},
   "outputs": [],
   "source": [
    "N = symbols(\"N\")\n",
    "N = 10"
   ]
  },
  {
   "cell_type": "code",
   "execution_count": 3,
   "id": "6899fd6a",
   "metadata": {},
   "outputs": [],
   "source": [
    "x = np.random.randint(0, 100, N)\n",
    "y = np.random.randint(0, 100, N)"
   ]
  },
  {
   "cell_type": "code",
   "execution_count": 4,
   "id": "f299c380",
   "metadata": {},
   "outputs": [
    {
     "data": {
      "image/png": "[encoded data removed]",
      "text/plain": [
       "<Figure size 432x288 with 1 Axes>"
      ]
     },
     "metadata": {
      "needs_background": "light"
     },
     "output_type": "display_data"
    }
   ],
   "source": [
    "import matplotlib.pyplot as plt\n",
    "import matplotlib as mpl\n",
    "import decimal\n",
    "%matplotlib inline\n",
    "import matplotlib.pyplot as plt\n",
    "\n",
    "plt.scatter(x, y)\n",
    "plt.show()\n",
    "\n",
    "\n",
    "plt.show()"
   ]
  },
  {
   "cell_type": "code",
   "execution_count": 5,
   "id": "bb145ac3",
   "metadata": {},
   "outputs": [
    {
     "data": {
      "text/plain": [
       "array([84,  5, 36, 22, 28, 33])"
      ]
     },
     "execution_count": 5,
     "metadata": {},
     "output_type": "execute_result"
    }
   ],
   "source": [
    "x"
   ]
  },
  {
   "cell_type": "code",
   "execution_count": 6,
   "id": "386b4bad",
   "metadata": {},
   "outputs": [
    {
     "data": {
      "text/plain": [
       "array([23, 18, 62, 83, 11, 23])"
      ]
     },
     "execution_count": 6,
     "metadata": {},
     "output_type": "execute_result"
    }
   ],
   "source": [
    "y"
   ]
  },
  {
   "cell_type": "code",
   "execution_count": 17,
   "id": "b641aabc",
   "metadata": {},
   "outputs": [],
   "source": [
    "array_x = sum(x)\n",
    "array_x_2 = sum(x**2)\n",
    "array_x_3 = sum(x**3)\n",
    "array_y = sum(y)\n",
    "array_y_2 = sum(y**2)\n",
    "array_y_3 = sum(y**3)\n",
    "\n",
    "array_x_y = sum(x*y)\n",
    "array_x_2_y = sum((x**2)*y)\n",
    "array_x_y_2 = sum((y**2)*x)"
   ]
  },
  {
   "cell_type": "code",
   "execution_count": 18,
   "id": "450cdb36",
   "metadata": {},
   "outputs": [],
   "source": [
    "N11 = 2*(array_x_2 - (1/N)*array_x*array_x)\n",
    "N12 = 2*(array_x_y - (1/N)*array_x*array_y)\n",
    "N21 = 2*(array_x_y - (1/N)*array_x*array_y)\n",
    "N22 = 2*(array_y_2 - (1/N)*array_y*array_y)\n",
    "W1 = array_x_3 + array_x_y_2 - (1/N)*array_x_2*array_x - (1/N)*array_y_2*array_y\n",
    "W2 = array_y_3 + array_x_2_y - (1/N)*array_x_2*array_y - (1/N)*array_y_2*array_x\n",
    "\n",
    "det = N11*N22 - N12*N21"
   ]
  },
  {
   "cell_type": "code",
   "execution_count": 19,
   "id": "18884a40",
   "metadata": {},
   "outputs": [],
   "source": [
    "x0 = (W1*N22 - W2*N12)/det\n",
    "y0 = (W2*N11 - W1*N21)/det\n",
    "r = np.sqrt(x0**2 + y0**2 + (1/N)*(array_x_2+array_y_2 - 2*(x0*array_x + y0*array_y)))"
   ]
  },
  {
   "cell_type": "code",
   "execution_count": 20,
   "id": "42e1be44",
   "metadata": {},
   "outputs": [
    {
     "data": {
      "image/png": "[encoded data removed]",
      "text/plain": [
       "<Figure size 432x288 with 1 Axes>"
      ]
     },
     "metadata": {
      "needs_background": "light"
     },
     "output_type": "display_data"
    }
   ],
   "source": [
    "plt.scatter(x, y)\n",
    "\n",
    "circle = plt.Circle((x0, y0), r, color='r', fill=false)\n",
    "ax=plt.gca()\n",
    "ax.add_patch(circle)\n",
    "plt.axis('scaled')\n",
    "plt.show()"
   ]
  },
  {
   "cell_type": "code",
   "execution_count": null,
   "id": "7766b183",
   "metadata": {},
   "outputs": [],
   "source": []
  }
 ],
 "metadata": {
  "kernelspec": {
   "display_name": "Python 3 (ipykernel)",
   "language": "python",
   "name": "python3"
  },
  "language_info": {
   "codemirror_mode": {
    "name": "ipython",
    "version": 3
   },
   "file_extension": ".py",
   "mimetype": "text/x-python",
   "name": "python",
   "nbconvert_exporter": "python",
   "pygments_lexer": "ipython3",
   "version": "3.9.12"
  }
 },
 "nbformat": 4,
 "nbformat_minor": 5
}
