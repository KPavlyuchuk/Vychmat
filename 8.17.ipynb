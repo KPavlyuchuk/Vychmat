{
 "cells": [
  {
   "cell_type": "markdown",
   "id": "40a27796",
   "metadata": {},
   "source": [
    "Пункт а):\n",
    "\n",
    "Выпишем все числа множества $S$\n",
    "$S = {-11.1, -11, -10.1, -10, -1.11, -1.1, -1.01, -1, -0.111, -0.11, -0.101, -0.1, 0, 0.1, 0.101, 0.11, 0.111, 1, 1.01, 1.1, 1.11, 10, 10.1, 11, 11.1}$\n",
    "Всего вышло 25 штук"
   ]
  },
  {
   "cell_type": "markdown",
   "id": "ff1120cf",
   "metadata": {},
   "source": [
    "Пункт б):\n",
    "\n",
    "$UFL = -11.1$\n",
    "\n",
    "$OFL = 11.1$\n",
    "\n",
    "$\\varepsilon_{маш} = 0.05$"
   ]
  },
  {
   "cell_type": "code",
   "execution_count": null,
   "id": "57015996",
   "metadata": {},
   "outputs": [],
   "source": []
  }
 ],
 "metadata": {
  "kernelspec": {
   "display_name": "Python 3 (ipykernel)",
   "language": "python",
   "name": "python3"
  },
  "language_info": {
   "codemirror_mode": {
    "name": "ipython",
    "version": 3
   },
   "file_extension": ".py",
   "mimetype": "text/x-python",
   "name": "python",
   "nbconvert_exporter": "python",
   "pygments_lexer": "ipython3",
   "version": "3.9.12"
  }
 },
 "nbformat": 4,
 "nbformat_minor": 5
}
