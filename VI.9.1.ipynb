{
 "cells": [
  {
   "cell_type": "markdown",
   "id": "30fe3375",
   "metadata": {},
   "source": [
    "$$4x - cos(x) = 0$$"
   ]
  },
  {
   "cell_type": "code",
   "execution_count": 10,
   "id": "08d9427f",
   "metadata": {},
   "outputs": [],
   "source": [
    "import math\n",
    "import sympy\n",
    "from sympy.abc import x,y\n",
    "from sympy import *\n",
    "init_printing( use_latex='mathjax' )\n",
    "f = Function(\"f\")"
   ]
  },
  {
   "cell_type": "code",
   "execution_count": 11,
   "id": "5b4d09bf",
   "metadata": {},
   "outputs": [],
   "source": [
    "f=[-1,-0.595,0.245,1.122]\n",
    "val=[0,0.1,0.3,0.5]"
   ]
  },
  {
   "cell_type": "markdown",
   "id": "92a63d4a",
   "metadata": {},
   "source": [
    "Строим интерполяционный полином Лагранжа"
   ]
  },
  {
   "cell_type": "code",
   "execution_count": 12,
   "id": "87ba6096",
   "metadata": {},
   "outputs": [
    {
     "data": {
      "text/latex": [
       "$\\displaystyle - 0.934609617534847 \\left(x - 1.122\\right) \\left(x - 0.245\\right) \\left(x + 0.595\\right)$"
      ],
      "text/plain": [
       "-0.934609617534847⋅(x - 1.122)⋅(x - 0.245)⋅(x + 0.595)"
      ]
     },
     "execution_count": 12,
     "metadata": {},
     "output_type": "execute_result"
    }
   ],
   "source": [
    "L_1=Function(\"L_1\")\n",
    "L_1=(x-f[1])*(x-f[2])*(x-f[3])/((f[0]-f[1])*(f[0]-f[2])*(f[0]-f[3]))\n",
    "L_1"
   ]
  },
  {
   "cell_type": "code",
   "execution_count": 13,
   "id": "7cf0fb6e",
   "metadata": {},
   "outputs": [
    {
     "data": {
      "text/latex": [
       "$\\displaystyle 1.7119670261455 \\left(x - 1.122\\right) \\left(x - 0.245\\right) \\left(x + 1\\right)$"
      ],
      "text/plain": [
       "1.7119670261455⋅(x - 1.122)⋅(x - 0.245)⋅(x + 1)"
      ]
     },
     "execution_count": 13,
     "metadata": {},
     "output_type": "execute_result"
    }
   ],
   "source": [
    "L_2=Function(\"L_2\")\n",
    "L_2=(x-f[0])*(x-f[2])*(x-f[3])/((f[1]-f[0])*(f[1]-f[2])*(f[1]-f[3]))\n",
    "L_2"
   ]
  },
  {
   "cell_type": "code",
   "execution_count": 14,
   "id": "c8854555",
   "metadata": {},
   "outputs": [
    {
     "data": {
      "text/latex": [
       "$\\displaystyle - 1.0903144532302 \\left(x - 1.122\\right) \\left(x + 0.595\\right) \\left(x + 1\\right)$"
      ],
      "text/plain": [
       "-1.0903144532302⋅(x - 1.122)⋅(x + 0.595)⋅(x + 1)"
      ]
     },
     "execution_count": 14,
     "metadata": {},
     "output_type": "execute_result"
    }
   ],
   "source": [
    "L_3=Function(\"L_3\")\n",
    "L_3=(x-f[0])*(x-f[1])*(x-f[3])/((f[2]-f[0])*(f[2]-f[1])*(f[2]-f[3]))\n",
    "L_3"
   ]
  },
  {
   "cell_type": "code",
   "execution_count": 15,
   "id": "95f7f964",
   "metadata": {},
   "outputs": [
    {
     "data": {
      "text/latex": [
       "$\\displaystyle 0.312957044619542 \\left(x - 0.245\\right) \\left(x + 0.595\\right) \\left(x + 1\\right)$"
      ],
      "text/plain": [
       "0.312957044619542⋅(x - 0.245)⋅(x + 0.595)⋅(x + 1)"
      ]
     },
     "execution_count": 15,
     "metadata": {},
     "output_type": "execute_result"
    }
   ],
   "source": [
    "L_4=Function(\"L_4\")\n",
    "L_4=(x-f[0])*(x-f[1])*(x-f[2])/((f[3]-f[0])*(f[3]-f[1])*(f[3]-f[2]))\n",
    "L_4"
   ]
  },
  {
   "cell_type": "markdown",
   "id": "a0e79e27",
   "metadata": {},
   "source": [
    "Итоговый многочлен равен"
   ]
  },
  {
   "cell_type": "code",
   "execution_count": 16,
   "id": "ce83792f",
   "metadata": {},
   "outputs": [
    {
     "data": {
      "text/latex": [
       "$\\displaystyle 0.17119670261455 \\left(x - 1.122\\right) \\left(x - 0.245\\right) \\left(x + 1\\right) - 0.327094335969059 \\left(x - 1.122\\right) \\left(x + 0.595\\right) \\left(x + 1\\right) + 0.156478522309771 \\left(x - 0.245\\right) \\left(x + 0.595\\right) \\left(x + 1\\right)$"
      ],
      "text/plain": [
       "0.17119670261455⋅(x - 1.122)⋅(x - 0.245)⋅(x + 1) - 0.327094335969059⋅(x - 1.12\n",
       "2)⋅(x + 0.595)⋅(x + 1) + 0.156478522309771⋅(x - 0.245)⋅(x + 0.595)⋅(x + 1)"
      ]
     },
     "execution_count": 16,
     "metadata": {},
     "output_type": "execute_result"
    }
   ],
   "source": [
    "L=Function(\"L\")\n",
    "L=val[0]*L_1+val[1]*L_2+val[2]*L_3+val[3]*L_4\n",
    "L"
   ]
  },
  {
   "cell_type": "code",
   "execution_count": 17,
   "id": "9cf466dc",
   "metadata": {},
   "outputs": [
    {
     "data": {
      "text/latex": [
       "$\\displaystyle 0.242614512741591$"
      ],
      "text/plain": [
       "0.242614512741591"
      ]
     },
     "execution_count": 17,
     "metadata": {},
     "output_type": "execute_result"
    }
   ],
   "source": [
    "L.subs(x,0)"
   ]
  },
  {
   "cell_type": "markdown",
   "id": "b0515b07",
   "metadata": {},
   "source": [
    "Точное решение:\n",
    "$$0.2426746806416$$"
   ]
  },
  {
   "cell_type": "markdown",
   "id": "bc7f658a",
   "metadata": {},
   "source": [
    "Действительно, ошибка будет равна\n",
    "$$E \\leq \\frac{M_4(f^{-1})}{4!} \\cdot \\underset{[0, 0.5]}{max}|(x)(x-0.1)(x-0.3)(x-0.5)|$$\n",
    "\n",
    "$$\\underset{[0, 0.5]}{max}|(x)(x-0.1)(x-0.3)(x-0.5)| = 0.001295$$\n",
    "\n",
    "$$M_4(f^{-1}) = \\frac{15(f'')^3 - 10 (f')(f'')(f''') + (f')^2(f^{IV})}{(f')^7}$$\n",
    "\n",
    "Вычисляя это значение в Desmos получили значение $M_4 = 0.000315$\n",
    "\n",
    "Итого ошибка:\n",
    "$$E = \\frac{0.000315}{24} \\cdot 0.001295 = 1.6997 \\cdot 10^{-8}$$"
   ]
  },
  {
   "cell_type": "code",
   "execution_count": null,
   "id": "a9275e5a",
   "metadata": {},
   "outputs": [],
   "source": []
  }
 ],
 "metadata": {
  "kernelspec": {
   "display_name": "Python 3 (ipykernel)",
   "language": "python",
   "name": "python3"
  },
  "language_info": {
   "codemirror_mode": {
    "name": "ipython",
    "version": 3
   },
   "file_extension": ".py",
   "mimetype": "text/x-python",
   "name": "python",
   "nbconvert_exporter": "python",
   "pygments_lexer": "ipython3",
   "version": "3.9.12"
  }
 },
 "nbformat": 4,
 "nbformat_minor": 5
}
