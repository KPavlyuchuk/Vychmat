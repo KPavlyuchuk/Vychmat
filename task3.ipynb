{
 "cells": [
  {
   "cell_type": "code",
   "execution_count": 1,
   "id": "fc0c85ae",
   "metadata": {},
   "outputs": [],
   "source": [
    "import sympy\n",
    "from sympy.abc import x,y\n",
    "from sympy import *\n",
    "init_printing( use_latex='mathjax' )\n",
    "f = Function(\"f\")\n",
    "h = symbols(\"h\")\n",
    "x0=symbols(\"x0\")"
   ]
  },
  {
   "cell_type": "code",
   "execution_count": 2,
   "id": "e6bf55ab",
   "metadata": {},
   "outputs": [],
   "source": [
    "def Jeff(X):\n",
    "    SUM=0\n",
    "    TERM=1\n",
    "    i=1\n",
    "    while(SUM+TERM!=SUM):\n",
    "        SUM+=TERM;\n",
    "        TERM*=(-1)*((X/2)**2)/(i**2);\n",
    "        i+=1;\n",
    "    return(SUM)"
   ]
  },
  {
   "cell_type": "markdown",
   "id": "826f4342",
   "metadata": {},
   "source": [
    "Возьмем в качестве функции численного дифференцирования формулу:\n",
    "\n",
    "\\begin{equation}\n",
    "\\frac{f(x+h)-f(x-h)}{2h}\n",
    "\\end{equation}\n",
    "\n",
    "Найдем теперь оптимальный шаг дифференцирования по этой формуле в произвольной точке для нашей функции.\n",
    "Пусть значения функции $J(x)$ известны с погрешностью $\\varepsilon(x)$, $|\\varepsilon(x)| \\leqslant E$. Ошибка, связанная с ошибкой округления значения $J(x)$, не превосходит величины $E = \\varepsilon_{маш}$. Тогда при вычислении производной по нашей формуле возникает погрешность $r$, причем $|r| \\leqslant \\frac{E}{h}$. Тогда суммарно мы имеем погрешность:\n",
    "\n",
    "\\begin{equation}\n",
    "g(h) = \\frac{h^2}{6}+\\frac{E}{h}\n",
    "\\end{equation}\n",
    "\n",
    "Минимум суммарной погрешности достигается в точке $h^*$ экстремума функции $g(h)$. Тогда имеем оптимальный шаг дифференцирования:\n",
    "\n",
    "\\begin{equation}\n",
    "h^* = (3\\varepsilon_{маш})^{\\frac{1}{3}}\n",
    "\\end{equation}"
   ]
  },
  {
   "cell_type": "markdown",
   "id": "6390be40",
   "metadata": {},
   "source": [
    "Для двойной точности чисел $\\varepsilon_1 = 10^{-16}$"
   ]
  },
  {
   "cell_type": "code",
   "execution_count": 3,
   "id": "43ae0dd3",
   "metadata": {},
   "outputs": [],
   "source": [
    "e = symbols(\"e\")"
   ]
  },
  {
   "cell_type": "code",
   "execution_count": 24,
   "id": "c1e9c33a",
   "metadata": {},
   "outputs": [],
   "source": [
    "t = (3*e)**(1/3)"
   ]
  },
  {
   "cell_type": "code",
   "execution_count": 25,
   "id": "e2550e37",
   "metadata": {},
   "outputs": [
    {
     "name": "stdout",
     "output_type": "stream",
     "text": [
      "Оценка оптимального шага при двойной точности это h*= 6.69432950082170e-6\n"
     ]
    }
   ],
   "source": [
    "r=t.subs({e:10**(-16)})\n",
    "print(\"Оценка оптимального шага при двойной точности это h*=\", r)"
   ]
  },
  {
   "cell_type": "markdown",
   "id": "4c3c1f33",
   "metadata": {},
   "source": [
    "Найдем производную функции Бесселя в точке $x = 1$"
   ]
  },
  {
   "cell_type": "code",
   "execution_count": 26,
   "id": "5f156400",
   "metadata": {},
   "outputs": [
    {
     "name": "stdout",
     "output_type": "stream",
     "text": [
      "J(1) = 0.7651976865579666\n"
     ]
    }
   ],
   "source": [
    "s_res1=str(Jeff(1))\n",
    "s_val=str(1)\n",
    "print(\"J(\"+s_val+\") = \"+s_res1)"
   ]
  },
  {
   "cell_type": "code",
   "execution_count": 27,
   "id": "91355697",
   "metadata": {},
   "outputs": [
    {
     "name": "stdout",
     "output_type": "stream",
     "text": [
      "J(1.00000669432950) = 0.765194740707063\n"
     ]
    }
   ],
   "source": [
    "s_res2=str(Jeff(1+r))\n",
    "s_val=str(1+r)\n",
    "print(\"J(\"+s_val+\") = \"+s_res2)"
   ]
  },
  {
   "cell_type": "code",
   "execution_count": 28,
   "id": "5e30506f",
   "metadata": {},
   "outputs": [],
   "source": [
    "s_r1=Jeff(1)\n",
    "s_r2=Jeff(1+r)"
   ]
  },
  {
   "cell_type": "code",
   "execution_count": 30,
   "id": "e5b33880",
   "metadata": {},
   "outputs": [
    {
     "name": "stdout",
     "output_type": "stream",
     "text": [
      "a = -0.440051674060065\n"
     ]
    }
   ],
   "source": [
    "a = str((s_r2 - s_r1)/r)\n",
    "print(\"a = \"+a)"
   ]
  }
 ],
 "metadata": {
  "kernelspec": {
   "display_name": "Python 3 (ipykernel)",
   "language": "python",
   "name": "python3"
  },
  "language_info": {
   "codemirror_mode": {
    "name": "ipython",
    "version": 3
   },
   "file_extension": ".py",
   "mimetype": "text/x-python",
   "name": "python",
   "nbconvert_exporter": "python",
   "pygments_lexer": "ipython3",
   "version": "3.9.12"
  }
 },
 "nbformat": 4,
 "nbformat_minor": 5
}
