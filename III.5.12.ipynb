{
 "cells": [
  {
   "cell_type": "code",
   "execution_count": 1,
   "id": "23699707",
   "metadata": {},
   "outputs": [],
   "source": [
    "import math\n",
    "from sympy.matrices import Matrix\n",
    "import sympy\n",
    "import numpy as np\n",
    "from sympy.abc import x,y\n",
    "from sympy import *\n",
    "init_printing( use_latex='mathjax' )\n",
    "f = Function(\"f\")\n",
    "h = symbols(\"h\")\n",
    "x0=symbols(\"x0\")"
   ]
  },
  {
   "cell_type": "code",
   "execution_count": 2,
   "id": "c0d0e6eb",
   "metadata": {},
   "outputs": [],
   "source": [
    "right=[92228496, 106021537, 123202624, 132164569, 151325798, 179323175, 203211926, 226545805, 248709873, 281421906]"
   ]
  },
  {
   "cell_type": "code",
   "execution_count": 110,
   "id": "82f5e626",
   "metadata": {},
   "outputs": [],
   "source": [
    "N = symbols(\"N\")\n",
    "N = 5"
   ]
  },
  {
   "cell_type": "code",
   "execution_count": 67,
   "id": "1598a35a",
   "metadata": {},
   "outputs": [
    {
     "name": "stdout",
     "output_type": "stream",
     "text": [
      "[1910, 1920, 1930, 1940, 1950, 1960, 1970, 1980, 1990, 2000]\n"
     ]
    }
   ],
   "source": [
    "x = [1910+i*10 for i in range(10)]\n",
    "print (x)"
   ]
  },
  {
   "cell_type": "markdown",
   "id": "50ffaf78",
   "metadata": {},
   "source": [
    "Для пункта в) будет"
   ]
  },
  {
   "cell_type": "code",
   "execution_count": 68,
   "id": "154ae6e1",
   "metadata": {},
   "outputs": [],
   "source": [
    "matrix = []"
   ]
  },
  {
   "cell_type": "code",
   "execution_count": 69,
   "id": "37494079",
   "metadata": {},
   "outputs": [],
   "source": [
    "for i in range(10):\n",
    "    matrix.append([0]*N)"
   ]
  },
  {
   "cell_type": "code",
   "execution_count": 70,
   "id": "1adc5d14",
   "metadata": {},
   "outputs": [],
   "source": [
    "for i in range(0, 10):\n",
    "    for j in range(0, N):\n",
    "        matrix[i][j] = (x[i]-1955)**j"
   ]
  },
  {
   "cell_type": "code",
   "execution_count": 71,
   "id": "e06fe6f9",
   "metadata": {},
   "outputs": [
    {
     "name": "stdout",
     "output_type": "stream",
     "text": [
      "1 -45 \n",
      "1 -35 \n",
      "1 -25 \n",
      "1 -15 \n",
      "1 -5 \n",
      "1 5 \n",
      "1 15 \n",
      "1 25 \n",
      "1 35 \n",
      "1 45 \n"
     ]
    }
   ],
   "source": [
    "for i in range(len(matrix)):\n",
    "    for j in range(len(matrix[i])):\n",
    "        print(matrix[i][j], end = ' ')\n",
    "    print()"
   ]
  },
  {
   "cell_type": "code",
   "execution_count": 72,
   "id": "e43fa1bd",
   "metadata": {},
   "outputs": [],
   "source": [
    "t_matrix = np.transpose(matrix)"
   ]
  },
  {
   "cell_type": "code",
   "execution_count": 73,
   "id": "c85ff35b",
   "metadata": {},
   "outputs": [
    {
     "name": "stdout",
     "output_type": "stream",
     "text": [
      "1 1 1 1 1 1 1 1 1 1 \n",
      "-45 -35 -25 -15 -5 5 15 25 35 45 \n"
     ]
    }
   ],
   "source": [
    "for i in range(len(t_matrix)):\n",
    "    for j in range(len(t_matrix[i])):\n",
    "        print(t_matrix[i][j], end = ' ')\n",
    "    print()"
   ]
  },
  {
   "cell_type": "code",
   "execution_count": 74,
   "id": "3e37a083",
   "metadata": {},
   "outputs": [
    {
     "name": "stdout",
     "output_type": "stream",
     "text": [
      "[[  10    0]\n",
      " [   0 8250]]\n"
     ]
    }
   ],
   "source": [
    "total = t_matrix.dot(matrix)\n",
    "print(total)"
   ]
  },
  {
   "cell_type": "code",
   "execution_count": 75,
   "id": "40bea3da",
   "metadata": {},
   "outputs": [
    {
     "name": "stdout",
     "output_type": "stream",
     "text": [
      "[1744155709  117202791]\n"
     ]
    }
   ],
   "source": [
    "total_r = t_matrix.dot(right)\n",
    "print(total_r)"
   ]
  },
  {
   "cell_type": "code",
   "execution_count": 76,
   "id": "c09c915a",
   "metadata": {},
   "outputs": [
    {
     "data": {
      "text/plain": [
       "array([1.74415571e+08, 1.42063989e+04])"
      ]
     },
     "execution_count": 76,
     "metadata": {},
     "output_type": "execute_result"
    }
   ],
   "source": [
    "np.linalg.solve(total, total_r)"
   ]
  },
  {
   "cell_type": "markdown",
   "id": "a11efc97",
   "metadata": {},
   "source": [
    "Подставляя сюда все значения $N = 2, 3, 4, 5$, получим соответствующего вида полиномы:\n",
    "\n",
    "$$N = 2: 1.74415571 \\cdot 10^8 + 1.42063989\\cdot 10^4 \\cdot (x-1955)$$\n",
    "\n",
    "$$N = 3: 3.99426561 \\cdot 10^8 + 1.42063989\\cdot 10^4 \\cdot (x-1955) - 2.72740594 \\cdot 10^4 \\cdot (x-1955)^2$$\n",
    "\n",
    "$$N = 4: 3.99426561 \\cdot 10^8 + 5.47529166\\cdot 10^2 \\cdot (x-1955) - 2.72740594 \\cdot 10^4 \\cdot (x-1955)^2 + 9.32346058 (x-1955)^3$$\n",
    "\n",
    "$$N = 5: 4.17292362 \\cdot 10^5 + 5.47529166\\cdot 10^2 \\cdot (x-1955) + 7.43134478 \\cdot 10^3 \\cdot (x-1955)^2 + 9.32346058 (x-1955)^3 + 1.38891235 \\cdot 10^2 \\cdot (x-1955)^4$$\n",
    "\n",
    "Ошибки предсказания будут тогда:"
   ]
  },
  {
   "cell_type": "markdown",
   "id": "0d02b22c",
   "metadata": {},
   "source": [
    "$N = 2$"
   ]
  },
  {
   "cell_type": "code",
   "execution_count": 77,
   "id": "e671da9c",
   "metadata": {},
   "outputs": [
    {
     "data": {
      "text/latex": [
       "$\\displaystyle 175196922.9395$"
      ],
      "text/plain": [
       "175196922.9395"
      ]
     },
     "execution_count": 77,
     "metadata": {},
     "output_type": "execute_result"
    }
   ],
   "source": [
    "(1.74415571e+08) + (2010-1955)*(1.42063989e+04)"
   ]
  },
  {
   "cell_type": "markdown",
   "id": "6c004cc6",
   "metadata": {},
   "source": [
    "$N = 3$"
   ]
  },
  {
   "cell_type": "code",
   "execution_count": 78,
   "id": "70032d39",
   "metadata": {},
   "outputs": [
    {
     "data": {
      "text/latex": [
       "$\\displaystyle 317703883.2545$"
      ],
      "text/plain": [
       "317703883.2545"
      ]
     },
     "execution_count": 78,
     "metadata": {},
     "output_type": "execute_result"
    }
   ],
   "source": [
    "(3.99426561e+08) + (2010-1955)*(1.42063989e+04) +((2010-1955)**2)*(-2.72740594e+04)"
   ]
  },
  {
   "cell_type": "markdown",
   "id": "62978cf6",
   "metadata": {},
   "source": [
    "$N = 4$"
   ]
  },
  {
   "cell_type": "code",
   "execution_count": 79,
   "id": "5e1de4b2",
   "metadata": {},
   "outputs": [
    {
     "data": {
      "text/latex": [
       "$\\displaystyle 318503836.173128$"
      ],
      "text/plain": [
       "318503836.17312753"
      ]
     },
     "execution_count": 79,
     "metadata": {},
     "output_type": "execute_result"
    }
   ],
   "source": [
    "(3.99426561e+08) + (2010-1955)*(5.47529166e+02) +((2010-1955)**2)*(-2.72740594e+04) + 9.32346058*((2010-1955)**3)"
   ]
  },
  {
   "cell_type": "markdown",
   "id": "522a3c3c",
   "metadata": {},
   "source": [
    "$N = 5$"
   ]
  },
  {
   "cell_type": "code",
   "execution_count": 80,
   "id": "a18f3c10",
   "metadata": {},
   "outputs": [
    {
     "data": {
      "text/latex": [
       "$\\displaystyle 353890937.542315$"
      ],
      "text/plain": [
       "353890937.54231495"
      ]
     },
     "execution_count": 80,
     "metadata": {},
     "output_type": "execute_result"
    }
   ],
   "source": [
    "(4.17292362e+05) + (2010-1955)*(5.47529166e+02) +((2010-1955)**2)*(7.43134478e+04) + (9.32346058e+00)*((2010-1955)**3) + (1.38891235e+01)*((2010-1955)**4)"
   ]
  },
  {
   "cell_type": "markdown",
   "id": "5248e269",
   "metadata": {},
   "source": [
    "Теперь все тоже самое для г)"
   ]
  },
  {
   "cell_type": "code",
   "execution_count": 111,
   "id": "8665c2ff",
   "metadata": {},
   "outputs": [],
   "source": [
    "matrix1 = []"
   ]
  },
  {
   "cell_type": "code",
   "execution_count": 112,
   "id": "21f978b7",
   "metadata": {},
   "outputs": [],
   "source": [
    "for i in range(10):\n",
    "    matrix1.append([0]*N)"
   ]
  },
  {
   "cell_type": "code",
   "execution_count": 113,
   "id": "c50d6ba7",
   "metadata": {},
   "outputs": [],
   "source": [
    "for i in range(0, 10):\n",
    "    for j in range(0, N):\n",
    "        matrix1[i][j] = ((x[i]-1955)/45)**j"
   ]
  },
  {
   "cell_type": "code",
   "execution_count": 114,
   "id": "c2f188ab",
   "metadata": {},
   "outputs": [
    {
     "name": "stdout",
     "output_type": "stream",
     "text": [
      "1.0 -1.0 1.0 -1.0 1.0 \n",
      "1.0 -0.7777777777777778 0.6049382716049383 -0.4705075445816187 0.3659503124523701 \n",
      "1.0 -0.5555555555555556 0.308641975308642 -0.1714677640603567 0.09525986892242037 \n",
      "1.0 -0.3333333333333333 0.1111111111111111 -0.03703703703703703 0.012345679012345677 \n",
      "1.0 -0.1111111111111111 0.012345679012345678 -0.001371742112482853 0.00015241579027587256 \n",
      "1.0 0.1111111111111111 0.012345679012345678 0.001371742112482853 0.00015241579027587256 \n",
      "1.0 0.3333333333333333 0.1111111111111111 0.03703703703703703 0.012345679012345677 \n",
      "1.0 0.5555555555555556 0.308641975308642 0.1714677640603567 0.09525986892242037 \n",
      "1.0 0.7777777777777778 0.6049382716049383 0.4705075445816187 0.3659503124523701 \n",
      "1.0 1.0 1.0 1.0 1.0 \n"
     ]
    }
   ],
   "source": [
    "for i in range(len(matrix1)):\n",
    "    for j in range(len(matrix1[i])):\n",
    "        print(matrix1[i][j], end = ' ')\n",
    "    print()"
   ]
  },
  {
   "cell_type": "code",
   "execution_count": 115,
   "id": "34d72f45",
   "metadata": {},
   "outputs": [],
   "source": [
    "t_matrix1 = np.transpose(matrix1)"
   ]
  },
  {
   "cell_type": "code",
   "execution_count": 116,
   "id": "4feb5b3d",
   "metadata": {},
   "outputs": [
    {
     "name": "stdout",
     "output_type": "stream",
     "text": [
      "1.0 1.0 1.0 1.0 1.0 1.0 1.0 1.0 1.0 1.0 \n",
      "-1.0 -0.7777777777777778 -0.5555555555555556 -0.3333333333333333 -0.1111111111111111 0.1111111111111111 0.3333333333333333 0.5555555555555556 0.7777777777777778 1.0 \n",
      "1.0 0.6049382716049383 0.308641975308642 0.1111111111111111 0.012345679012345678 0.012345679012345678 0.1111111111111111 0.308641975308642 0.6049382716049383 1.0 \n",
      "-1.0 -0.4705075445816187 -0.1714677640603567 -0.03703703703703703 -0.001371742112482853 0.001371742112482853 0.03703703703703703 0.1714677640603567 0.4705075445816187 1.0 \n",
      "1.0 0.3659503124523701 0.09525986892242037 0.012345679012345677 0.00015241579027587256 0.00015241579027587256 0.012345679012345677 0.09525986892242037 0.3659503124523701 1.0 \n"
     ]
    }
   ],
   "source": [
    "for i in range(len(t_matrix1)):\n",
    "    for j in range(len(t_matrix1[i])):\n",
    "        print(t_matrix1[i][j], end = ' ')\n",
    "    print()"
   ]
  },
  {
   "cell_type": "code",
   "execution_count": 117,
   "id": "43b16e96",
   "metadata": {},
   "outputs": [
    {
     "name": "stdout",
     "output_type": "stream",
     "text": [
      "[[ 1.00000000e+01  3.33066907e-16  4.07407407e+00 -2.22044605e-16\n",
      "   2.94741655e+00]\n",
      " [ 3.33066907e-16  4.07407407e+00  0.00000000e+00  2.94741655e+00\n",
      "   0.00000000e+00]\n",
      " [ 4.07407407e+00  0.00000000e+00  2.94741655e+00  0.00000000e+00\n",
      "   2.50430433e+00]\n",
      " [-2.22044605e-16  2.94741655e+00  0.00000000e+00  2.50430433e+00\n",
      "   0.00000000e+00]\n",
      " [ 2.94741655e+00  0.00000000e+00  2.50430433e+00  0.00000000e+00\n",
      "   2.28629303e+00]]\n"
     ]
    }
   ],
   "source": [
    "total1 = t_matrix1.dot(matrix1)\n",
    "print(total1)"
   ]
  },
  {
   "cell_type": "code",
   "execution_count": 118,
   "id": "e89b0193",
   "metadata": {},
   "outputs": [
    {
     "name": "stdout",
     "output_type": "stream",
     "text": [
      "[1.74415571e+09 3.84379377e+08 7.37534195e+08 2.76719162e+08\n",
      " 5.40972309e+08]\n"
     ]
    }
   ],
   "source": [
    "total_r1 = t_matrix1.dot(right)\n",
    "print(total_r1)"
   ]
  },
  {
   "cell_type": "code",
   "execution_count": 119,
   "id": "67c0104a",
   "metadata": {},
   "outputs": [
    {
     "data": {
      "text/plain": [
       "array([ 1.65421570e+08,  9.69980016e+07,  2.49415057e+07, -3.66343405e+06,\n",
       "       -3.96059666e+06])"
      ]
     },
     "execution_count": 119,
     "metadata": {},
     "output_type": "execute_result"
    }
   ],
   "source": [
    "np.linalg.solve(total1, total_r1)"
   ]
  },
  {
   "cell_type": "markdown",
   "id": "e0748ff0",
   "metadata": {},
   "source": [
    "Подставляя сюда все значения $N = 2, 3, 4, 5$, получим соответствующего вида полиномы:\n",
    "\n",
    "$$N = 2: 1.74415571 \\cdot 10^8 + 9.43476653 \\cdot 10^7 \\cdot \\frac{x-1955}{45}$$\n",
    "\n",
    "$$N = 3: 1.65887714 \\cdot 10^8 + 9.43476653 \\cdot 10^7 \\cdot \\frac{x-1955}{45} + 2.09320128 \\cdot 10^7 \\cdot (\\frac{x-1955}{45})^2$$\n",
    "\n",
    "$$N = 4: 1.65887714 \\cdot 10^8 + 9.69980016 \\cdot 10^7 \\cdot \\frac{x-1955}{45} + 2.09320128 \\cdot 10^7 \\cdot (\\frac{x-1955}{45})^2 - 3.66343405 \\cdot 10^6 \\cdot (\\frac{x-1955}{45})^3$$\n",
    "\n",
    "$$N = 5: 1.65421570 \\cdot 10^8 + 9.69980016 \\cdot 10^7 \\cdot \\frac{x-1955}{45} + 2.49415057 \\cdot 10^7 \\cdot (\\frac{x-1955}{45})^2 - 3.66343405 \\cdot 10^6 \\cdot (\\frac{x-1955}{45})^3 - 3.96059666 \\cdot 10^6 \\cdot (\\frac{x-1955}{45})^4$$\n",
    "\n",
    "Ошибки предсказания будут тогда:"
   ]
  },
  {
   "cell_type": "markdown",
   "id": "00e2b3c6",
   "metadata": {},
   "source": [
    "$N = 2$"
   ]
  },
  {
   "cell_type": "code",
   "execution_count": 120,
   "id": "69d39cb5",
   "metadata": {},
   "outputs": [
    {
     "data": {
      "text/latex": [
       "$\\displaystyle 289729384.144444$"
      ],
      "text/plain": [
       "289729384.14444447"
      ]
     },
     "execution_count": 120,
     "metadata": {},
     "output_type": "execute_result"
    }
   ],
   "source": [
    "(1.74415571e+08) + ((2010-1955)/45)*(9.43476653e+07)"
   ]
  },
  {
   "cell_type": "markdown",
   "id": "e2ae4d53",
   "metadata": {},
   "source": [
    "$N = 3$"
   ]
  },
  {
   "cell_type": "code",
   "execution_count": 121,
   "id": "1bf2d1df",
   "metadata": {},
   "outputs": [
    {
     "data": {
      "text/latex": [
       "$\\displaystyle 312470336.388889$"
      ],
      "text/plain": [
       "312470336.3888889"
      ]
     },
     "execution_count": 121,
     "metadata": {},
     "output_type": "execute_result"
    }
   ],
   "source": [
    "(1.65887714e+08) + ((2010-1955)/45)*(9.43476653e+07) + (2.09320128e+07)*(((2010-1955)/45)**2)"
   ]
  },
  {
   "cell_type": "markdown",
   "id": "6807e770",
   "metadata": {},
   "source": [
    "$N = 4$"
   ]
  },
  {
   "cell_type": "code",
   "execution_count": 122,
   "id": "e2c7f49d",
   "metadata": {},
   "outputs": [
    {
     "data": {
      "text/latex": [
       "$\\displaystyle 309020979.629973$"
      ],
      "text/plain": [
       "309020979.6299725"
      ]
     },
     "execution_count": 122,
     "metadata": {},
     "output_type": "execute_result"
    }
   ],
   "source": [
    "(1.65887714e+08) + ((2010-1955)/45)*(9.69980016e+07) + (2.09320128e+07)*(((2010-1955)/45)**2) + (-3.66343405e+06)*(((2010-1955)/45)**3)"
   ]
  },
  {
   "cell_type": "markdown",
   "id": "750790e7",
   "metadata": {},
   "source": [
    "$N = 5$"
   ]
  },
  {
   "cell_type": "code",
   "execution_count": 123,
   "id": "07bcc6b4",
   "metadata": {},
   "outputs": [
    {
     "data": {
      "text/latex": [
       "$\\displaystyle 305706176.007025$"
      ],
      "text/plain": [
       "305706176.0070248"
      ]
     },
     "execution_count": 123,
     "metadata": {},
     "output_type": "execute_result"
    }
   ],
   "source": [
    "(1.65421570e+08) + ((2010-1955)/45)*(9.69980016e+07) + (2.49415057e+07)*(((2010-1955)/45)**2) + (-3.66343405e+06)*(((2010-1955)/45)**3) + (-3.96059666e+06)*(((2010-1955)/45)**4)"
   ]
  },
  {
   "cell_type": "markdown",
   "id": "5311ad95",
   "metadata": {},
   "source": [
    "Используя построенные приближения для предсказания численности населения США в 2010 году и сравнив с точным результатом в\n",
    "$\\textbf{308745538}$ человек убеждаемся, что используя многочлены аппроксимация данных в смысле МНК дает хорошую точность"
   ]
  },
  {
   "cell_type": "code",
   "execution_count": null,
   "id": "24266b52",
   "metadata": {},
   "outputs": [],
   "source": []
  }
 ],
 "metadata": {
  "kernelspec": {
   "display_name": "Python 3 (ipykernel)",
   "language": "python",
   "name": "python3"
  },
  "language_info": {
   "codemirror_mode": {
    "name": "ipython",
    "version": 3
   },
   "file_extension": ".py",
   "mimetype": "text/x-python",
   "name": "python",
   "nbconvert_exporter": "python",
   "pygments_lexer": "ipython3",
   "version": "3.9.12"
  }
 },
 "nbformat": 4,
 "nbformat_minor": 5
}
