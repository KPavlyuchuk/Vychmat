{
 "cells": [
  {
   "cell_type": "code",
   "execution_count": 1,
   "id": "23699707",
   "metadata": {},
   "outputs": [],
   "source": [
    "import math\n",
    "from sympy.matrices import Matrix\n",
    "import sympy\n",
    "import numpy as np\n",
    "from sympy.abc import x,y\n",
    "from sympy import *\n",
    "init_printing( use_latex='mathjax' )\n",
    "f = Function(\"f\")\n",
    "h = symbols(\"h\")\n",
    "x0=symbols(\"x0\")"
   ]
  },
  {
   "cell_type": "code",
   "execution_count": 2,
   "id": "c0d0e6eb",
   "metadata": {},
   "outputs": [],
   "source": [
    "right=[92228496, 106021537, 123202624, 132164569, 151325798, 179323175, 203211926, 226545805, 248709873, 281421906]"
   ]
  },
  {
   "cell_type": "code",
   "execution_count": 3,
   "id": "82f5e626",
   "metadata": {},
   "outputs": [],
   "source": [
    "N = symbols(\"N\")\n",
    "N = 3"
   ]
  },
  {
   "cell_type": "code",
   "execution_count": 4,
   "id": "1598a35a",
   "metadata": {},
   "outputs": [
    {
     "name": "stdout",
     "output_type": "stream",
     "text": [
      "[1910, 1920, 1930, 1940, 1950, 1960, 1970, 1980, 1990, 2000]\n"
     ]
    }
   ],
   "source": [
    "x = [1910+i*10 for i in range(10)]\n",
    "print (x)"
   ]
  },
  {
   "cell_type": "markdown",
   "id": "50ffaf78",
   "metadata": {},
   "source": [
    "Для пункта в) будет"
   ]
  },
  {
   "cell_type": "code",
   "execution_count": 5,
   "id": "154ae6e1",
   "metadata": {},
   "outputs": [],
   "source": [
    "matrix = []"
   ]
  },
  {
   "cell_type": "code",
   "execution_count": 6,
   "id": "37494079",
   "metadata": {},
   "outputs": [],
   "source": [
    "for i in range(10):\n",
    "    matrix.append([0]*N)"
   ]
  },
  {
   "cell_type": "code",
   "execution_count": 7,
   "id": "1adc5d14",
   "metadata": {},
   "outputs": [],
   "source": [
    "for i in range(0, 10):\n",
    "    for j in range(0, N):\n",
    "        matrix[i][j] = (x[i]-1955)**j"
   ]
  },
  {
   "cell_type": "code",
   "execution_count": 8,
   "id": "e06fe6f9",
   "metadata": {},
   "outputs": [
    {
     "name": "stdout",
     "output_type": "stream",
     "text": [
      "1 -45 2025 \n",
      "1 -35 1225 \n",
      "1 -25 625 \n",
      "1 -15 225 \n",
      "1 -5 25 \n",
      "1 5 25 \n",
      "1 15 225 \n",
      "1 25 625 \n",
      "1 35 1225 \n",
      "1 45 2025 \n"
     ]
    }
   ],
   "source": [
    "for i in range(len(matrix)):\n",
    "    for j in range(len(matrix[i])):\n",
    "        print(matrix[i][j], end = ' ')\n",
    "    print()"
   ]
  },
  {
   "cell_type": "code",
   "execution_count": 9,
   "id": "e43fa1bd",
   "metadata": {},
   "outputs": [],
   "source": [
    "t_matrix = np.transpose(matrix)"
   ]
  },
  {
   "cell_type": "code",
   "execution_count": 10,
   "id": "c85ff35b",
   "metadata": {},
   "outputs": [
    {
     "name": "stdout",
     "output_type": "stream",
     "text": [
      "1 1 1 1 1 1 1 1 1 1 \n",
      "-45 -35 -25 -15 -5 5 15 25 35 45 \n",
      "2025 1225 625 225 25 25 225 625 1225 2025 \n"
     ]
    }
   ],
   "source": [
    "for i in range(len(t_matrix)):\n",
    "    for j in range(len(t_matrix[i])):\n",
    "        print(t_matrix[i][j], end = ' ')\n",
    "    print()"
   ]
  },
  {
   "cell_type": "code",
   "execution_count": 11,
   "id": "3e37a083",
   "metadata": {},
   "outputs": [
    {
     "name": "stdout",
     "output_type": "stream",
     "text": [
      "[[      10        0     8250]\n",
      " [       0     8250        0]\n",
      " [    8250        0 12086250]]\n"
     ]
    }
   ],
   "source": [
    "total = t_matrix.dot(matrix)\n",
    "print(total)"
   ]
  },
  {
   "cell_type": "code",
   "execution_count": 12,
   "id": "40bea3da",
   "metadata": {},
   "outputs": [
    {
     "name": "stdout",
     "output_type": "stream",
     "text": [
      "[ 1744155709   117202791 -1141873883]\n"
     ]
    }
   ],
   "source": [
    "total_r = t_matrix.dot(right)\n",
    "print(total_r)"
   ]
  },
  {
   "cell_type": "code",
   "execution_count": 13,
   "id": "c09c915a",
   "metadata": {},
   "outputs": [
    {
     "data": {
      "text/plain": [
       "array([ 3.99426561e+08,  1.42063989e+04, -2.72740594e+05])"
      ]
     },
     "execution_count": 13,
     "metadata": {},
     "output_type": "execute_result"
    }
   ],
   "source": [
    "np.linalg.solve(total, total_r)"
   ]
  },
  {
   "cell_type": "markdown",
   "id": "5248e269",
   "metadata": {},
   "source": [
    "Теперь все тоже самое для г)"
   ]
  },
  {
   "cell_type": "code",
   "execution_count": 19,
   "id": "8665c2ff",
   "metadata": {},
   "outputs": [],
   "source": [
    "matrix1 = []"
   ]
  },
  {
   "cell_type": "code",
   "execution_count": 20,
   "id": "21f978b7",
   "metadata": {},
   "outputs": [],
   "source": [
    "for i in range(10):\n",
    "    matrix1.append([0]*N)"
   ]
  },
  {
   "cell_type": "code",
   "execution_count": 21,
   "id": "c50d6ba7",
   "metadata": {},
   "outputs": [],
   "source": [
    "for i in range(0, 10):\n",
    "    for j in range(0, N):\n",
    "        matrix1[i][j] = ((x[i]-1955)/45)**j"
   ]
  },
  {
   "cell_type": "code",
   "execution_count": 22,
   "id": "c2f188ab",
   "metadata": {},
   "outputs": [
    {
     "name": "stdout",
     "output_type": "stream",
     "text": [
      "1.0 -1.0 1.0 \n",
      "1.0 -0.7777777777777778 0.6049382716049383 \n",
      "1.0 -0.5555555555555556 0.308641975308642 \n",
      "1.0 -0.3333333333333333 0.1111111111111111 \n",
      "1.0 -0.1111111111111111 0.012345679012345678 \n",
      "1.0 0.1111111111111111 0.012345679012345678 \n",
      "1.0 0.3333333333333333 0.1111111111111111 \n",
      "1.0 0.5555555555555556 0.308641975308642 \n",
      "1.0 0.7777777777777778 0.6049382716049383 \n",
      "1.0 1.0 1.0 \n"
     ]
    }
   ],
   "source": [
    "for i in range(len(matrix1)):\n",
    "    for j in range(len(matrix1[i])):\n",
    "        print(matrix1[i][j], end = ' ')\n",
    "    print()"
   ]
  },
  {
   "cell_type": "code",
   "execution_count": 23,
   "id": "34d72f45",
   "metadata": {},
   "outputs": [],
   "source": [
    "t_matrix1 = np.transpose(matrix1)"
   ]
  },
  {
   "cell_type": "code",
   "execution_count": 24,
   "id": "4feb5b3d",
   "metadata": {},
   "outputs": [
    {
     "name": "stdout",
     "output_type": "stream",
     "text": [
      "1.0 1.0 1.0 1.0 1.0 1.0 1.0 1.0 1.0 1.0 \n",
      "-1.0 -0.7777777777777778 -0.5555555555555556 -0.3333333333333333 -0.1111111111111111 0.1111111111111111 0.3333333333333333 0.5555555555555556 0.7777777777777778 1.0 \n",
      "1.0 0.6049382716049383 0.308641975308642 0.1111111111111111 0.012345679012345678 0.012345679012345678 0.1111111111111111 0.308641975308642 0.6049382716049383 1.0 \n"
     ]
    }
   ],
   "source": [
    "for i in range(len(t_matrix1)):\n",
    "    for j in range(len(t_matrix1[i])):\n",
    "        print(t_matrix1[i][j], end = ' ')\n",
    "    print()"
   ]
  },
  {
   "cell_type": "code",
   "execution_count": 25,
   "id": "43b16e96",
   "metadata": {},
   "outputs": [
    {
     "name": "stdout",
     "output_type": "stream",
     "text": [
      "[[ 1.00000000e+01 -1.11022302e-16  4.07407407e+00]\n",
      " [-1.11022302e-16  4.07407407e+00  1.11022302e-16]\n",
      " [ 4.07407407e+00  1.11022302e-16  2.94741655e+00]]\n"
     ]
    }
   ],
   "source": [
    "total1 = t_matrix1.dot(matrix1)\n",
    "print(total1)"
   ]
  },
  {
   "cell_type": "code",
   "execution_count": 26,
   "id": "e89b0193",
   "metadata": {},
   "outputs": [
    {
     "name": "stdout",
     "output_type": "stream",
     "text": [
      "[1.74415571e+09 3.84379377e+08 7.37534195e+08]\n"
     ]
    }
   ],
   "source": [
    "total_r1 = t_matrix1.dot(right)\n",
    "print(total_r1)"
   ]
  },
  {
   "cell_type": "code",
   "execution_count": 27,
   "id": "67c0104a",
   "metadata": {},
   "outputs": [
    {
     "data": {
      "text/plain": [
       "array([1.65887714e+08, 9.43476653e+07, 2.09320128e+07])"
      ]
     },
     "execution_count": 27,
     "metadata": {},
     "output_type": "execute_result"
    }
   ],
   "source": [
    "np.linalg.solve(total1, total_r1)"
   ]
  },
  {
   "cell_type": "markdown",
   "id": "5311ad95",
   "metadata": {},
   "source": [
    "Используя построенные приближения для предсказания численности населения США в 2010 году и сравним с точным результатом в\n",
    "$\\textbf{308745538}$ человек"
   ]
  },
  {
   "cell_type": "markdown",
   "id": "d9a76e10",
   "metadata": {},
   "source": [
    "В случае в) получили"
   ]
  },
  {
   "cell_type": "code",
   "execution_count": 18,
   "id": "70032d39",
   "metadata": {},
   "outputs": [
    {
     "data": {
      "text/latex": [
       "$\\displaystyle 317703883.2545$"
      ],
      "text/plain": [
       "317703883.2545"
      ]
     },
     "execution_count": 18,
     "metadata": {},
     "output_type": "execute_result"
    }
   ],
   "source": [
    "(3.99426561e+08) + (2010-1955)*(1.42063989e+04) +((2010-1955)**2)*(-2.72740594e+04)"
   ]
  },
  {
   "cell_type": "markdown",
   "id": "2df61126",
   "metadata": {},
   "source": [
    "В случае г) получили"
   ]
  },
  {
   "cell_type": "code",
   "execution_count": 29,
   "id": "7eaba56d",
   "metadata": {},
   "outputs": [
    {
     "data": {
      "text/latex": [
       "$\\displaystyle 312470336.388889$"
      ],
      "text/plain": [
       "312470336.3888889"
      ]
     },
     "execution_count": 29,
     "metadata": {},
     "output_type": "execute_result"
    }
   ],
   "source": [
    "(1.65887714e+08) + ((2010-1955)/45)*(9.43476653e+07) +(((2010-1955)/45)**2)*(2.09320128e+07)"
   ]
  },
  {
   "cell_type": "markdown",
   "id": "9249a5b4",
   "metadata": {},
   "source": [
    "Используя многочлены аппроксимация данных в смысле МНК дает хорошую точность"
   ]
  }
 ],
 "metadata": {
  "kernelspec": {
   "display_name": "Python 3 (ipykernel)",
   "language": "python",
   "name": "python3"
  },
  "language_info": {
   "codemirror_mode": {
    "name": "ipython",
    "version": 3
   },
   "file_extension": ".py",
   "mimetype": "text/x-python",
   "name": "python",
   "nbconvert_exporter": "python",
   "pygments_lexer": "ipython3",
   "version": "3.9.12"
  }
 },
 "nbformat": 4,
 "nbformat_minor": 5
}
