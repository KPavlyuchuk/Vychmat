{
 "cells": [
  {
   "cell_type": "markdown",
   "id": "cab71d00",
   "metadata": {},
   "source": [
    "У нас дана матрица $\\begin{equation*}\n",
    "A = \\left(\n",
    "\\begin{array}{ccc}\n",
    "\\alpha & \\beta & 0\\\\\n",
    "\\beta & \\alpha & \\beta\\\\\n",
    "0 & \\beta & \\alpha\n",
    "\\end{array}\n",
    "\\right)\n",
    "\\end{equation*}$"
   ]
  },
  {
   "cell_type": "markdown",
   "id": "d2eefe83",
   "metadata": {},
   "source": [
    "1) Из критерия сходимости методя Якоби получим что все корни данного уравнения должны быть по модулю меньше 1:\n",
    "\n",
    "\\begin{equation}\n",
    "det\\left(\n",
    "\\begin{array}{ccc}\n",
    "\\alpha \\cdot \\lambda & \\beta & 0\\\\\n",
    "\\beta & \\alpha \\cdot \\lambda & \\beta\\\\\n",
    "0 & \\beta & \\alpha \\cdot \\lambda\n",
    "\\end{array}\n",
    "\\right) = 0 \\rightarrow \\alpha^3\\lambda^3 - 2\\alpha \\beta^2 \\lambda = 0\n",
    "\\end{equation}\n",
    "\n",
    "Откуда находим корни:\n",
    "\n",
    "\\begin{equation}\n",
    "\\lambda_1 = 0, \\lambda^2_{2,3} = \\frac{2\\alpha\\beta^2}{\\alpha^3} = \\frac{2\\beta^2}{\\alpha^2}\n",
    "\\end{equation}\n",
    "\n",
    "Теперь зная условия на корни получаем ответ что метод Якоби для систем с матрицами такого вида сходится при:\n",
    "\n",
    "\\begin{equation}\n",
    "\\frac{2\\beta^2}{\\alpha^2} < 1 \\rightarrow 2\\beta^2 < \\alpha^2\n",
    "\\end{equation}"
   ]
  },
  {
   "cell_type": "markdown",
   "id": "3c020040",
   "metadata": {},
   "source": [
    "2) Из критерия сходимости методя Зейделя получим что все корни данного уравнения должны быть по модулю меньше 1:\n",
    "\n",
    "\\begin{equation}\n",
    "det\\left(\n",
    "\\begin{array}{ccc}\n",
    "\\alpha \\cdot \\lambda & \\beta & 0\\\\\n",
    "\\beta \\cdot \\lambda & \\alpha \\cdot \\lambda & \\beta\\\\\n",
    "0 & \\beta \\cdot \\lambda & \\alpha \\cdot \\lambda\n",
    "\\end{array}\n",
    "\\right) = 0 \\rightarrow \\alpha^3\\lambda^3 - 2\\alpha \\beta^2 \\lambda^2 = 0\n",
    "\\end{equation}\n",
    "\n",
    "Откуда находим корни:\n",
    "\n",
    "\\begin{equation}\n",
    "\\lambda_{1,2} = 0, \\lambda^2_3 = \\frac{2\\alpha\\beta^2}{\\alpha^3} = \\frac{2\\beta^2}{\\alpha^2}\n",
    "\\end{equation}\n",
    "\n",
    "Теперь зная условия на корни получаем ответ что метод Якоби для систем с матрицами такого вида сходится при:\n",
    "\n",
    "\\begin{equation}\n",
    "\\frac{2\\beta^2}{\\alpha^2} < 1 \\rightarrow 2\\beta^2 < \\alpha^2\n",
    "\\end{equation}"
   ]
  },
  {
   "cell_type": "code",
   "execution_count": null,
   "id": "0acfc82a",
   "metadata": {},
   "outputs": [],
   "source": []
  }
 ],
 "metadata": {
  "kernelspec": {
   "display_name": "Python 3 (ipykernel)",
   "language": "python",
   "name": "python3"
  },
  "language_info": {
   "codemirror_mode": {
    "name": "ipython",
    "version": 3
   },
   "file_extension": ".py",
   "mimetype": "text/x-python",
   "name": "python",
   "nbconvert_exporter": "python",
   "pygments_lexer": "ipython3",
   "version": "3.9.12"
  }
 },
 "nbformat": 4,
 "nbformat_minor": 5
}
