{
 "cells": [
  {
   "cell_type": "markdown",
   "id": "91e3377a",
   "metadata": {},
   "source": [
    "Мы рассматриваем уравнение переноса:\n",
    "\n",
    "$$\\frac{\\partial u}{\\partial t} + \\gamma \\frac{\\partial u}{\\partial x} = 0$$\n",
    "\n",
    "Сразу пару следствий из него:\n",
    "\n",
    "$$\\frac{\\partial^2 u}{\\partial t^2} = \\gamma^2 \\frac{\\partial^2 u}{\\partial x^2}, \\frac{\\partial^2 u}{\\partial t \\partial x} = -\\gamma \\frac{\\partial^2 u}{\\partial x^2}, \\frac{\\partial^3 u}{\\partial t \\partial x^2} = - \\gamma \\frac{\\partial^3 u}{\\partial x^3}, \\frac{\\partial^3 u}{\\partial t^2 \\partial x} = \\gamma^2 \\frac{\\partial^3 u}{\\partial x^3}, \\frac{\\partial^3 u}{\\partial t^3} = - \\gamma^3 \\frac{\\partial^3 u}{\\partial x^3}$$\n",
    "\n",
    "Пользуясь методом неопределенных коэффициентов построим схему максимального порядка аппроксмации:\n",
    "\n",
    "$$a \\cdot y(t + \\Delta t, x) + b\\cdot y(t, x) + c \\cdot y(t, x - \\Delta x) + d\\cdot y(t + \\Delta t, x - \\Delta x) = 0$$\n",
    "\n",
    "Разложим по Тейлору и начнем упрощать:\n",
    "\n",
    "$$a\\left(y + \\Delta t y'_t + \\frac{(\\Delta t)^2}{2} y''_{tt} + \\frac{(\\Delta t)^3}{6} y'''_{ttt} + O\\left((\\Delta t)^4\\right)\\right) + b y + c \\left(y - \\Delta x y'_x + \\frac{(\\Delta x)^2}{2} y''_{xx} - \\frac{(\\Delta x)^3}{6} y'''_{xxx} + O\\left((\\Delta x)^4\\right)\\right) + d \\left(y + \\Delta t y'_t - \\Delta x y'_x + \\frac{1}{2}\\left((\\Delta t)^2 y''_{tt} - 2 \\Delta t \\Delta x y''_{tx} + (\\Delta x)^2 y''_{xx} \\right) + \\frac{1}{6} \\left((\\Delta t)^3 y'''_{ttt} - 3(\\Delta t)^2 \\Delta x y'''_{ttx} + 3 \\Delta t (\\Delta x)^2 y'''_{txx} - (\\Delta x)^3 y'''_{xxx} \\right) + O\\left((\\Delta t)^4, (\\Delta x)^4\\right)\\right) = 0$$\n",
    "\n",
    "Приведем подобные и подставим следствия:\n",
    "\n",
    "$$(a + b + c + d) y + \\left(a \\Delta t (-\\gamma) - c \\Delta x + d \\Delta t (-\\gamma) - d \\Delta x \\right)y'_x + \\left(a\\frac{(\\Delta t)^2}{2} \\gamma^2 + c\\frac{(\\Delta x)^2}{2} + d \\frac{(\\Delta t)^2}{2} \\gamma^2 + d \\gamma \\Delta t \\Delta x + d\\frac{(\\Delta x)^2}{2} \\right)y''_{xx} + \\left(a\\frac{(\\Delta t)^3}{6} (-\\gamma^3) - c\\frac{(\\Delta x)^3}{6} + d \\left( \\frac{(\\Delta t)^3}{6} (-\\gamma^3) - \\frac{1}{2}\\gamma^2 (\\Delta t)^2 \\Delta x - \\frac{1}{2}\\gamma \\Delta t (\\Delta x)^2 -\\frac{(\\Delta x)^3}{6}\\right)\\right)y'''_{xxx} + O\\left((\\Delta t)^4, (\\Delta x)^4\\right) = 0$$\n",
    "\n",
    "Получаем систему уравнений на коэффициенты:\n",
    "\n",
    "\\begin{equation*}\n",
    " \\begin{cases}\n",
    "   a + b + c + d = 0\\\\\n",
    "   a \\Delta t (-\\gamma) - c \\Delta x + d \\Delta t (-\\gamma) - d \\Delta x = 0\\\\\n",
    "   a\\frac{(\\Delta t)^2}{2} \\gamma^2 + c\\frac{(\\Delta x)^2}{2} + d \\frac{(\\Delta t)^2}{2} \\gamma^2 + d \\gamma \\Delta t \\Delta x + d\\frac{(\\Delta x)^2}{2} = 0\\\\\n",
    "   a\\frac{(\\Delta t)^3}{6} (-\\gamma^3) - c\\frac{(\\Delta x)^3}{6} + d \\left( \\frac{(\\Delta t)^3}{6} (-\\gamma^3) - \\frac{1}{2}\\gamma^2 (\\Delta t)^2 \\Delta x - \\frac{1}{2}\\gamma \\Delta t (\\Delta x)^2 -\\frac{(\\Delta x)^3}{6}\\right) = 0\n",
    " \\end{cases}\n",
    "\\end{equation*}\n",
    "\n",
    "Решая её получим следущий результат:\n",
    "\n",
    "\\begin{equation*}\n",
    " \\begin{cases}\n",
    "   a = \\frac{1}{\\Delta t}\\\\\n",
    "   d = \\frac{\\Delta x - \\gamma \\Delta t}{\\gamma (\\Delta t)^2 + \\Delta t \\Delta x}\\\\\n",
    "   c = - \\frac{\\Delta x}{\\Delta t}\\\\\n",
    "   b = -\\frac{1}{\\Delta t} + \\frac{\\Delta x}{\\Delta t} - \\frac{\\Delta x - \\gamma \\Delta t}{\\gamma (\\Delta t)^2 + \\Delta t \\Delta x}\n",
    " \\end{cases}\n",
    "\\end{equation*}\n",
    "\n",
    "Подставляя их обратно в выражение получим ассимптотику: $O\\left((\\Delta t)^2, (\\Delta x)^2\\right)$"
   ]
  }
 ],
 "metadata": {
  "kernelspec": {
   "display_name": "Python 3 (ipykernel)",
   "language": "python",
   "name": "python3"
  },
  "language_info": {
   "codemirror_mode": {
    "name": "ipython",
    "version": 3
   },
   "file_extension": ".py",
   "mimetype": "text/x-python",
   "name": "python",
   "nbconvert_exporter": "python",
   "pygments_lexer": "ipython3",
   "version": "3.9.12"
  }
 },
 "nbformat": 4,
 "nbformat_minor": 5
}
