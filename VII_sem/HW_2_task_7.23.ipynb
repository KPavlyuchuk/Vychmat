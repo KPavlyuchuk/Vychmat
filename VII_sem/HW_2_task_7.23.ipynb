{
 "cells": [
  {
   "cell_type": "markdown",
   "id": "89352e6a",
   "metadata": {},
   "source": [
    "Дана схема\n",
    "\n",
    "$$\\frac{y(t + \\Delta t, x) - \\frac{1}{2}\\left(y(t, x + \\Delta x) + y(t, x - \\Delta x)\\right)}{\\Delta t} + \\alpha \\frac{y(t, x + \\Delta x) - y(t, x - \\Delta x)}{2\\Delta x} = f(t,x)$$\n",
    "\n",
    "Разложим её по Тейлору\n",
    "\n",
    "$$\\frac{y(t, x) + \\Delta t \\cdot y'_t + \\frac{(\\Delta t)^2}{2} \\cdot y''_t + O((\\Delta t)^3) - \\frac{1}{2}\\left(y(t, x) + \\Delta x \\cdot y'_x + \\frac{(\\Delta x)^2}{2} \\cdot y''_x + O((\\Delta x)^3) + y(t, x) - \\Delta x \\cdot y'_x + \\frac{(\\Delta x)^2}{2} \\cdot y''_x + O((\\Delta x)^3)\\right)}{\\Delta t} + \\alpha y'_x + O((\\Delta x)^2) = f(t,x)$$\n",
    "\n",
    "Сокращая что сокращается приходим к виду:\n",
    "\n",
    "$$\\frac{\\Delta t \\cdot y'_t + \\frac{(\\Delta t)^2}{2} \\cdot y''_t + O((\\Delta t)^3) - \\frac{1}{2}\\left(\\frac{(\\Delta x)^2}{2} \\cdot y''_x + O((\\Delta x)^3) + \\frac{(\\Delta x)^2}{2} \\cdot y''_x + O((\\Delta x)^3)\\right)}{\\Delta t} + \\alpha y'_x + O((\\Delta x)^2) = f(t,x)$$\n",
    "\n",
    "$$y'_t + \\frac{\\Delta t}{2} \\cdot y''_t + O((\\Delta t)^2) - \\left(\\frac{(\\Delta x)^2}{2 \\cdot \\Delta t} \\cdot y''_x + O\\left(\\frac{(\\Delta x)^3}{\\Delta t}\\right)\\right) + \\alpha y'_x + O((\\Delta x)^2) = f(t,x)$$"
   ]
  },
  {
   "cell_type": "markdown",
   "id": "e0c81def",
   "metadata": {},
   "source": [
    "а) Считая $\\frac{\\Delta t}{\\Delta x} = r = const$ получим что наша разностная схема аппроксимирует уравнение:\n",
    "\n",
    "$$\\frac{\\partial u}{\\partial t} + \\alpha \\frac{\\partial u}{\\partial x} = f$$\n",
    "\n",
    "И т.к.\n",
    "\n",
    "$$y'_t + \\frac{\\Delta t}{2} \\cdot y''_t + O((\\Delta t)^2) - \\frac{\\Delta x}{2 \\cdot r} \\cdot y''_x + \\alpha y'_x + O((\\Delta x)^2) = f(t,x)$$\n",
    "\n",
    "Тогда порядок аппроксимации $O(\\Delta t, \\Delta x)$"
   ]
  },
  {
   "cell_type": "markdown",
   "id": "eaf11447",
   "metadata": {},
   "source": [
    "б) Считая $\\frac{\\Delta t}{(\\Delta x)^2} = r = const$ получим что наша разностная схема аппроксимирует уравнение:\n",
    "\n",
    "$$\\frac{\\partial u}{\\partial t} - \\frac{1}{2r}\\frac{\\partial^2 u}{\\partial x^2} + \\alpha \\frac{\\partial u}{\\partial x} = f$$\n",
    "\n",
    "И т.к.\n",
    "\n",
    "$$y'_t + \\frac{\\Delta t}{2} \\cdot y''_t + O((\\Delta t)^2) - \\frac{1}{2 \\cdot r} \\cdot y''_x + \\alpha y'_x + O(\\Delta x) = f(t,x)$$\n",
    "\n",
    "Тогда порядок аппроксимации $O(\\Delta t, \\Delta x)$"
   ]
  },
  {
   "cell_type": "code",
   "execution_count": null,
   "id": "2ddbe876",
   "metadata": {},
   "outputs": [],
   "source": []
  }
 ],
 "metadata": {
  "kernelspec": {
   "display_name": "Python 3 (ipykernel)",
   "language": "python",
   "name": "python3"
  },
  "language_info": {
   "codemirror_mode": {
    "name": "ipython",
    "version": 3
   },
   "file_extension": ".py",
   "mimetype": "text/x-python",
   "name": "python",
   "nbconvert_exporter": "python",
   "pygments_lexer": "ipython3",
   "version": "3.9.12"
  }
 },
 "nbformat": 4,
 "nbformat_minor": 5
}
