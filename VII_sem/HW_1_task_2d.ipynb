{
 "cells": [
  {
   "cell_type": "code",
   "execution_count": 1,
   "id": "7e71f567",
   "metadata": {},
   "outputs": [],
   "source": [
    "import math\n",
    "import sympy\n",
    "import numpy as np\n",
    "from sympy.abc import x,y\n",
    "from sympy import *\n",
    "import matplotlib.pyplot as plt\n",
    "init_printing( use_latex='mathjax' )\n",
    "f = Function(\"f\")"
   ]
  },
  {
   "cell_type": "markdown",
   "id": "58f45022",
   "metadata": {},
   "source": [
    "1. Реализовать предложенный метод численного решения данной системы уравнений"
   ]
  },
  {
   "cell_type": "code",
   "execution_count": 2,
   "id": "e3d8bb27",
   "metadata": {},
   "outputs": [],
   "source": [
    "# Определяем функцию правых частей системы ОДУ\n",
    "def f(t, u, v):\n",
    "    return np.array([v, -u**3])"
   ]
  },
  {
   "cell_type": "code",
   "execution_count": 3,
   "id": "23c22ea8",
   "metadata": {},
   "outputs": [],
   "source": [
    "# Определяем метод Рунге-Кутты с таблицей Бутчера\n",
    "def runge_kutta_butcher(f, u0, v0, T, h):\n",
    "    N = int(T/h) # вычисляем количество шагов\n",
    "    u = np.zeros(N+1) # создаем массив для значений u\n",
    "    v = np.zeros(N+1) # создаем массив для значений v\n",
    "    t = np.linspace(0, T, N+1) # создаем массив для значений времени\n",
    "    u[0], v[0] = u0, v0 # задаем начальные условия\n",
    "    # создаем таблицу коэффициентов метода Бутчера\n",
    "    A = np.array([[0, 0, 0, 0],\n",
    "                  [1/2, 0, 0, 0],\n",
    "                  [0, 1, 0, 0],\n",
    "                  [0, 0, 1, 0]])\n",
    "    b = np.array([1/6, 2/3, 0, 1/6])\n",
    "    c = np.array([0, 1/2, 1/2, 1])\n",
    "    # основной цикл метода Рунге-Кутты\n",
    "    for i in range(N):\n",
    "        k1 = f(t[i], u[i], v[i])\n",
    "        k2 = f(t[i] + c[1]*h, u[i] + h*A[1,0]*k1[0], v[i] + h*A[1,0]*k1[1])\n",
    "        k3 = f(t[i] + c[2]*h, u[i] + h*(A[2,0]*k1[0] + A[2,1]*k2[0]), v[i] + h*(A[2,0]*k1[1] + A[2,1]*k2[1]))\n",
    "        k4 = f(t[i] + c[3]*h, u[i] + h*(A[3,0]*k1[0] + A[3,1]*k2[0] + A[3,2]*k3[0]), v[i] + h*(A[3,0]*k1[1] + A[3,1]*k2[1] + A[3,2]*k3[1]))\n",
    "        u[i+1] = u[i] + h*(b[0]*k1[0] + b[1]*k2[0] + b[2]*k3[0] + b[3]*k4[0])\n",
    "        v[i+1] = v[i] + h*(b[0]*k1[1] + b[1]*k2[1] + b[2]*k3[1] + b[3]*k4[1])\n",
    "    return t, u, v"
   ]
  },
  {
   "cell_type": "markdown",
   "id": "627950ee",
   "metadata": {},
   "source": [
    "2. Исследовать предложенный метод на устойчивость"
   ]
  },
  {
   "cell_type": "markdown",
   "id": "f75d9958",
   "metadata": {},
   "source": [
    "$$R(z) = \\frac{det(I - z \\cdot A + z \\cdot e \\cdot b^T)}{det(I - z \\cdot A)}$$\n",
    "\n",
    "В нашем случае имеем явный метод 3 порядка, так что используем выражение:\n",
    "\n",
    "$$R(z) = \\sum\\limits_{k=1}^p \\frac{z^k}{k!}$$\n",
    "$$R(z) = \\sum\\limits_{k=1}^3 \\frac{z^k}{k!}$$\n",
    "\n",
    "Тогда условие устойчивости примет вид:\n",
    "\n",
    "$$| 1 + z + \\frac{z^2}{2} + \\frac{z^3}{6} | \\leq 1$$\n",
    "\n",
    "Собственные числа матрицы:\n",
    "\n",
    "\\begin{pmatrix}\n",
    "0 & 1 \\\\\n",
    "-3u^2 & 0\n",
    "\\end{pmatrix}\n",
    "\n",
    "Равны $\\lambda = \\pm i \\sqrt{3} u$\n",
    "\n",
    "Максимальное значение решения достигается в начальный момент времени, т.е $\\lambda = \\pm i \\sqrt{3}$, тогда получаем условия на $\\Delta t$:\n",
    "\n",
    "Условие 1:\n",
    "\n",
    "$$|1+i\\sqrt{3}\\Delta t + \\frac{(i\\sqrt{3}\\Delta t)^2}{2} + \\frac{(i\\sqrt{3}\\Delta t)^3}{6}| \\leq 1$$\n",
    "\n",
    "$$|1+i\\sqrt{3}\\Delta t + \\frac{-3\\Delta t^2}{2} + \\frac{-i3\\sqrt{3}\\Delta t^3}{6}| \\leq 1$$\n",
    "\n",
    "$$(1+\\frac{-3\\Delta t^2}{2})^2 + (\\sqrt{3}\\Delta t + \\frac{-3\\sqrt{3}\\Delta t^3}{6})^2 \\leq 1$$\n",
    "\n",
    "Откуда получаем что $\\Delta t \\leq 1$ \n",
    "\n",
    "Условие 2:\n",
    "\n",
    "$$|1-i\\sqrt{3}\\Delta t + \\frac{(-i\\sqrt{3}\\Delta t)^2}{2} + \\frac{(-i\\sqrt{3}\\Delta t)^3}{6}| \\leq 1$$\n",
    "\n",
    "$$|1-i\\sqrt{3}\\Delta t + \\frac{-3\\Delta t^2}{2} + \\frac{i3\\sqrt{3}\\Delta t^3}{6}| \\leq 1$$\n",
    "\n",
    "$$(1+\\frac{-3\\Delta t^2}{2})^2 + (-\\sqrt{3}\\Delta t + \\frac{3\\sqrt{3}\\Delta t^3}{6})^2 \\leq 1$$\n",
    "\n",
    "Откуда получаем что $\\Delta t \\leq 1$ "
   ]
  },
  {
   "cell_type": "markdown",
   "id": "9d9f8ee0",
   "metadata": {},
   "source": [
    "3. Экспериментально определить порядок сходимости, исследуя ошибку численного решения $||y(T) - y(0)||$, сравнить с порядком аппроксимации метода"
   ]
  },
  {
   "cell_type": "code",
   "execution_count": 4,
   "id": "fcf74f4b",
   "metadata": {},
   "outputs": [],
   "source": [
    "def err_norm(N):\n",
    "    h=7.416298709205487/N\n",
    "    u0, v0 = 1, 0\n",
    "    t, u, v = runge_kutta_butcher(f, u0, v0, 7.416298709205487, h)\n",
    "    return h, np.linalg.norm(np.array([u[0],v[0]])-np.array([u[-1],v[-1]]))"
   ]
  },
  {
   "cell_type": "code",
   "execution_count": 5,
   "id": "1589d42a",
   "metadata": {},
   "outputs": [],
   "source": [
    "Deltas=[]\n",
    "steps=[]"
   ]
  },
  {
   "cell_type": "code",
   "execution_count": 6,
   "id": "0cd4b84b",
   "metadata": {},
   "outputs": [],
   "source": [
    "for i in range(1000,3000,100):\n",
    "    Deltas.append(err_norm(i)[1])\n",
    "    steps.append(err_norm(i)[0])"
   ]
  },
  {
   "cell_type": "code",
   "execution_count": 7,
   "id": "8c909751",
   "metadata": {},
   "outputs": [
    {
     "name": "stdout",
     "output_type": "stream",
     "text": [
      "p_conv = 2.998838479585425\n"
     ]
    }
   ],
   "source": [
    "Deltas=np.log(Deltas)\n",
    "steps=np.log(steps)\n",
    "print(\"p_conv = {}\".format(np.polyfit(steps, Deltas, 1)[0]))"
   ]
  },
  {
   "cell_type": "markdown",
   "id": "fb642a68",
   "metadata": {},
   "source": [
    "4. Построить графики 𝑢(𝑡), 𝑣(𝑡)"
   ]
  },
  {
   "cell_type": "code",
   "execution_count": 8,
   "id": "5b03a119",
   "metadata": {},
   "outputs": [
    {
     "data": {
      "image/png": "[encoded data removed]",
      "text/plain": [
       "<Figure size 432x288 with 1 Axes>"
      ]
     },
     "metadata": {
      "needs_background": "light"
     },
     "output_type": "display_data"
    }
   ],
   "source": [
    "# Задаем начальные условия и параметры задачи\n",
    "u0, v0 = 1, 0\n",
    "T, h = 2*7.416298709205487, 0.01\n",
    "# Вызываем функцию для решения системы ОДУ методом Рунге-Кутты\n",
    "t, u, v = runge_kutta_butcher(f, u0, v0, T, h)\n",
    "# Рисуем графики решений u(t) и v(t)\n",
    "plt.plot(t, u, label='u')\n",
    "plt.plot(t, v, label='v')\n",
    "plt.legend()\n",
    "plt.xlabel('t')\n",
    "plt.grid()\n",
    "plt.show()"
   ]
  },
  {
   "cell_type": "markdown",
   "id": "84e7f546",
   "metadata": {},
   "source": [
    "5. Зависимость $T(u0)$"
   ]
  },
  {
   "cell_type": "code",
   "execution_count": 41,
   "id": "11084d23",
   "metadata": {},
   "outputs": [],
   "source": [
    "a = 3*10**(-5) #точность\n",
    "T, h = 2*7.416298709205487, 0.01\n",
    "T_per = []\n",
    "delta = 0.15\n",
    "start = np.arange(0, (math.pi)/2, delta)  # создание массива начальных условий\n",
    "#start = [1, 1.1]\n",
    "for u0 in start:\n",
    "    res = []\n",
    "    t, u, v = runge_kutta_butcher(f, u0, v0, T, h)\n",
    "    for j in range(len(u)):\n",
    "        if abs(u[j]-u0) <= a:\n",
    "            #print(t[j])\n",
    "            if t[j] != 0:\n",
    "                res.append(t[j])\n",
    "    T_per.append(min(res))\n",
    "#print(T_per)"
   ]
  },
  {
   "cell_type": "code",
   "execution_count": 42,
   "id": "1aa3584c",
   "metadata": {},
   "outputs": [
    {
     "data": {
      "image/png": "[encoded data removed]",
      "text/plain": [
       "<Figure size 432x288 with 1 Axes>"
      ]
     },
     "metadata": {
      "needs_background": "light"
     },
     "output_type": "display_data"
    }
   ],
   "source": [
    "plt.plot(start, T_per, label=\"T(u0)\")\n",
    "plt.legend()\n",
    "plt.xlabel('u0')\n",
    "plt.ylabel('T')\n",
    "plt.grid()\n",
    "plt.show()"
   ]
  },
  {
   "cell_type": "code",
   "execution_count": null,
   "id": "ccc3bb92",
   "metadata": {},
   "outputs": [],
   "source": []
  }
 ],
 "metadata": {
  "kernelspec": {
   "display_name": "Python 3 (ipykernel)",
   "language": "python",
   "name": "python3"
  },
  "language_info": {
   "codemirror_mode": {
    "name": "ipython",
    "version": 3
   },
   "file_extension": ".py",
   "mimetype": "text/x-python",
   "name": "python",
   "nbconvert_exporter": "python",
   "pygments_lexer": "ipython3",
   "version": "3.9.12"
  }
 },
 "nbformat": 4,
 "nbformat_minor": 5
}
