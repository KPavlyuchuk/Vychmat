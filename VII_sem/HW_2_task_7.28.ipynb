{
 "cells": [
  {
   "cell_type": "markdown",
   "id": "06ff0010",
   "metadata": {},
   "source": [
    "Дана схема\n",
    "\n",
    "$$\\frac{y(t, x) - y(t - \\Delta t, x)}{\\Delta t} - a \\frac{y(t, x + \\Delta x) - y(t, x - \\Delta x)}{2\\Delta x} = f(t,x)$$\n",
    "\n",
    "Разложим её по Тейлору\n",
    "\n",
    "$$\\frac{y(t, x) - y(t, x) + \\Delta t \\cdot y'_t - \\frac{(\\Delta t)^2}{2} \\cdot y''_t + O((\\Delta t)^3)}{\\Delta t} - a \\frac{ \\left(y(t, x) + \\Delta x \\cdot y'_x + \\frac{(\\Delta x)^2}{2} \\cdot y''_x + O((\\Delta x)^3) - y(t, x) + \\Delta x \\cdot y'_x - \\frac{(\\Delta x)^2}{2} \\cdot y''_x + O((\\Delta x)^3)\\right)}{2 \\Delta x}= f(t,x)$$\n",
    "\n",
    "Сокращая что сокращается приходим к виду:\n",
    "\n",
    "$$\\frac{\\Delta t \\cdot y'_t - \\frac{(\\Delta t)^2}{2} \\cdot y''_t + O((\\Delta t)^3)}{\\Delta t} - a \\frac{ \\left(2 \\Delta x \\cdot y'_x + O((\\Delta x)^3)\\right)}{2 \\Delta x}= f(t,x)$$\n",
    "\n",
    "$$y'_t + O(\\Delta t) - a y'_x + O((\\Delta x)^2)= f(t,x)$$\n",
    "\n",
    "Используя вид нашего исходного уравнения приходим к выводу, что невязка стремится к нулю по обеим переменным. \n",
    "\n",
    "Аппроксимация есть."
   ]
  },
  {
   "cell_type": "markdown",
   "id": "1b643683",
   "metadata": {},
   "source": [
    "Для исследования устойчивости воспользуемся признаком Неймана:\n",
    "\n",
    "$$y^n_k = \\lambda ^n e^{i \\alpha k}$$\n",
    "\n",
    "Подставляя это в исходную схему для однородного уравнения, получим:\n",
    "\n",
    "$$\\frac{\\lambda ^n - \\lambda ^{n-1}}{\\Delta t} e^{i \\alpha k} = a \\frac{\\lambda^n}{2 \\Delta x}\\left(e^{i \\alpha (k+1)} - e^{i \\alpha (k-1)}\\right)$$\n",
    "\n",
    "$$\\frac{\\lambda - 1}{\\Delta t} =\\lambda a \\frac{1}{2 \\Delta x}\\left(e^{i \\alpha} - e^{-i \\alpha}\\right)$$\n",
    "\n",
    "$$\\frac{\\lambda - 1}{\\Delta t} =\\lambda a \\frac{i}{\\Delta x}sin(\\alpha)$$\n",
    "\n",
    "Пусть $a \\frac{\\Delta t}{\\Delta x} = \\sigma$\n",
    "\n",
    "$$\\lambda = \\frac{1}{1 - i \\sigma sin(\\alpha)}$$\n",
    "\n",
    "Т.к. $|\\lambda| \\leq 1$, то получаем условие:\n",
    "\n",
    "$$\\frac{1}{\\sqrt{1 + \\sigma^2 sin^2(\\alpha)}} \\leq 1$$\n",
    "\n",
    "Т.к. это всегда верно, получаем что схема устойчива."
   ]
  },
  {
   "cell_type": "markdown",
   "id": "d6d89acd",
   "metadata": {},
   "source": [
    "$\\textbf{Из аппроксимации и устойчивости делаем вывод о сходимости метода}$"
   ]
  },
  {
   "cell_type": "code",
   "execution_count": null,
   "id": "41b65098",
   "metadata": {},
   "outputs": [],
   "source": []
  }
 ],
 "metadata": {
  "kernelspec": {
   "display_name": "Python 3 (ipykernel)",
   "language": "python",
   "name": "python3"
  },
  "language_info": {
   "codemirror_mode": {
    "name": "ipython",
    "version": 3
   },
   "file_extension": ".py",
   "mimetype": "text/x-python",
   "name": "python",
   "nbconvert_exporter": "python",
   "pygments_lexer": "ipython3",
   "version": "3.9.12"
  }
 },
 "nbformat": 4,
 "nbformat_minor": 5
}
