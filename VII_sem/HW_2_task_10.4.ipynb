{
 "cells": [
  {
   "cell_type": "code",
   "execution_count": 1,
   "id": "26c15a0f",
   "metadata": {},
   "outputs": [],
   "source": [
    "import numpy as np\n",
    "import matplotlib.pyplot as plt"
   ]
  },
  {
   "cell_type": "code",
   "execution_count": 2,
   "id": "36d84dfc",
   "metadata": {},
   "outputs": [],
   "source": [
    "# Условия\n",
    "a = 1\n",
    "k = 1\n",
    "h = 0.1\n",
    "tau = 0.01\n",
    "T = 0.1"
   ]
  },
  {
   "cell_type": "markdown",
   "id": "62b0deb6",
   "metadata": {},
   "source": [
    "Запишем данные задачи для решения"
   ]
  },
  {
   "cell_type": "code",
   "execution_count": 3,
   "id": "3a627369",
   "metadata": {},
   "outputs": [],
   "source": [
    "# Задаем первое начальное распределение\n",
    "def phi_1(x):\n",
    "    if a/3 <= x <= 2*a/3:\n",
    "        return 2\n",
    "    else:\n",
    "        return 0\n",
    "\n",
    "# Задаем второе начальное распределение\n",
    "def phi_2(x):\n",
    "    if a/2 <= x <= a:\n",
    "        return 2\n",
    "    else:\n",
    "        return 0"
   ]
  },
  {
   "cell_type": "markdown",
   "id": "5568248d",
   "metadata": {},
   "source": [
    "Имея формулу для коэффициентов для точного решения:\n",
    "\n",
    "$$\\alpha_n=\\frac{2}{a}\\int\\limits_{0}^a \\phi(x)\\sin \\frac{\\pi n x}{a}dx$$\n",
    "\n",
    "Посчитаем явно интегралы и получим что они имеют вид:\n",
    "\n",
    "Для $\\phi_1$:\n",
    "$$\\alpha_n=\\frac{4}{\\pi n} \\left(cos\\left(\\frac{\\pi \\cdot n}{3}\\right) - cos\\left(\\frac{2 \\pi \\cdot n}{3}\\right) \\right)\\$$\n",
    "\n",
    "Для $\\phi_2$:\n",
    "$$\\alpha_n=\\frac{4}{\\pi n} \\left(cos\\left(\\frac{\\pi \\cdot n}{2}\\right) - cos\\left(\\pi \\cdot n\\right) \\right)\\$$\n"
   ]
  },
  {
   "cell_type": "code",
   "execution_count": 4,
   "id": "4c3b0d54",
   "metadata": {},
   "outputs": [],
   "source": [
    "# Вычисляем коэффициенты Фурье\n",
    "def alpha_1(n):\n",
    "    return (4/(np.pi*n))*(np.cos(np.pi*n/3) - np.cos(2*np.pi*n/3))\n",
    "\n",
    "def alpha_2(n):\n",
    "    return (4/(np.pi*n))*(np.cos(np.pi*n/2)-np.cos(np.pi*n))"
   ]
  },
  {
   "cell_type": "markdown",
   "id": "9503a573",
   "metadata": {},
   "source": [
    "Вычисляем точное решение для разных $\\phi(x)$"
   ]
  },
  {
   "cell_type": "code",
   "execution_count": 5,
   "id": "3fa7514d",
   "metadata": {},
   "outputs": [],
   "source": [
    "# Точное решение задачи\n",
    "def u_exact_1(x, t):\n",
    "    res = 0\n",
    "    for n in range(1, 100):\n",
    "        res += alpha_1(n)*np.exp(-(k*(np.pi**2)*(n**2)*t)/(a**2))*np.sin((np.pi*n*x)/a)\n",
    "    return res\n",
    "\n",
    "def u_exact_2(x, t):\n",
    "    res = 0\n",
    "    for n in range(1, 100):\n",
    "        res += alpha_2(n)*np.exp(-(k*(np.pi**2)*(n**2)*t)/(a**2))*np.sin((np.pi*n*x)/a)\n",
    "    return res"
   ]
  },
  {
   "cell_type": "markdown",
   "id": "84fa63f9",
   "metadata": {},
   "source": [
    "Реализуем метод Рунге-Кутта 4 порядка:"
   ]
  },
  {
   "cell_type": "code",
   "execution_count": 6,
   "id": "93b17dde",
   "metadata": {},
   "outputs": [],
   "source": [
    "def runge_kutta_4(u, N, M, phi, h, tau, k):\n",
    "    u = np.zeros((N, M))\n",
    "    u[:,0] = [phi(i*h) for i in range(N)]\n",
    "\n",
    "    for j in range(M-1):\n",
    "        for i in range(1, N-1):\n",
    "            k1 = k*tau*(u[i-1,j] - 2*u[i,j] + u[i+1,j])/(h**2)\n",
    "            k2 = k*tau*(u[i-1,j] - 2*(u[i,j]+0.5*k1) + u[i+1,j])/(h**2)\n",
    "            k3 = k*tau*(u[i-1,j] - 2*(u[i,j]+0.5*k2) + u[i+1,j])/(h**2)\n",
    "            k4 = k*tau*(u[i-1,j] - 2*(u[i,j]+k3) + u[i+1,j])/(h**2)\n",
    "            u[i,j+1] = u[i,j] + (1/6)*(k1 + 2*k2 + 2*k3 + k4)\n",
    "    return u"
   ]
  },
  {
   "cell_type": "code",
   "execution_count": 7,
   "id": "dda114c2",
   "metadata": {},
   "outputs": [],
   "source": [
    "# Численное решение задачи методом Рунге-Кутта 4 порядка\n",
    "N = int(a/h) + 1\n",
    "M = int(T/tau) + 1\n",
    "u1 = np.zeros((N, M))\n",
    "u2 = np.zeros((N, M))\n",
    "\n",
    "u = runge_kutta_4(u1, N, M, phi_1, h, tau, k)\n",
    "w = runge_kutta_4(u2, N, M, phi_2, h, tau, k)"
   ]
  },
  {
   "cell_type": "code",
   "execution_count": 8,
   "id": "4e3e31b0",
   "metadata": {},
   "outputs": [],
   "source": [
    "# Вычисляем точное решение в момент времени T\n",
    "u_true_1 = np.zeros((N, 1))\n",
    "for i in range(N):\n",
    "    u_true_1[i,0] = u_exact_1(i*h, T)\n",
    "\n",
    "# Вычисляем точное решение в момент времени T\n",
    "u_true_2 = np.zeros((N, 1))\n",
    "for i in range(N):\n",
    "    u_true_2[i,0] = u_exact_2(i*h, T)"
   ]
  },
  {
   "cell_type": "code",
   "execution_count": 9,
   "id": "eb3a96ba",
   "metadata": {},
   "outputs": [
    {
     "data": {
      "image/png": "[encoded data removed]",
      "text/plain": [
       "<Figure size 432x288 with 1 Axes>"
      ]
     },
     "metadata": {
      "needs_background": "light"
     },
     "output_type": "display_data"
    }
   ],
   "source": [
    "# Строим графики точного и приближенного решений\n",
    "x_values = np.linspace(0, a, N)\n",
    "plt.plot(x_values, u[:,M-1], label='Numerical solution')\n",
    "plt.plot(x_values, u_true_1[:,0], label='Exact solution')\n",
    "plt.xlabel('x')\n",
    "plt.ylabel('u_1(x,0.1)')\n",
    "plt.legend()\n",
    "plt.show()"
   ]
  },
  {
   "cell_type": "code",
   "execution_count": 10,
   "id": "505aaeb4",
   "metadata": {},
   "outputs": [
    {
     "data": {
      "image/png": "[encoded data removed]",
      "text/plain": [
       "<Figure size 432x288 with 1 Axes>"
      ]
     },
     "metadata": {
      "needs_background": "light"
     },
     "output_type": "display_data"
    }
   ],
   "source": [
    "# Строим графики точного и приближенного решений\n",
    "x2_values = np.linspace(0, a, N)\n",
    "plt.plot(x2_values, w[:,M-1], label='Numerical solution')\n",
    "plt.plot(x2_values, u_true_2[:,0], label='Exact solution')\n",
    "plt.xlabel('x')\n",
    "plt.ylabel('u_2(x,0.1)')\n",
    "plt.legend()\n",
    "plt.show()"
   ]
  },
  {
   "cell_type": "code",
   "execution_count": 13,
   "id": "f146fad0",
   "metadata": {},
   "outputs": [],
   "source": [
    "# Измельчаем сетку вдвое\n",
    "h1 = h/2\n",
    "tau1 = tau/4\n",
    "N1 = int(a/h1) + 1\n",
    "M1 = int(T/tau1) + 1\n",
    "u1 = np.zeros((N1, M1))\n",
    "\n",
    "# и еще вдвое\n",
    "h2 = h1/2\n",
    "tau2 = tau1/4\n",
    "N2 = int(a/h2) + 1\n",
    "M2 = int(T/tau2) + 1\n",
    "u2 = np.zeros((N2, M2))"
   ]
  },
  {
   "cell_type": "code",
   "execution_count": 14,
   "id": "e6c4d239",
   "metadata": {},
   "outputs": [
    {
     "name": "stdout",
     "output_type": "stream",
     "text": [
      "Порядок сходимости 1: p = 1.3818021610415752\n",
      "Порядок сходимости 2: p = 1.324708147790878\n"
     ]
    }
   ],
   "source": [
    "u_1_1 = runge_kutta_4(u1, N1, M1, phi_1, h1, tau1, k)\n",
    "\n",
    "u_1_2 = runge_kutta_4(u2, N2, M2, phi_1, h2, tau2, k)\n",
    "\n",
    "diff_norm11 = np.linalg.norm(u - u_1_1[:u.shape[0], :u.shape[1]])\n",
    "diff_norm12 = np.linalg.norm(u_1_1 - u_1_2[:u1.shape[0], :u_1_1.shape[1]])\n",
    "# оцениваем порядок сходимости\n",
    "p = np.log(diff_norm12/diff_norm11)/np.log(2)\n",
    "print(f\"Порядок сходимости 1: p = {p}\")\n",
    "\n",
    "u_2_1 = runge_kutta_4(u1, N1, M1, phi_2, h1, tau1, k)\n",
    "\n",
    "u_2_2 = runge_kutta_4(u2, N2, M2, phi_2, h2, tau2, k)\n",
    "\n",
    "diff_norm21 = np.linalg.norm(w - u_2_1[:w.shape[0], :w.shape[1]])\n",
    "diff_norm22 = np.linalg.norm(u_2_1 - u_2_2[:u1.shape[0], :u_2_1.shape[1]])\n",
    "# оцениваем порядок сходимости\n",
    "p = np.log(diff_norm22/diff_norm21)/np.log(2)\n",
    "print(f\"Порядок сходимости 2: p = {p}\")"
   ]
  },
  {
   "cell_type": "code",
   "execution_count": null,
   "id": "f80cbfcc",
   "metadata": {},
   "outputs": [],
   "source": []
  }
 ],
 "metadata": {
  "kernelspec": {
   "display_name": "Python 3 (ipykernel)",
   "language": "python",
   "name": "python3"
  },
  "language_info": {
   "codemirror_mode": {
    "name": "ipython",
    "version": 3
   },
   "file_extension": ".py",
   "mimetype": "text/x-python",
   "name": "python",
   "nbconvert_exporter": "python",
   "pygments_lexer": "ipython3",
   "version": "3.9.12"
  }
 },
 "nbformat": 4,
 "nbformat_minor": 5
}
