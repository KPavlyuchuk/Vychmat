{
 "cells": [
  {
   "cell_type": "markdown",
   "id": "40a27796",
   "metadata": {},
   "source": [
    "Пункт а):\n",
    "\n",
    "Выпишем все числа множества $S$\n",
    "В двоичной записи:\n",
    "$S = {-11.1, -11, -10.1, -10, -1.11, -1.1, -1.01, -1, -0.111, -0.11, -0.101, -0.1, 0, 0.1, 0.101, 0.11, 0.111, 1, 1.01, 1.1, 1.11, 10, 10.1, 11, 11.1}$\n",
    "В десятичной имеем:\n",
    "$S = {-3.5, -3, -2.5, -2, -1.75, -1.5, -1.25, -1, -0.875, -0.75, -0.625, -0.5, 0, 0.5, 0.625, 0.75, 0.875, 1, 1.25, 1.5, 1.75, 2, 2.5, 3, 3.5}$\n",
    "\n",
    "Всего вышло 25 штук"
   ]
  },
  {
   "cell_type": "markdown",
   "id": "ff1120cf",
   "metadata": {},
   "source": [
    "Пункт б):\n",
    "\n",
    "$UFL = 0.5$\n",
    "\n",
    "$OFL = 3.5$\n",
    "\n",
    "$\\varepsilon_{маш} = 0.125$"
   ]
  }
 ],
 "metadata": {
  "kernelspec": {
   "display_name": "Python 3 (ipykernel)",
   "language": "python",
   "name": "python3"
  },
  "language_info": {
   "codemirror_mode": {
    "name": "ipython",
    "version": 3
   },
   "file_extension": ".py",
   "mimetype": "text/x-python",
   "name": "python",
   "nbconvert_exporter": "python",
   "pygments_lexer": "ipython3",
   "version": "3.9.12"
  }
 },
 "nbformat": 4,
 "nbformat_minor": 5
}
