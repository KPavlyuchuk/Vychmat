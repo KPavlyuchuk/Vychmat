{
 "cells": [
  {
   "cell_type": "code",
   "execution_count": 2,
   "id": "592a35a3",
   "metadata": {},
   "outputs": [],
   "source": [
    "import math\n",
    "import sympy\n",
    "import numpy as np\n",
    "from sympy.abc import x,y\n",
    "from sympy import *\n",
    "init_printing( use_latex='mathjax' )\n",
    "f = Function(\"f\")\n",
    "h = symbols(\"h\")\n",
    "x0=symbols(\"x0\")"
   ]
  },
  {
   "cell_type": "markdown",
   "id": "02ed2ea0",
   "metadata": {},
   "source": [
    "$$x^7 - 5x^2y^4 + 1510 = 0$$\n",
    "$$y^3 - 3x^4y - 105 =0$$"
   ]
  },
  {
   "cell_type": "markdown",
   "id": "d240a828",
   "metadata": {},
   "source": [
    "$$y = \\pm \\left(\\frac{x^7 + 1510}{5x^2}\\right)^{1/4}$$\n",
    "$$x = \\pm \\left(\\frac{y^3 - 105}{3y}\\right)^{1/4}$$"
   ]
  },
  {
   "cell_type": "code",
   "execution_count": 3,
   "id": "9e113657",
   "metadata": {},
   "outputs": [],
   "source": [
    "f1 = ((x**7+1510)/(5*x**2))**(1/4)"
   ]
  },
  {
   "cell_type": "code",
   "execution_count": 4,
   "id": "5b34b49d",
   "metadata": {},
   "outputs": [
    {
     "data": {
      "text/latex": [
       "$\\displaystyle \\frac{0.668740304976422 x^{2} \\left(\\frac{x^{7} + 1510}{x^{2}}\\right)^{0.25} \\cdot \\left(1.75 x^{4} - \\frac{0.5 \\left(x^{7} + 1510\\right)}{x^{3}}\\right)}{x^{7} + 1510}$"
      ],
      "text/plain": [
       "                                0.25                            \n",
       "                     ⎛ 7       ⎞     ⎛              ⎛ 7       ⎞⎞\n",
       "                   2 ⎜x  + 1510⎟     ⎜      4   0.5⋅⎝x  + 1510⎠⎟\n",
       "0.668740304976422⋅x ⋅⎜─────────⎟    ⋅⎜1.75⋅x  - ───────────────⎟\n",
       "                     ⎜     2   ⎟     ⎜                  3      ⎟\n",
       "                     ⎝    x    ⎠     ⎝                 x       ⎠\n",
       "────────────────────────────────────────────────────────────────\n",
       "                            7                                   \n",
       "                           x  + 1510                            "
      ]
     },
     "execution_count": 4,
     "metadata": {},
     "output_type": "execute_result"
    }
   ],
   "source": [
    "g11 = diff(f1,x)\n",
    "g11"
   ]
  },
  {
   "cell_type": "code",
   "execution_count": 6,
   "id": "34f2fee4",
   "metadata": {},
   "outputs": [
    {
     "data": {
      "text/latex": [
       "$\\displaystyle 0$"
      ],
      "text/plain": [
       "0"
      ]
     },
     "execution_count": 6,
     "metadata": {},
     "output_type": "execute_result"
    }
   ],
   "source": [
    "g12 = diff(f1, y)\n",
    "g12"
   ]
  },
  {
   "cell_type": "code",
   "execution_count": 7,
   "id": "2f06fdf7",
   "metadata": {},
   "outputs": [],
   "source": [
    "f2 = ((y**3-105)/(3*y))**(1/4)"
   ]
  },
  {
   "cell_type": "code",
   "execution_count": 8,
   "id": "1e40766d",
   "metadata": {},
   "outputs": [
    {
     "data": {
      "text/latex": [
       "$\\displaystyle 0$"
      ],
      "text/plain": [
       "0"
      ]
     },
     "execution_count": 8,
     "metadata": {},
     "output_type": "execute_result"
    }
   ],
   "source": [
    "g21 = diff(f2, x)\n",
    "g21"
   ]
  },
  {
   "cell_type": "code",
   "execution_count": 9,
   "id": "987af737",
   "metadata": {},
   "outputs": [
    {
     "data": {
      "text/latex": [
       "$\\displaystyle \\frac{0.759835685651593 y \\left(\\frac{y^{3} - 105}{y}\\right)^{0.25} \\cdot \\left(0.75 y - \\frac{0.25 \\left(y^{3} - 105\\right)}{y^{2}}\\right)}{y^{3} - 105}$"
      ],
      "text/plain": [
       "                              0.25                           \n",
       "                    ⎛ 3      ⎞     ⎛              ⎛ 3      ⎞⎞\n",
       "                    ⎜y  - 105⎟     ⎜         0.25⋅⎝y  - 105⎠⎟\n",
       "0.759835685651593⋅y⋅⎜────────⎟    ⋅⎜0.75⋅y - ───────────────⎟\n",
       "                    ⎝   y    ⎠     ⎜                 2      ⎟\n",
       "                                   ⎝                y       ⎠\n",
       "─────────────────────────────────────────────────────────────\n",
       "                            3                                \n",
       "                           y  - 105                          "
      ]
     },
     "execution_count": 9,
     "metadata": {},
     "output_type": "execute_result"
    }
   ],
   "source": [
    "g22 = diff(f2, y)\n",
    "g22"
   ]
  },
  {
   "cell_type": "markdown",
   "id": "88f074b5",
   "metadata": {},
   "source": [
    "Из Desmos получим данные что один из корней у нас лежит $x \\in [0.6, 0.8], y \\in [4.6, 4.8]$"
   ]
  },
  {
   "cell_type": "code",
   "execution_count": 10,
   "id": "3781005c",
   "metadata": {},
   "outputs": [
    {
     "data": {
      "text/latex": [
       "$\\displaystyle \\left[\\begin{matrix}\\frac{0.668740304976422 x^{2} \\left(\\frac{x^{7} + 1510}{x^{2}}\\right)^{0.25} \\cdot \\left(1.75 x^{4} - \\frac{0.5 \\left(x^{7} + 1510\\right)}{x^{3}}\\right)}{x^{7} + 1510} & 0\\\\0 & \\frac{0.759835685651593 y \\left(\\frac{y^{3} - 105}{y}\\right)^{0.25} \\cdot \\left(0.75 y - \\frac{0.25 \\left(y^{3} - 105\\right)}{y^{2}}\\right)}{y^{3} - 105}\\end{matrix}\\right]$"
      ],
      "text/plain": [
       "⎡                                0.25                                         \n",
       "⎢                     ⎛ 7       ⎞     ⎛              ⎛ 7       ⎞⎞             \n",
       "⎢                   2 ⎜x  + 1510⎟     ⎜      4   0.5⋅⎝x  + 1510⎠⎟             \n",
       "⎢0.668740304976422⋅x ⋅⎜─────────⎟    ⋅⎜1.75⋅x  - ───────────────⎟             \n",
       "⎢                     ⎜     2   ⎟     ⎜                  3      ⎟             \n",
       "⎢                     ⎝    x    ⎠     ⎝                 x       ⎠             \n",
       "⎢────────────────────────────────────────────────────────────────             \n",
       "⎢                            7                                                \n",
       "⎢                           x  + 1510                                         \n",
       "⎢                                                                             \n",
       "⎢                                                                             \n",
       "⎢                                                                             \n",
       "⎢                                                                             \n",
       "⎢                                                                  0.759835685\n",
       "⎢                                                                             \n",
       "⎢                                                                             \n",
       "⎢                               0                                  ───────────\n",
       "⎢                                                                             \n",
       "⎣                                                                             \n",
       "\n",
       "                                                  ⎤\n",
       "                                                  ⎥\n",
       "                                                  ⎥\n",
       "                                                  ⎥\n",
       "                                                  ⎥\n",
       "                                                  ⎥\n",
       "                   0                              ⎥\n",
       "                                                  ⎥\n",
       "                                                  ⎥\n",
       "                                                  ⎥\n",
       "                   0.25                           ⎥\n",
       "         ⎛ 3      ⎞     ⎛              ⎛ 3      ⎞⎞⎥\n",
       "         ⎜y  - 105⎟     ⎜         0.25⋅⎝y  - 105⎠⎟⎥\n",
       "651593⋅y⋅⎜────────⎟    ⋅⎜0.75⋅y - ───────────────⎟⎥\n",
       "         ⎝   y    ⎠     ⎜                 2      ⎟⎥\n",
       "                        ⎝                y       ⎠⎥\n",
       "──────────────────────────────────────────────────⎥\n",
       "                 3                                ⎥\n",
       "                y  - 105                          ⎦"
      ]
     },
     "execution_count": 10,
     "metadata": {},
     "output_type": "execute_result"
    }
   ],
   "source": [
    "G=Matrix([[g11,g12],[g21,g22]])\n",
    "G"
   ]
  },
  {
   "cell_type": "code",
   "execution_count": null,
   "id": "cea13762",
   "metadata": {},
   "outputs": [],
   "source": []
  }
 ],
 "metadata": {
  "kernelspec": {
   "display_name": "Python 3 (ipykernel)",
   "language": "python",
   "name": "python3"
  },
  "language_info": {
   "codemirror_mode": {
    "name": "ipython",
    "version": 3
   },
   "file_extension": ".py",
   "mimetype": "text/x-python",
   "name": "python",
   "nbconvert_exporter": "python",
   "pygments_lexer": "ipython3",
   "version": "3.9.12"
  }
 },
 "nbformat": 4,
 "nbformat_minor": 5
}
