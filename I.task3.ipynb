{
 "cells": [
  {
   "cell_type": "code",
   "execution_count": 2,
   "id": "fc0c85ae",
   "metadata": {},
   "outputs": [],
   "source": [
    "import math\n",
    "import sympy\n",
    "from sympy.abc import x,y\n",
    "from sympy import *\n",
    "init_printing( use_latex='mathjax' )\n",
    "f = Function(\"f\")\n",
    "h = symbols(\"h\")\n",
    "x0=symbols(\"x0\")"
   ]
  },
  {
   "cell_type": "markdown",
   "id": "826f4342",
   "metadata": {},
   "source": [
    "Возьмем в качестве функции численного дифференцирования формулу:\n",
    "\n",
    "\\begin{equation}\n",
    "\\frac{f(x+h)-f(x-h)}{2h}\n",
    "\\end{equation}\n",
    "\n",
    "Найдем теперь оптимальный шаг дифференцирования по этой формуле в произвольной точке для нашей функции.\n",
    "Пусть значения функции $J(x)$ известны с погрешностью $\\varepsilon(x)$, $|\\varepsilon(x)| \\leqslant E$. Ошибка, связанная с ошибкой округления значения $J(x)$, не превосходит величины $E = \\frac{(\\frac{1}{2})^{2N}}{(N!)^2}$. Тогда при вычислении производной по нашей формуле возникает погрешность $r$, причем $|r| \\leqslant \\frac{E}{h}$. Тогда суммарно мы имеем погрешность:\n",
    "\n",
    "\\begin{equation}\n",
    "g(h) = \\frac{h^2}{6}+\\frac{E}{h}\n",
    "\\end{equation}\n",
    "\n",
    "Минимум суммарной погрешности достигается в точке $h^*$ экстремума функции $g(h)$. Тогда имеем оптимальный шаг дифференцирования:\n",
    "\n",
    "\\begin{equation}\n",
    "h^* = (3E)^{\\frac{1}{3}}\n",
    "\\end{equation}"
   ]
  },
  {
   "cell_type": "markdown",
   "id": "6390be40",
   "metadata": {},
   "source": [
    "Нам необходимо найти производную с точностью $\\varepsilon = 10^{-6}$"
   ]
  },
  {
   "cell_type": "markdown",
   "id": "8e208693",
   "metadata": {},
   "source": [
    "Получаем условия на $N$ из условия что \n",
    "\\begin{equation}\n",
    "\\frac{h^2}{6}+\\frac{E}{h} = 10^{-6}\n",
    "\\end{equation}"
   ]
  },
  {
   "cell_type": "markdown",
   "id": "e1302413",
   "metadata": {},
   "source": [
    "Находим $N$:\n",
    "\n",
    "\\begin{equation}\n",
    "\\frac{(3E)^{2/3}}{6}+\\frac{E}{(3E)^{1/3}} = 10^{-6} \\rightarrow E = (\\frac{10^{-6}}{\\frac{3^{2/3}}{6}+\\frac{1}{3^{1/3}}})^{3/2}\n",
    "\\end{equation}\n",
    "\n",
    "\\begin{equation}\n",
    "\\frac{(\\frac{1}{4})^N}{(N!)^2} \\leqslant (\\frac{1}{4N})^N \\approx 9,4 \\cdot 10^{-10} \\rightarrow N = 7\n",
    "\\end{equation}"
   ]
  },
  {
   "cell_type": "code",
   "execution_count": 22,
   "id": "5f2ab98b",
   "metadata": {},
   "outputs": [],
   "source": [
    "def Jeff(X):\n",
    "    SUM=0\n",
    "    N = 7\n",
    "    for i in range(N):\n",
    "        SUM +=(((-1)**(i))/(math.factorial(i))**2)*((X/2)**(2*i));\n",
    "    return(SUM)"
   ]
  },
  {
   "cell_type": "code",
   "execution_count": 23,
   "id": "b16d3d5a",
   "metadata": {},
   "outputs": [],
   "source": [
    "e = symbols(\"e\")"
   ]
  },
  {
   "cell_type": "code",
   "execution_count": 24,
   "id": "c1e9c33a",
   "metadata": {},
   "outputs": [],
   "source": [
    "t = (3*e)**(1/3)"
   ]
  },
  {
   "cell_type": "code",
   "execution_count": 33,
   "id": "e2550e37",
   "metadata": {},
   "outputs": [
    {
     "name": "stdout",
     "output_type": "stream",
     "text": [
      "Оценка оптимального шага при одинарной точности это h*= 0.00141280764437413\n"
     ]
    }
   ],
   "source": [
    "r=t.subs({e:9.4*10**(-10)})\n",
    "print(\"Оценка оптимального шага при одинарной точности это h*=\", r)"
   ]
  },
  {
   "cell_type": "markdown",
   "id": "4c3c1f33",
   "metadata": {},
   "source": [
    "Найдем производную функции Бесселя в точке $x = 1$"
   ]
  },
  {
   "cell_type": "code",
   "execution_count": 34,
   "id": "5f156400",
   "metadata": {},
   "outputs": [
    {
     "name": "stdout",
     "output_type": "stream",
     "text": [
      "J(0.998587192355626) = 0.765819068738042\n"
     ]
    }
   ],
   "source": [
    "s_res1=str(Jeff(1-r))\n",
    "s_val=str(1-r)\n",
    "print(\"J(\"+s_val+\") = \"+s_res1)"
   ]
  },
  {
   "cell_type": "code",
   "execution_count": 35,
   "id": "91355697",
   "metadata": {},
   "outputs": [
    {
     "name": "stdout",
     "output_type": "stream",
     "text": [
      "J(1.00141280764437) = 0.764575655380871\n"
     ]
    }
   ],
   "source": [
    "s_res2=str(Jeff(1+r))\n",
    "s_val=str(1+r)\n",
    "print(\"J(\"+s_val+\") = \"+s_res2)"
   ]
  },
  {
   "cell_type": "code",
   "execution_count": 36,
   "id": "5e30506f",
   "metadata": {},
   "outputs": [],
   "source": [
    "s_r1=Jeff(1-r)\n",
    "s_r2=Jeff(1+r)"
   ]
  },
  {
   "cell_type": "code",
   "execution_count": 37,
   "id": "e5b33880",
   "metadata": {},
   "outputs": [
    {
     "name": "stdout",
     "output_type": "stream",
     "text": [
      "a = -0.440050477544461\n"
     ]
    }
   ],
   "source": [
    "a = str((s_r2 - s_r1)/(2*r))\n",
    "print(\"a = \"+a)"
   ]
  },
  {
   "cell_type": "markdown",
   "id": "1a0e80da",
   "metadata": {},
   "source": [
    "Посмотрим на нашу погрешность:"
   ]
  },
  {
   "cell_type": "code",
   "execution_count": 38,
   "id": "b1143bcc",
   "metadata": {},
   "outputs": [],
   "source": [
    "l = symbols(\"l\")"
   ]
  },
  {
   "cell_type": "code",
   "execution_count": 39,
   "id": "237af230",
   "metadata": {},
   "outputs": [],
   "source": [
    "g = (l**2)/6 + e/l"
   ]
  },
  {
   "cell_type": "code",
   "execution_count": 40,
   "id": "14951299",
   "metadata": {},
   "outputs": [
    {
     "name": "stdout",
     "output_type": "stream",
     "text": [
      "Полученная нами погрешность будет равна= 9.98012720000982e-7\n"
     ]
    }
   ],
   "source": [
    "gm=g.subs({e:9.4*10**(-10), l:r})\n",
    "print(\"Полученная нами погрешность будет равна=\", gm)"
   ]
  },
  {
   "cell_type": "code",
   "execution_count": null,
   "id": "b5e199dd",
   "metadata": {},
   "outputs": [],
   "source": []
  }
 ],
 "metadata": {
  "kernelspec": {
   "display_name": "Python 3 (ipykernel)",
   "language": "python",
   "name": "python3"
  },
  "language_info": {
   "codemirror_mode": {
    "name": "ipython",
    "version": 3
   },
   "file_extension": ".py",
   "mimetype": "text/x-python",
   "name": "python",
   "nbconvert_exporter": "python",
   "pygments_lexer": "ipython3",
   "version": "3.9.12"
  }
 },
 "nbformat": 4,
 "nbformat_minor": 5
}
