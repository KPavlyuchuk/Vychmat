{
 "cells": [
  {
   "cell_type": "markdown",
   "id": "c593c1d4",
   "metadata": {},
   "source": [
    "Ошибка начения будет складываться из:\n",
    "\n",
    "$$E = E_{method} + E_{round}$$\n",
    "\n",
    "Вычислим же ее, сначала одну:\n",
    "\n",
    "$$E_{method} \\leq \\frac{M_4}{4!} \\cdot \\underset{[0, \\frac{\\pi}{3}]}{max}|(x)(x-\\frac{\\pi}{6})(x-\\frac{\\pi}{4})(x-\\frac{\\pi}{3})|$$\n",
    "$$E_{method} \\leq \\frac{1}{24} \\cdot 0.0325 = 0.001354$$\n",
    "\n",
    "И вторую:\n",
    "\n",
    "$$E_{round} \\leq \\varepsilon \\cdot \\Lambda_4 \\approx 10^{-2} \\cdot \\frac{2^4}{3 \\cdot e \\cdot ln(3)} \\approx 0.01786$$\n",
    "\n",
    "Итого:\n",
    "\n",
    "$$E = E_{method} + E_{round} \\approx 0.019213$$"
   ]
  },
  {
   "cell_type": "code",
   "execution_count": null,
   "id": "8d25eb75",
   "metadata": {},
   "outputs": [],
   "source": []
  }
 ],
 "metadata": {
  "kernelspec": {
   "display_name": "Python 3 (ipykernel)",
   "language": "python",
   "name": "python3"
  },
  "language_info": {
   "codemirror_mode": {
    "name": "ipython",
    "version": 3
   },
   "file_extension": ".py",
   "mimetype": "text/x-python",
   "name": "python",
   "nbconvert_exporter": "python",
   "pygments_lexer": "ipython3",
   "version": "3.9.12"
  }
 },
 "nbformat": 4,
 "nbformat_minor": 5
}
