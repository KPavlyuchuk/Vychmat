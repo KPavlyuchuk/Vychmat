{
 "cells": [
  {
   "cell_type": "markdown",
   "id": "c593c1d4",
   "metadata": {},
   "source": [
    "Ошибка на всем отрезке будет складываться из:\n",
    "\n",
    "$$E = E_{method} + E_{round}$$\n",
    "\n",
    "Вычислим же ее, сначала одну:\n",
    "\n",
    "$$E_{method} \\leq \\frac{M_4}{4!} \\cdot \\underset{[0, \\frac{\\pi}{3}]}{max}|(x)(x-\\frac{\\pi}{6})(x-\\frac{\\pi}{4})(x-\\frac{\\pi}{3})|$$\n",
    "$$E_{method} \\leq \\frac{1}{24} \\cdot 0.0325 = 0.001354$$\n",
    "\n",
    "И вторую:\n",
    "\n",
    "$$E_{round} \\leq \\varepsilon \\cdot \\Lambda_4 \\approx 10^{-2} \\cdot \\frac{2^4}{3 \\cdot e \\cdot ln(3)} \\approx 0.01786$$\n",
    "\n",
    "Итого:\n",
    "\n",
    "$$E = E_{method} + E_{round} \\approx 0.019213$$"
   ]
  },
  {
   "cell_type": "markdown",
   "id": "ce38d63d",
   "metadata": {},
   "source": [
    "Ошибка в точке же будет иметь вид:\n",
    "\n",
    "$$E = f(x_0) - L(x_0) = \\frac{f^{IV}(x_0)}{4!} \\cdot \\underset{[0, \\frac{\\pi}{3}]}{max}|(x)(x-\\frac{\\pi}{6})(x-\\frac{\\pi}{4})(x-\\frac{\\pi}{3})|$$\n",
    "\n",
    "$$E = \\frac{0.4794}{24} \\cdot 0.0325 = 0.0065$$"
   ]
  },
  {
   "cell_type": "code",
   "execution_count": null,
   "id": "d6cce7ef",
   "metadata": {},
   "outputs": [],
   "source": []
  }
 ],
 "metadata": {
  "kernelspec": {
   "display_name": "Python 3 (ipykernel)",
   "language": "python",
   "name": "python3"
  },
  "language_info": {
   "codemirror_mode": {
    "name": "ipython",
    "version": 3
   },
   "file_extension": ".py",
   "mimetype": "text/x-python",
   "name": "python",
   "nbconvert_exporter": "python",
   "pygments_lexer": "ipython3",
   "version": "3.9.12"
  }
 },
 "nbformat": 4,
 "nbformat_minor": 5
}
