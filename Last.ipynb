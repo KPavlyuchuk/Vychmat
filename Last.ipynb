{
 "cells": [
  {
   "cell_type": "code",
   "execution_count": 3,
   "id": "8b02a39a",
   "metadata": {},
   "outputs": [],
   "source": [
    "import numpy as np\n",
    "import math\n",
    "import sympy\n",
    "from sympy.abc import x,y\n",
    "from sympy import *\n",
    "init_printing( use_latex='mathjax' )\n",
    "f = Function(\"f\")"
   ]
  },
  {
   "cell_type": "markdown",
   "id": "e6261ade",
   "metadata": {},
   "source": [
    "$$I = \\int_{\\pi/4}^{5\\pi/4} |sin(sin(x))|dx$$"
   ]
  },
  {
   "cell_type": "markdown",
   "id": "e5248b52",
   "metadata": {},
   "source": [
    "Формула для составного метода Эйлера-Маклорена равна:\n",
    "\n",
    "$$\\int_{a}^{b} f(x)dx = \\frac{h}{2} (f_0 + 2f_1 + ... + 2f_{n-1} + f_n) + \\frac{h^2}{2}(f'_0 - f'_n)$$\n",
    "\n",
    "Функция не является дифференцируемой на отрезке, а значит что оценку нужно будет получить при помощи процесса Эйткена"
   ]
  },
  {
   "cell_type": "code",
   "execution_count": 4,
   "id": "9574b5bc",
   "metadata": {},
   "outputs": [
    {
     "data": {
      "text/latex": [
       "$\\displaystyle \\left|{\\sin{\\left(\\sin{\\left(x \\right)} \\right)}}\\right|$"
      ],
      "text/plain": [
       "│sin(sin(x))│"
      ]
     },
     "execution_count": 4,
     "metadata": {},
     "output_type": "execute_result"
    }
   ],
   "source": [
    "f = abs(sin(sin(x)))\n",
    "f"
   ]
  },
  {
   "cell_type": "markdown",
   "id": "b3180db6",
   "metadata": {},
   "source": [
    "Поскольку в точке $\\frac{\\pi}{4}$ и ее окрестности наша функция положительна, то ее производная в $\\frac{\\pi}{4}$ равна производной $sin(sin(x))$, в точке $\\frac{5\\pi}{4}$ иная ситуация, там функция и ее окрестность строго меньше нуля, тогда производная $f$ в $\\frac{5\\pi}{4}$ равна производной $-sin(sin(x))$\n",
    "\n",
    "\n",
    "Однако, т.к."
   ]
  },
  {
   "cell_type": "code",
   "execution_count": 5,
   "id": "6e786c21",
   "metadata": {},
   "outputs": [
    {
     "data": {
      "text/latex": [
       "$\\displaystyle \\cos{\\left(x \\right)} \\cos{\\left(\\sin{\\left(x \\right)} \\right)}$"
      ],
      "text/plain": [
       "cos(x)⋅cos(sin(x))"
      ]
     },
     "execution_count": 5,
     "metadata": {},
     "output_type": "execute_result"
    }
   ],
   "source": [
    "diff(sin(sin(x)), x)"
   ]
  },
  {
   "cell_type": "markdown",
   "id": "637a745f",
   "metadata": {},
   "source": [
    "То, нехитрыми тригонометрическими действиями легко выяснить, что $cos(\\pi/4) \\cdot cos(sin(\\pi/4)) = -cos(5\\pi/4) \\cdot cos(sin(5\\pi/4))$\n",
    "\n",
    "Значит производные на концах равны и $\\frac{h^2}{2}(f'_0 - f'_n) = 0$"
   ]
  },
  {
   "cell_type": "code",
   "execution_count": 6,
   "id": "10f8d1f6",
   "metadata": {},
   "outputs": [],
   "source": [
    "def EM(N1):\n",
    "    point=[0]\n",
    "    value=[f.subs(x, point[0])]\n",
    "    for i in range(0,N1):\n",
    "        point.append(point[i]+np.pi/N1)\n",
    "        value.append(f.subs(x,point[i+1]))\n",
    "    I = value[0] + value[N1-1]\n",
    "    for i in range(1, N1-1):\n",
    "        I += 2*value[i]\n",
    "    return I * (np.pi/N1)/2"
   ]
  },
  {
   "cell_type": "markdown",
   "id": "8846c02a",
   "metadata": {},
   "source": [
    "Уточним все с помощью процесса Эйткина\n",
    "\n",
    "Поскольку у нас 4 порядок точности, то формула будет иметь вид:\n",
    "\n",
    "$$\\begin{cases}\n",
    "  I = I_h + c \\cdot h^4\\\\\n",
    "  I = I_{2h} + c \\cdot (2h)^4\\\\\n",
    "\\end{cases}$$\n",
    "\n",
    "Откуда \n",
    "$$I = \\frac{16I_h - I_{2h}}{15}$$\n",
    "\n",
    "$$c = \\frac{I_h - I_{2h}}{15h^4}$$"
   ]
  },
  {
   "cell_type": "code",
   "execution_count": 7,
   "id": "cc191c32",
   "metadata": {},
   "outputs": [
    {
     "name": "stdout",
     "output_type": "stream",
     "text": [
      "0.3141592653589793\n"
     ]
    },
    {
     "data": {
      "text/latex": [
       "$\\displaystyle 0.327988911518753$"
      ],
      "text/plain": [
       "0.327988911518753"
      ]
     },
     "execution_count": 7,
     "metadata": {},
     "output_type": "execute_result"
    }
   ],
   "source": [
    "N=10\n",
    "h=np.pi/N\n",
    "print(h)\n",
    "c=(EM(2*N)-EM(N))/(15*h**4)\n",
    "abs(c)"
   ]
  },
  {
   "cell_type": "markdown",
   "id": "0e45c040",
   "metadata": {},
   "source": [
    "Ошибка получается\n",
    "\n",
    "$$E = h^4 \\cdot 0.328 \\rightarrow 10^{-4} = h^4 \\cdot 0.328 \\rightarrow h \\leq 0.132$$\n",
    "\n",
    "Откуда получим что $N = \\frac{\\pi}{h} = 23.8$, значит берем $N = 24$"
   ]
  },
  {
   "cell_type": "markdown",
   "id": "88bd8011",
   "metadata": {},
   "source": [
    "Тогда наш интеграл по формуле составного метода Эйлера-Маклорена равен"
   ]
  },
  {
   "cell_type": "code",
   "execution_count": 8,
   "id": "57f953fd",
   "metadata": {},
   "outputs": [
    {
     "data": {
      "text/latex": [
       "$\\displaystyle 1.77511137630677$"
      ],
      "text/plain": [
       "1.77511137630677"
      ]
     },
     "execution_count": 8,
     "metadata": {},
     "output_type": "execute_result"
    }
   ],
   "source": [
    "EM(24)"
   ]
  },
  {
   "cell_type": "markdown",
   "id": "3adfad06",
   "metadata": {},
   "source": [
    "А уточнив полученное значение интеграла при помощи процесса Эйткена"
   ]
  },
  {
   "cell_type": "code",
   "execution_count": 9,
   "id": "69aae43c",
   "metadata": {},
   "outputs": [
    {
     "data": {
      "text/latex": [
       "$\\displaystyle 1.7773497600902$"
      ],
      "text/plain": [
       "1.77734976009020"
      ]
     },
     "execution_count": 9,
     "metadata": {},
     "output_type": "execute_result"
    }
   ],
   "source": [
    "(16*EM(24) - EM(12))/15"
   ]
  }
 ],
 "metadata": {
  "kernelspec": {
   "display_name": "Python 3 (ipykernel)",
   "language": "python",
   "name": "python3"
  },
  "language_info": {
   "codemirror_mode": {
    "name": "ipython",
    "version": 3
   },
   "file_extension": ".py",
   "mimetype": "text/x-python",
   "name": "python",
   "nbconvert_exporter": "python",
   "pygments_lexer": "ipython3",
   "version": "3.9.12"
  }
 },
 "nbformat": 4,
 "nbformat_minor": 5
}
