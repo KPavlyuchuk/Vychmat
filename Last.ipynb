{
 "cells": [
  {
   "cell_type": "code",
   "execution_count": 15,
   "id": "8b02a39a",
   "metadata": {},
   "outputs": [],
   "source": [
    "import numpy as np\n",
    "import math\n",
    "import sympy\n",
    "from sympy.abc import x,y\n",
    "from sympy import *\n",
    "init_printing( use_latex='mathjax' )\n",
    "f = Function(\"f\")"
   ]
  },
  {
   "cell_type": "markdown",
   "id": "e6261ade",
   "metadata": {},
   "source": [
    "$$I = \\int_{\\pi/4}^{5\\pi/4} |sin(sin(x))|dx$$"
   ]
  },
  {
   "cell_type": "markdown",
   "id": "e5248b52",
   "metadata": {},
   "source": [
    "Формула для составного метода Эйлера-Маклорена равна:\n",
    "\n",
    "$$\\int_{a}^{b} f(x)dx = \\frac{h}{2} (f_0 + 2f_1 + ... + 2f_{n-1} + f_n) + \\frac{h^2}{2}(f'_0 - f'_n)$$\n",
    "\n",
    "Где ошибка будет:\n",
    "\n",
    "$$ E \\leq \\frac{b-a}{720} h^4 M_4$$\n",
    "\n",
    "Посчитав в Desmos значение четвертой производной, получаем условие на $h$:\n",
    "\n",
    "$$h \\geq \\left(\\frac{720E}{M_4(b-a)} \\right)^{1/4}$$\n",
    "$$h \\geq \\left(\\frac{720 \\cdot 10^{-4}}{3.768 \\cdot \\pi} \\right)^{1/4}$$\n",
    "$$h \\geq 0.28$$\n",
    "\n",
    "Тогда всего интервалов будет:\n",
    "\n",
    "$$N = \\frac{b-a}{h} = \\frac{\\pi}{0.28} = 11.2$$\n",
    "\n",
    "Берем $N = 12$"
   ]
  },
  {
   "cell_type": "code",
   "execution_count": 48,
   "id": "2ba1418b",
   "metadata": {},
   "outputs": [],
   "source": [
    "N = symbols(\"N\")\n",
    "N = 12"
   ]
  },
  {
   "cell_type": "code",
   "execution_count": 49,
   "id": "9574b5bc",
   "metadata": {},
   "outputs": [
    {
     "data": {
      "text/latex": [
       "$\\displaystyle \\left|{\\sin{\\left(\\sin{\\left(x \\right)} \\right)}}\\right|$"
      ],
      "text/plain": [
       "│sin(sin(x))│"
      ]
     },
     "execution_count": 49,
     "metadata": {},
     "output_type": "execute_result"
    }
   ],
   "source": [
    "f = abs(sin(sin(x)))\n",
    "f"
   ]
  },
  {
   "cell_type": "code",
   "execution_count": 50,
   "id": "12b9e85f",
   "metadata": {},
   "outputs": [
    {
     "data": {
      "text/latex": [
       "$\\displaystyle \\left[ 0, \\  0.261799387799149, \\  0.523598775598299, \\  0.785398163397448, \\  1.0471975511966, \\  1.30899693899575, \\  1.5707963267949, \\  1.83259571459405, \\  2.0943951023932, \\  2.35619449019234, \\  2.61799387799149, \\  2.87979326579064, \\  3.14159265358979\\right]$"
      ],
      "text/plain": [
       "[0, 0.2617993877991494, 0.5235987755982988, 0.7853981633974483, 1.047197551196\n",
       "5976, 1.308996938995747, 1.5707963267948963, 1.8325957145940457, 2.09439510239\n",
       "31953, 2.356194490192345, 2.6179938779914944, 2.879793265790644, 3.14159265358\n",
       "97936]"
      ]
     },
     "execution_count": 50,
     "metadata": {},
     "output_type": "execute_result"
    }
   ],
   "source": [
    "point = [0]\n",
    "for i in range(0, N):\n",
    "    point.append(point[i] + np.pi/N)\n",
    "point"
   ]
  },
  {
   "cell_type": "code",
   "execution_count": 51,
   "id": "0c116cc2",
   "metadata": {},
   "outputs": [
    {
     "data": {
      "text/latex": [
       "$\\displaystyle \\left[ 0, \\  0.255939109910631, \\  0.479425538604203, \\  0.649636939080062, \\  0.761759981416289, \\  0.822575745136625, \\  0.841470984807897, \\  0.822575745136625, \\  0.761759981416289, \\  0.649636939080062, \\  0.479425538604203, \\  0.25593910991063, \\  3.21624529935327 \\cdot 10^{-16}\\right]$"
      ],
      "text/plain": [
       "[0, 0.255939109910631, 0.479425538604203, 0.649636939080062, 0.761759981416289\n",
       ", 0.822575745136625, 0.841470984807897, 0.822575745136625, 0.761759981416289, \n",
       "0.649636939080062, 0.479425538604203, 0.25593910991063, 3.21624529935327e-16]"
      ]
     },
     "execution_count": 51,
     "metadata": {},
     "output_type": "execute_result"
    }
   ],
   "source": [
    "value = [f.subs(x, point[0])]\n",
    "for i in range(0,N):\n",
    "    value.append(f.subs(x, point[i+1]))\n",
    "value"
   ]
  },
  {
   "cell_type": "markdown",
   "id": "b3180db6",
   "metadata": {},
   "source": [
    "Поскольку в точке $\\frac{\\pi}{4}$ и ее окрестности наша функция положительна, то ее производная в $\\frac{\\pi}{4}$ равна производной $sin(sin(x))$, в точке $\\frac{5\\pi}{4}$ иная ситуация, там функция и ее окрестность строго меньше нуля, тогда производная $f$ в $\\frac{5\\pi}{4}$ равна производной $-sin(sin(x))$\n",
    "\n",
    "\n",
    "Однако, т.к."
   ]
  },
  {
   "cell_type": "code",
   "execution_count": 52,
   "id": "6e786c21",
   "metadata": {},
   "outputs": [
    {
     "data": {
      "text/latex": [
       "$\\displaystyle \\cos{\\left(x \\right)} \\cos{\\left(\\sin{\\left(x \\right)} \\right)}$"
      ],
      "text/plain": [
       "cos(x)⋅cos(sin(x))"
      ]
     },
     "execution_count": 52,
     "metadata": {},
     "output_type": "execute_result"
    }
   ],
   "source": [
    "diff(sin(sin(x)), x)"
   ]
  },
  {
   "cell_type": "markdown",
   "id": "637a745f",
   "metadata": {},
   "source": [
    "То, нехитрыми тригонометрическими действиями легко выяснить, что $cos(\\pi/4) \\cdot cos(sin(\\pi/4)) = -cos(5\\pi/4) \\cdot cos(sin(5\\pi/4))$\n",
    "\n",
    "Значит производные на концах равны и $\\frac{h^2}{2}(f'_0 - f'_n) = 0$"
   ]
  },
  {
   "cell_type": "code",
   "execution_count": 58,
   "id": "ce31c0c8",
   "metadata": {},
   "outputs": [
    {
     "data": {
      "text/latex": [
       "$\\displaystyle 1.70803326841113$"
      ],
      "text/plain": [
       "1.70803326841113"
      ]
     },
     "execution_count": 58,
     "metadata": {},
     "output_type": "execute_result"
    }
   ],
   "source": [
    "I=value[0] + value[N]\n",
    "for i in range(1, N-1):\n",
    "        I += 2*value[i]\n",
    "Int = (np.pi/N)/2 * I\n",
    "Int"
   ]
  },
  {
   "cell_type": "markdown",
   "id": "8846c02a",
   "metadata": {},
   "source": [
    "Уточним все с помощью процесса Эйткина\n",
    "\n",
    "Поскольку у нас 4 порядок точности, то формула будет иметь вид:\n",
    "\n",
    "$$\\begin{cases}\n",
    "  I = I_h + c \\cdot h^4\\\\\n",
    "  I = I_{2h} + c \\cdot (2h)^4\\\\\n",
    "\\end{cases}$$\n",
    "\n",
    "Откуда \n",
    "$$I = \\frac{16I_h - I_{2h}}{15}$$"
   ]
  },
  {
   "cell_type": "code",
   "execution_count": 59,
   "id": "10f8d1f6",
   "metadata": {},
   "outputs": [],
   "source": [
    "def EM(N1):\n",
    "    point=[0]\n",
    "    value=[f.subs(x, point[0])]\n",
    "    for i in range(0,N1):\n",
    "        point.append(point[i]+np.pi/N1)\n",
    "        value.append(f.subs(x,point[i+1]))\n",
    "    I = value[0] + value[N1-1]\n",
    "    for i in range(1, N1-1):\n",
    "        I += 2*value[i]\n",
    "    return I * (np.pi/N1)/2"
   ]
  },
  {
   "cell_type": "code",
   "execution_count": 60,
   "id": "69aae43c",
   "metadata": {},
   "outputs": [
    {
     "data": {
      "text/latex": [
       "$\\displaystyle 1.74998157405964$"
      ],
      "text/plain": [
       "1.74998157405964"
      ]
     },
     "execution_count": 60,
     "metadata": {},
     "output_type": "execute_result"
    }
   ],
   "source": [
    "(16*EM(12) - EM(6))/15"
   ]
  }
 ],
 "metadata": {
  "kernelspec": {
   "display_name": "Python 3 (ipykernel)",
   "language": "python",
   "name": "python3"
  },
  "language_info": {
   "codemirror_mode": {
    "name": "ipython",
    "version": 3
   },
   "file_extension": ".py",
   "mimetype": "text/x-python",
   "name": "python",
   "nbconvert_exporter": "python",
   "pygments_lexer": "ipython3",
   "version": "3.9.12"
  }
 },
 "nbformat": 4,
 "nbformat_minor": 5
}
