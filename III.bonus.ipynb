{
 "cells": [
  {
   "cell_type": "code",
   "execution_count": 1,
   "id": "ee669f39",
   "metadata": {},
   "outputs": [],
   "source": [
    "import math\n",
    "from sympy.matrices import Matrix\n",
    "import sympy\n",
    "import numpy as np\n",
    "from sympy.abc import x,y\n",
    "from sympy import *\n",
    "init_printing( use_latex='mathjax' )\n",
    "f = Function(\"f\")\n",
    "h = symbols(\"h\")\n",
    "x0=symbols(\"x0\")"
   ]
  },
  {
   "cell_type": "code",
   "execution_count": 3,
   "id": "3200023a",
   "metadata": {},
   "outputs": [],
   "source": [
    "N = symbols(\"N\")\n",
    "N = 6"
   ]
  },
  {
   "cell_type": "code",
   "execution_count": 58,
   "id": "6899fd6a",
   "metadata": {},
   "outputs": [],
   "source": [
    "x = np.random.randint(0, 100, N)\n",
    "y = np.random.randint(0, 100, N)"
   ]
  },
  {
   "cell_type": "code",
   "execution_count": 59,
   "id": "f299c380",
   "metadata": {},
   "outputs": [
    {
     "data": {
      "image/png": "[encoded data removed]",
      "text/plain": [
       "<Figure size 432x288 with 1 Axes>"
      ]
     },
     "metadata": {
      "needs_background": "light"
     },
     "output_type": "display_data"
    }
   ],
   "source": [
    "import matplotlib.pyplot as plt\n",
    "import matplotlib as mpl\n",
    "import decimal\n",
    "%matplotlib inline\n",
    "import matplotlib.pyplot as plt\n",
    "\n",
    "plt.scatter(x, y)\n",
    "plt.show()\n",
    "\n",
    "\n",
    "plt.show()"
   ]
  },
  {
   "cell_type": "code",
   "execution_count": 60,
   "id": "bb145ac3",
   "metadata": {},
   "outputs": [
    {
     "data": {
      "text/plain": [
       "array([89, 22, 69, 83, 19, 43])"
      ]
     },
     "execution_count": 60,
     "metadata": {},
     "output_type": "execute_result"
    }
   ],
   "source": [
    "x"
   ]
  },
  {
   "cell_type": "code",
   "execution_count": 61,
   "id": "386b4bad",
   "metadata": {},
   "outputs": [
    {
     "data": {
      "text/plain": [
       "array([63, 35,  9, 32, 27, 75])"
      ]
     },
     "execution_count": 61,
     "metadata": {},
     "output_type": "execute_result"
    }
   ],
   "source": [
    "y"
   ]
  },
  {
   "cell_type": "code",
   "execution_count": 62,
   "id": "e5824cff",
   "metadata": {},
   "outputs": [
    {
     "data": {
      "text/latex": [
       "$\\displaystyle 54.1666666666667$"
      ],
      "text/plain": [
       "54.166666666666664"
      ]
     },
     "execution_count": 62,
     "metadata": {},
     "output_type": "execute_result"
    }
   ],
   "source": [
    "x0 = (1/N)*(sum(x))\n",
    "x0"
   ]
  },
  {
   "cell_type": "code",
   "execution_count": 63,
   "id": "1b4c5b65",
   "metadata": {},
   "outputs": [
    {
     "data": {
      "text/latex": [
       "$\\displaystyle 40.1666666666667$"
      ],
      "text/plain": [
       "40.166666666666664"
      ]
     },
     "execution_count": 63,
     "metadata": {},
     "output_type": "execute_result"
    }
   ],
   "source": [
    "y0 = (1/N)*(sum(y))\n",
    "y0"
   ]
  },
  {
   "cell_type": "code",
   "execution_count": 64,
   "id": "dde98bdd",
   "metadata": {},
   "outputs": [
    {
     "data": {
      "text/plain": [
       "array([41.64999667, 32.5789639 , 34.51650169, 29.96757507, 37.55070646,\n",
       "       36.57944171])"
      ]
     },
     "execution_count": 64,
     "metadata": {},
     "output_type": "execute_result"
    }
   ],
   "source": [
    "array = np.sqrt((x - x0)**2 + (y - y0)**2)\n",
    "array"
   ]
  },
  {
   "cell_type": "code",
   "execution_count": 65,
   "id": "71f4a497",
   "metadata": {},
   "outputs": [],
   "source": [
    "r = (1/N)*(sum(array))"
   ]
  },
  {
   "cell_type": "code",
   "execution_count": 66,
   "id": "42e1be44",
   "metadata": {},
   "outputs": [
    {
     "data": {
      "image/png": "[encoded data removed]",
      "text/plain": [
       "<Figure size 432x288 with 1 Axes>"
      ]
     },
     "metadata": {
      "needs_background": "light"
     },
     "output_type": "display_data"
    }
   ],
   "source": [
    "plt.scatter(x, y)\n",
    "\n",
    "circle = plt.Circle((x0, y0), r, color='r', fill=false)\n",
    "ax=plt.gca()\n",
    "ax.add_patch(circle)\n",
    "plt.axis('scaled')\n",
    "plt.show()"
   ]
  },
  {
   "cell_type": "code",
   "execution_count": null,
   "id": "7766b183",
   "metadata": {},
   "outputs": [],
   "source": []
  }
 ],
 "metadata": {
  "kernelspec": {
   "display_name": "Python 3 (ipykernel)",
   "language": "python",
   "name": "python3"
  },
  "language_info": {
   "codemirror_mode": {
    "name": "ipython",
    "version": 3
   },
   "file_extension": ".py",
   "mimetype": "text/x-python",
   "name": "python",
   "nbconvert_exporter": "python",
   "pygments_lexer": "ipython3",
   "version": "3.9.12"
  }
 },
 "nbformat": 4,
 "nbformat_minor": 5
}
