{
 "cells": [
  {
   "cell_type": "markdown",
   "id": "269f887f",
   "metadata": {},
   "source": [
    "$$f'(2) - ?$$"
   ]
  },
  {
   "cell_type": "code",
   "execution_count": 1,
   "id": "f8759c5a",
   "metadata": {},
   "outputs": [],
   "source": [
    "import math\n",
    "from sympy.matrices import Matrix\n",
    "import sympy\n",
    "from sympy.abc import x,y\n",
    "from sympy import *\n",
    "init_printing( use_latex='mathjax' )\n",
    "f = Function(\"f\")"
   ]
  },
  {
   "cell_type": "code",
   "execution_count": 2,
   "id": "5f7b6eed",
   "metadata": {},
   "outputs": [],
   "source": [
    "f=[1, 0.5, 0.3, 0.2, 0.1]\n",
    "val=[0, 1, 2, 5, 7]"
   ]
  },
  {
   "cell_type": "markdown",
   "id": "54f582c7",
   "metadata": {},
   "source": [
    "Строим интерполяционный полином Лагранжа"
   ]
  },
  {
   "cell_type": "code",
   "execution_count": 3,
   "id": "2fc1ea08",
   "metadata": {},
   "outputs": [
    {
     "data": {
      "text/latex": [
       "$\\displaystyle \\frac{\\left(x - 7\\right) \\left(x - 5\\right) \\left(x - 2\\right) \\left(x - 1\\right)}{70}$"
      ],
      "text/plain": [
       "(x - 7)⋅(x - 5)⋅(x - 2)⋅(x - 1)\n",
       "───────────────────────────────\n",
       "               70              "
      ]
     },
     "execution_count": 3,
     "metadata": {},
     "output_type": "execute_result"
    }
   ],
   "source": [
    "L_1=Function(\"L_1\")\n",
    "L_1=(x-val[1])*(x-val[2])*(x-val[3])*(x-val[4])/((val[0]-val[1])*(val[0]-val[2])*(val[0]-val[3])*(val[0]-val[4]))\n",
    "L_1"
   ]
  },
  {
   "cell_type": "code",
   "execution_count": 4,
   "id": "b68662c3",
   "metadata": {},
   "outputs": [
    {
     "data": {
      "text/latex": [
       "$\\displaystyle - \\frac{x \\left(x - 7\\right) \\left(x - 5\\right) \\left(x - 2\\right)}{24}$"
      ],
      "text/plain": [
       "-x⋅(x - 7)⋅(x - 5)⋅(x - 2) \n",
       "───────────────────────────\n",
       "             24            "
      ]
     },
     "execution_count": 4,
     "metadata": {},
     "output_type": "execute_result"
    }
   ],
   "source": [
    "L_2=Function(\"L_2\")\n",
    "L_2=(x-val[0])*(x-val[2])*(x-val[3])*(x-val[4])/((val[1]-val[0])*(val[1]-val[2])*(val[1]-val[3])*(val[1]-val[4]))\n",
    "L_2"
   ]
  },
  {
   "cell_type": "code",
   "execution_count": 5,
   "id": "2d3d62a3",
   "metadata": {},
   "outputs": [
    {
     "data": {
      "text/latex": [
       "$\\displaystyle \\frac{x \\left(x - 7\\right) \\left(x - 5\\right) \\left(x - 1\\right)}{30}$"
      ],
      "text/plain": [
       "x⋅(x - 7)⋅(x - 5)⋅(x - 1)\n",
       "─────────────────────────\n",
       "            30           "
      ]
     },
     "execution_count": 5,
     "metadata": {},
     "output_type": "execute_result"
    }
   ],
   "source": [
    "L_3=Function(\"L_3\")\n",
    "L_3=(x-val[0])*(x-val[1])*(x-val[3])*(x-val[4])/((val[2]-val[0])*(val[2]-val[1])*(val[2]-val[3])*(val[2]-val[4]))\n",
    "L_3"
   ]
  },
  {
   "cell_type": "code",
   "execution_count": 6,
   "id": "5e53bcae",
   "metadata": {},
   "outputs": [
    {
     "data": {
      "text/latex": [
       "$\\displaystyle - \\frac{x \\left(x - 7\\right) \\left(x - 2\\right) \\left(x - 1\\right)}{120}$"
      ],
      "text/plain": [
       "-x⋅(x - 7)⋅(x - 2)⋅(x - 1) \n",
       "───────────────────────────\n",
       "            120            "
      ]
     },
     "execution_count": 6,
     "metadata": {},
     "output_type": "execute_result"
    }
   ],
   "source": [
    "L_4=Function(\"L_4\")\n",
    "L_4=(x-val[0])*(x-val[1])*(x-val[2])*(x-val[4])/((val[3]-val[0])*(val[3]-val[1])*(val[3]-val[2])*(val[3]-val[4]))\n",
    "L_4"
   ]
  },
  {
   "cell_type": "code",
   "execution_count": 7,
   "id": "dcdb49e7",
   "metadata": {},
   "outputs": [
    {
     "data": {
      "text/latex": [
       "$\\displaystyle \\frac{x \\left(x - 5\\right) \\left(x - 2\\right) \\left(x - 1\\right)}{420}$"
      ],
      "text/plain": [
       "x⋅(x - 5)⋅(x - 2)⋅(x - 1)\n",
       "─────────────────────────\n",
       "           420           "
      ]
     },
     "execution_count": 7,
     "metadata": {},
     "output_type": "execute_result"
    }
   ],
   "source": [
    "L_5=Function(\"L_5\")\n",
    "L_5=(x-val[0])*(x-val[1])*(x-val[2])*(x-val[3])/((val[4]-val[0])*(val[4]-val[1])*(val[4]-val[2])*(val[4]-val[3]))\n",
    "L_5"
   ]
  },
  {
   "cell_type": "markdown",
   "id": "57a5477b",
   "metadata": {},
   "source": [
    "Итоговый многочлен равен"
   ]
  },
  {
   "cell_type": "code",
   "execution_count": 8,
   "id": "f02d658e",
   "metadata": {},
   "outputs": [
    {
     "data": {
      "text/latex": [
       "$\\displaystyle - 0.0208333333333333 x \\left(x - 7\\right) \\left(x - 5\\right) \\left(x - 2\\right) + 0.01 x \\left(x - 7\\right) \\left(x - 5\\right) \\left(x - 1\\right) - 0.00166666666666667 x \\left(x - 7\\right) \\left(x - 2\\right) \\left(x - 1\\right) + 0.000238095238095238 x \\left(x - 5\\right) \\left(x - 2\\right) \\left(x - 1\\right) + \\frac{\\left(x - 7\\right) \\left(x - 5\\right) \\left(x - 2\\right) \\left(x - 1\\right)}{70}$"
      ],
      "text/plain": [
       "                                                                              \n",
       "-0.0208333333333333⋅x⋅(x - 7)⋅(x - 5)⋅(x - 2) + 0.01⋅x⋅(x - 7)⋅(x - 5)⋅(x - 1)\n",
       "                                                                              \n",
       "\n",
       "                                                                              \n",
       " - 0.00166666666666667⋅x⋅(x - 7)⋅(x - 2)⋅(x - 1) + 0.000238095238095238⋅x⋅(x -\n",
       "                                                                              \n",
       "\n",
       "                      (x - 7)⋅(x - 5)⋅(x - 2)⋅(x - 1)\n",
       " 5)⋅(x - 2)⋅(x - 1) + ───────────────────────────────\n",
       "                                     70              "
      ]
     },
     "execution_count": 8,
     "metadata": {},
     "output_type": "execute_result"
    }
   ],
   "source": [
    "L=Function(\"L\")\n",
    "L=f[0]*L_1+f[1]*L_2+f[2]*L_3+f[3]*L_4+f[4]*L_5\n",
    "L"
   ]
  },
  {
   "cell_type": "code",
   "execution_count": 9,
   "id": "6086156e",
   "metadata": {},
   "outputs": [
    {
     "data": {
      "text/latex": [
       "$\\displaystyle - 0.0108333333333333 x \\left(x - 7\\right) \\left(x - 5\\right) - 0.0225 x \\left(x - 7\\right) \\left(x - 2\\right) + 0.00833333333333333 x \\left(x - 7\\right) \\left(x - 1\\right) - 0.0205952380952381 x \\left(x - 5\\right) \\left(x - 2\\right) + 0.0102380952380952 x \\left(x - 5\\right) \\left(x - 1\\right) - 0.00142857142857143 x \\left(x - 2\\right) \\left(x - 1\\right) + \\left(0.00166666666666667 - 0.00166666666666667 x\\right) \\left(x - 7\\right) \\left(x - 2\\right) + \\left(0.145833333333333 - 0.0208333333333333 x\\right) \\left(x - 5\\right) \\left(x - 2\\right) + \\left(0.000238095238095238 x - 0.000238095238095238\\right) \\left(x - 5\\right) \\left(x - 2\\right) + \\left(0.01 x - 0.01\\right) \\left(x - 7\\right) \\left(x - 5\\right) + \\left(\\frac{x}{70} - \\frac{1}{10}\\right) \\left(x - 5\\right) \\left(x - 2\\right) + \\left(\\frac{x}{70} - \\frac{1}{70}\\right) \\left(x - 7\\right) \\left(x - 5\\right) + \\left(\\frac{x}{70} - \\frac{1}{70}\\right) \\left(x - 7\\right) \\left(x - 2\\right) + \\left(\\frac{x}{70} - \\frac{1}{70}\\right) \\left(x - 5\\right) \\left(x - 2\\right)$"
      ],
      "text/plain": [
       "                                                                              \n",
       "-0.0108333333333333⋅x⋅(x - 7)⋅(x - 5) - 0.0225⋅x⋅(x - 7)⋅(x - 2) + 0.008333333\n",
       "                                                                              \n",
       "\n",
       "                                                                              \n",
       "33333333⋅x⋅(x - 7)⋅(x - 1) - 0.0205952380952381⋅x⋅(x - 5)⋅(x - 2) + 0.01023809\n",
       "                                                                              \n",
       "\n",
       "                                                                              \n",
       "52380952⋅x⋅(x - 5)⋅(x - 1) - 0.00142857142857143⋅x⋅(x - 2)⋅(x - 1) + (0.001666\n",
       "                                                                              \n",
       "\n",
       "                                                                              \n",
       "66666666667 - 0.00166666666666667⋅x)⋅(x - 7)⋅(x - 2) + (0.145833333333333 - 0.\n",
       "                                                                              \n",
       "\n",
       "                                                                              \n",
       "0208333333333333⋅x)⋅(x - 5)⋅(x - 2) + (0.000238095238095238⋅x - 0.000238095238\n",
       "                                                                              \n",
       "\n",
       "                                                            ⎛x    1 ⎞         \n",
       "095238)⋅(x - 5)⋅(x - 2) + (0.01⋅x - 0.01)⋅(x - 7)⋅(x - 5) + ⎜── - ──⎟⋅(x - 5)⋅\n",
       "                                                            ⎝70   10⎠         \n",
       "\n",
       "          ⎛x    1 ⎞                   ⎛x    1 ⎞                   ⎛x    1 ⎞   \n",
       "(x - 2) + ⎜── - ──⎟⋅(x - 7)⋅(x - 5) + ⎜── - ──⎟⋅(x - 7)⋅(x - 2) + ⎜── - ──⎟⋅(x\n",
       "          ⎝70   70⎠                   ⎝70   70⎠                   ⎝70   70⎠   \n",
       "\n",
       "             \n",
       " - 5)⋅(x - 2)\n",
       "             "
      ]
     },
     "execution_count": 9,
     "metadata": {},
     "output_type": "execute_result"
    }
   ],
   "source": [
    "g = diff(L)\n",
    "g"
   ]
  },
  {
   "cell_type": "code",
   "execution_count": 10,
   "id": "c01007d0",
   "metadata": {},
   "outputs": [
    {
     "data": {
      "text/latex": [
       "$\\displaystyle -0.10547619047619$"
      ],
      "text/plain": [
       "-0.105476190476190"
      ]
     },
     "execution_count": 10,
     "metadata": {},
     "output_type": "execute_result"
    }
   ],
   "source": [
    "g.subs(x,2)"
   ]
  },
  {
   "cell_type": "markdown",
   "id": "63996f06",
   "metadata": {},
   "source": [
    "Методом неопределенных коэффициентов"
   ]
  },
  {
   "cell_type": "markdown",
   "id": "c02553dd",
   "metadata": {},
   "source": [
    "Подберем коэффициенты $a,b,c,d,e$ так, что бы \n",
    "\\begin{equation}\n",
    "af(x_{0})+bf(x_{1})+cf(x_{2})+df(x_{3})+ef(x_{4}) = f'(x_2)\n",
    "\\end{equation}\n",
    "\n",
    "Разложив в ряд Тейлора получим:\n",
    "\n",
    "\\begin{equation}\n",
    "a \\left(f(x_{2}) + (x_{0}-x_{2})f'(x_{2}) + \\frac{(x_{0}-x_{2})^2}{2}f''(x_{2}) + \\frac{(x_{0}-x_{2})^3}{6}f'''(x_{2}) + \\frac{(x_{0}-x_{2})^4}{24}f^{IV}(x_{2}) + \\frac{(x_{0}-x_{2})^5}{120}f^{V}(\\theta) \\right) +\n",
    "b \\left(f(x_{2}) + (x_{1}-x_{2})f'(x_{2}) + \\frac{(x_{1}-x_{2})^2}{2}f''(x_{2}) + \\frac{(x_{1}-x_{2})^3}{6}f'''(x_{2}) + \\frac{(x_{1}-x_{2})^4}{24}f^{IV}(x_{2}) + \\frac{(x_{1}-x_{2})^5}{120}f^{V}(\\theta) \\right) +\n",
    "c \\cdot f(x_{2}) +\n",
    "d \\left(f(x_{2}) + (x_{3}-x_{2})f'(x_{2}) + \\frac{(x_{3}-x_{2})^2}{2}f''(x_{2}) + \\frac{(x_{3}-x_{2})^3}{6}f'''(x_{2}) + \\frac{(x_{3}-x_{2})^4}{24}f^{IV}(x_{2}) + \\frac{(x_{3}-x_{2})^5}{120}f^{V}(\\theta) \\right) +\n",
    "e \\left(f(x_{2}) + (x_{4}-x_{2})f'(x_{2}) + \\frac{(x_{4}-x_{2})^2}{2}f''(x_{2}) + \\frac{(x_{4}-x_{2})^3}{6}f'''(x_{2}) + \\frac{(x_{4}-x_{2})^4}{24}f^{IV}(x_{2}) + \\frac{(x_{4}-x_{2})^5}{120}f^{V}(\\theta) \\right) = f'(x_2)\n",
    "\\end{equation}\n",
    "\n",
    "Откуда и систему на коэфициенты:\n",
    "\n",
    "\\begin{cases}\n",
    "   a + b + c + d + e = 0\\\\\n",
    "   -2a -b +3d + 5e = 1\\\\\n",
    "   4a + b + 9d + 25e = 0\\\\\n",
    "   -8a - b + 27d + 125e = 0\\\\\n",
    "   16a + b + 81d + 625e = 0\n",
    "\\end{cases}"
   ]
  },
  {
   "cell_type": "code",
   "execution_count": 11,
   "id": "d625b773",
   "metadata": {},
   "outputs": [
    {
     "data": {
      "text/latex": [
       "$\\displaystyle \\left[\\begin{matrix}1 & 1 & 1 & 1 & 1\\\\-2 & -1 & 0 & 3 & 5\\\\4 & 1 & 0 & 9 & 25\\\\-8 & -1 & 0 & 27 & 125\\\\16 & 1 & 0 & 81 & 625\\end{matrix}\\right]$"
      ],
      "text/plain": [
       "⎡1   1   1  1    1 ⎤\n",
       "⎢                  ⎥\n",
       "⎢-2  -1  0  3    5 ⎥\n",
       "⎢                  ⎥\n",
       "⎢4   1   0  9   25 ⎥\n",
       "⎢                  ⎥\n",
       "⎢-8  -1  0  27  125⎥\n",
       "⎢                  ⎥\n",
       "⎣16  1   0  81  625⎦"
      ]
     },
     "execution_count": 11,
     "metadata": {},
     "output_type": "execute_result"
    }
   ],
   "source": [
    "M=Matrix([[1,1,1,1,1], [-2,-1,0,3,5], [4,1,0,9,25], [-8,-1,0,27,125], [16,1,0,81,625]])\n",
    "M"
   ]
  },
  {
   "cell_type": "code",
   "execution_count": 12,
   "id": "b54803ec",
   "metadata": {},
   "outputs": [
    {
     "data": {
      "text/latex": [
       "$\\displaystyle \\left[\\begin{matrix}0\\\\1\\\\0\\\\0\\\\0\\end{matrix}\\right]$"
      ],
      "text/plain": [
       "⎡0⎤\n",
       "⎢ ⎥\n",
       "⎢1⎥\n",
       "⎢ ⎥\n",
       "⎢0⎥\n",
       "⎢ ⎥\n",
       "⎢0⎥\n",
       "⎢ ⎥\n",
       "⎣0⎦"
      ]
     },
     "execution_count": 12,
     "metadata": {},
     "output_type": "execute_result"
    }
   ],
   "source": [
    "b = Matrix([0,1,0,0,0])\n",
    "b"
   ]
  },
  {
   "cell_type": "code",
   "execution_count": 13,
   "id": "c853790c",
   "metadata": {},
   "outputs": [
    {
     "data": {
      "text/latex": [
       "$\\displaystyle \\left[\\begin{matrix}\\frac{3}{14}\\\\- \\frac{5}{4}\\\\\\frac{29}{30}\\\\\\frac{1}{12}\\\\- \\frac{1}{70}\\end{matrix}\\right]$"
      ],
      "text/plain": [
       "⎡3/14 ⎤\n",
       "⎢     ⎥\n",
       "⎢-5/4 ⎥\n",
       "⎢     ⎥\n",
       "⎢ 29  ⎥\n",
       "⎢ ──  ⎥\n",
       "⎢ 30  ⎥\n",
       "⎢     ⎥\n",
       "⎢1/12 ⎥\n",
       "⎢     ⎥\n",
       "⎣-1/70⎦"
      ]
     },
     "execution_count": 13,
     "metadata": {},
     "output_type": "execute_result"
    }
   ],
   "source": [
    "sol=M.inv()*b\n",
    "sol"
   ]
  },
  {
   "cell_type": "code",
   "execution_count": 14,
   "id": "608c5687",
   "metadata": {},
   "outputs": [
    {
     "data": {
      "text/latex": [
       "$\\displaystyle \\left[\\begin{matrix}1 & 0.5 & 0.3 & 0.2 & 0.1\\end{matrix}\\right]$"
      ],
      "text/plain": [
       "[1  0.5  0.3  0.2  0.1]"
      ]
     },
     "execution_count": 14,
     "metadata": {},
     "output_type": "execute_result"
    }
   ],
   "source": [
    "func=Matrix([f[0],f[1],f[2],f[3],f[4]])\n",
    "func.T"
   ]
  },
  {
   "cell_type": "code",
   "execution_count": 15,
   "id": "0b0b88c5",
   "metadata": {},
   "outputs": [
    {
     "data": {
      "text/latex": [
       "$\\displaystyle \\left[\\begin{matrix}-0.10547619047619\\end{matrix}\\right]$"
      ],
      "text/plain": [
       "[-0.10547619047619]"
      ]
     },
     "execution_count": 15,
     "metadata": {},
     "output_type": "execute_result"
    }
   ],
   "source": [
    "func.T*sol"
   ]
  }
 ],
 "metadata": {
  "kernelspec": {
   "display_name": "Python 3 (ipykernel)",
   "language": "python",
   "name": "python3"
  },
  "language_info": {
   "codemirror_mode": {
    "name": "ipython",
    "version": 3
   },
   "file_extension": ".py",
   "mimetype": "text/x-python",
   "name": "python",
   "nbconvert_exporter": "python",
   "pygments_lexer": "ipython3",
   "version": "3.9.12"
  }
 },
 "nbformat": 4,
 "nbformat_minor": 5
}
