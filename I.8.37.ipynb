{
 "cells": [
  {
   "cell_type": "code",
   "execution_count": 1,
   "id": "8ad550ea",
   "metadata": {},
   "outputs": [],
   "source": [
    "import sympy\n",
    "from sympy.abc import x,y\n",
    "from sympy import *\n",
    "init_printing( use_latex='mathjax' )\n",
    "f = Function(\"f\")\n",
    "h = symbols(\"h\")\n",
    "x0=symbols(\"x0\")"
   ]
  },
  {
   "cell_type": "markdown",
   "id": "73720402",
   "metadata": {},
   "source": [
    "Формула для вычисления второй производной функции"
   ]
  },
  {
   "cell_type": "code",
   "execution_count": 2,
   "id": "dd9a6802",
   "metadata": {},
   "outputs": [
    {
     "data": {
      "text/latex": [
       "$\\displaystyle \\frac{- 2 f{\\left(x \\right)} + f{\\left(- 2 h + x \\right)} + f{\\left(2 h + x \\right)}}{4 h^{2}}$"
      ],
      "text/plain": [
       "-2⋅f(x) + f(-2⋅h + x) + f(2⋅h + x)\n",
       "──────────────────────────────────\n",
       "                  2               \n",
       "               4⋅h                "
      ]
     },
     "execution_count": 2,
     "metadata": {},
     "output_type": "execute_result"
    }
   ],
   "source": [
    "(f(x+2*h)-2*f(x)+f(x-2*h))/(4*h**2)"
   ]
  },
  {
   "cell_type": "markdown",
   "id": "80956f97",
   "metadata": {},
   "source": [
    "Разложим в ряд Тейлора"
   ]
  },
  {
   "cell_type": "code",
   "execution_count": 3,
   "id": "ca93751d",
   "metadata": {},
   "outputs": [
    {
     "data": {
      "text/latex": [
       "$\\displaystyle \\left. \\frac{d^{2}}{d \\xi_{1}^{2}} f{\\left(\\xi_{1} \\right)} \\right|_{\\substack{ \\xi_{1}=x }} + \\frac{h^{2} \\left. \\frac{d^{4}}{d \\xi_{1}^{4}} f{\\left(\\xi_{1} \\right)} \\right|_{\\substack{ \\xi_{1}=x }}}{3} + O\\left(h^{4}\\right)$"
      ],
      "text/plain": [
       "                        ⎛  4        ⎞│            \n",
       "                      2 ⎜ d         ⎟│            \n",
       "                     h ⋅⎜────(f(ξ₁))⎟│            \n",
       "⎛  2        ⎞│          ⎜   4       ⎟│            \n",
       "⎜ d         ⎟│          ⎝dξ₁        ⎠│ξ₁=x    ⎛ 4⎞\n",
       "⎜────(f(ξ₁))⎟│     + ───────────────────── + O⎝h ⎠\n",
       "⎜   2       ⎟│                 3                  \n",
       "⎝dξ₁        ⎠│ξ₁=x                                "
      ]
     },
     "execution_count": 3,
     "metadata": {},
     "output_type": "execute_result"
    }
   ],
   "source": [
    "series((f(x+2*h)-2*f(x)+f(x-2*h))/(4*h*h),h, 0, 4)"
   ]
  },
  {
   "cell_type": "markdown",
   "id": "6c6393af",
   "metadata": {},
   "source": [
    "Пользуясь разложением в ряд Тейлора получаем, что для этой формулы ошибка метода оценивается как\n",
    "\n",
    "\\begin{equation}\n",
    "\\left|f''(x) - \\frac{f(x+2h)-2f(x)+f(x-2h)}{4h^2}\\right| \\leqslant  \\varepsilon_\\text{method} = \\frac{M_4 h^2}{3}, \\qquad |f^{(4)}(\\xi)| \\leqslant M_4.\n",
    "\\end{equation}\n",
    "\n",
    "То есть данный метод имеет **второй порядок аппроксимации**, так как $\\varepsilon_\\text{method} = O(h^2)$."
   ]
  },
  {
   "cell_type": "markdown",
   "id": "70dd1005",
   "metadata": {},
   "source": [
    "Найдем теперь оптимальный шаг дифференцирования по этой формуле в произвольной точке для четырежды дифференцируемой функции.\n",
    "Пусть значения функции $f(x)$ известны с погрешностью $\\varepsilon(x)$, $|\\varepsilon(x)| \\leqslant E$. Ошибка, связанная с ошибкой округления значения $f(x)$, не превосходит величины $E = M_0 \\cdot \\varepsilon_{маш}$, где $|f(\\xi)| \\leqslant M_0$. Тогда при вычислении производной по нашей формуле возникает погрешность $r$, причем $|r| \\leqslant \\frac{4E}{4h^2} = \\frac{E}{h^2}$. Тогда суммарно мы имеем погрешность:\n",
    "\n",
    "\\begin{equation}\n",
    "g(h) = \\frac{M_4 h^2}{3}+\\frac{E}{h^2}\n",
    "\\end{equation}\n",
    "\n",
    "Минимум суммарной погрешности достигается в точке $h^*$ экстремума функции $g(h)$. Тогда имеем оптимальный шаг дифференцирования:\n",
    "\n",
    "\\begin{equation}\n",
    "h^* = (\\frac{3M_0 \\cdot \\varepsilon_{маш}}{M_4})^{\\frac{1}{4}}\n",
    "\\end{equation}"
   ]
  },
  {
   "cell_type": "markdown",
   "id": "93776352",
   "metadata": {},
   "source": [
    "Оценим теперь численное значение оптимального шага дифференцирования для функции $f(x) = cos(x - \\frac{7\\pi}{8})$ в случае использования **IEEE**-арифметики одинарной и двойной точности."
   ]
  },
  {
   "cell_type": "code",
   "execution_count": 4,
   "id": "a155dcb8",
   "metadata": {},
   "outputs": [
    {
     "name": "stdout",
     "output_type": "stream",
     "text": [
      "-cos(x + pi/8)\n"
     ]
    }
   ],
   "source": [
    "f=cos(x-7*pi/8)\n",
    "print(f)"
   ]
  },
  {
   "cell_type": "code",
   "execution_count": 5,
   "id": "d39ccf49",
   "metadata": {},
   "outputs": [
    {
     "name": "stdout",
     "output_type": "stream",
     "text": [
      "-cos(x + pi/8)\n"
     ]
    }
   ],
   "source": [
    "g=diff(diff(diff(diff((f)))))\n",
    "print(g)"
   ]
  },
  {
   "cell_type": "markdown",
   "id": "2ea0fd89",
   "metadata": {},
   "source": [
    "Отсюда мы делаем 2 оценки для вычислений: $M_0 \\leqslant 1$ и $M_4 \\leqslant 1$"
   ]
  },
  {
   "cell_type": "markdown",
   "id": "9ed3f798",
   "metadata": {},
   "source": [
    "Для одинарной точности чисел $\\varepsilon_1 = 10^{-8}$, для числа двойной точности имеем $\\varepsilon_2 = 10^{-16}$"
   ]
  },
  {
   "cell_type": "code",
   "execution_count": 11,
   "id": "d9dbbc45",
   "metadata": {},
   "outputs": [],
   "source": [
    "M0 = symbols(\"M0\")\n",
    "M4 = symbols(\"M4\")\n",
    "e = symbols(\"e\")\n",
    "r = symbols(\"r\")"
   ]
  },
  {
   "cell_type": "code",
   "execution_count": 7,
   "id": "2fed125d",
   "metadata": {},
   "outputs": [],
   "source": [
    "t = (3*e*M0/M4)**(1/4)"
   ]
  },
  {
   "cell_type": "code",
   "execution_count": 8,
   "id": "d339a2e5",
   "metadata": {},
   "outputs": [
    {
     "name": "stdout",
     "output_type": "stream",
     "text": [
      "Оценка оптимального шага при одинарной точности это h*= 0.0131607401295249\n"
     ]
    }
   ],
   "source": [
    "r1=t.subs({e:10**(-8),M0:1,M4:1})\n",
    "print(\"Оценка оптимального шага при одинарной точности это h*=\", r1)"
   ]
  },
  {
   "cell_type": "code",
   "execution_count": 9,
   "id": "11a7466c",
   "metadata": {},
   "outputs": [
    {
     "name": "stdout",
     "output_type": "stream",
     "text": [
      "Оценка оптимального шага при двойной точности это h*= 0.000131607401295249\n"
     ]
    }
   ],
   "source": [
    "r2=t.subs({e:10**(-16),M0:1,M4:1})\n",
    "print(\"Оценка оптимального шага при двойной точности это h*=\", r2)"
   ]
  },
  {
   "cell_type": "code",
   "execution_count": 12,
   "id": "42881212",
   "metadata": {},
   "outputs": [],
   "source": [
    "l = (M4*(r**2))/3 + M0*e/(r**2)"
   ]
  },
  {
   "cell_type": "code",
   "execution_count": 13,
   "id": "b7e7f0f1",
   "metadata": {},
   "outputs": [
    {
     "name": "stdout",
     "output_type": "stream",
     "text": [
      "Оценка ошибки при одинарной точности и оптимальном шаге= 0.0131607401295249\n"
     ]
    }
   ],
   "source": [
    "l1=t.subs({e:10**(-8),M0:1,M4:1,r:r1})\n",
    "print(\"Оценка ошибки при одинарной точности и оптимальном шаге=\", l1)"
   ]
  },
  {
   "cell_type": "code",
   "execution_count": 14,
   "id": "7b14fab9",
   "metadata": {},
   "outputs": [
    {
     "name": "stdout",
     "output_type": "stream",
     "text": [
      "Оценка ошибки при двойной точности и оптимальном шаге= 0.000131607401295249\n"
     ]
    }
   ],
   "source": [
    "l2=t.subs({e:10**(-16),M0:1,M4:1,r:r2})\n",
    "print(\"Оценка ошибки при двойной точности и оптимальном шаге=\", l2)"
   ]
  },
  {
   "cell_type": "code",
   "execution_count": null,
   "id": "e1362948",
   "metadata": {},
   "outputs": [],
   "source": []
  }
 ],
 "metadata": {
  "kernelspec": {
   "display_name": "Python 3 (ipykernel)",
   "language": "python",
   "name": "python3"
  },
  "language_info": {
   "codemirror_mode": {
    "name": "ipython",
    "version": 3
   },
   "file_extension": ".py",
   "mimetype": "text/x-python",
   "name": "python",
   "nbconvert_exporter": "python",
   "pygments_lexer": "ipython3",
   "version": "3.9.12"
  }
 },
 "nbformat": 4,
 "nbformat_minor": 5
}
