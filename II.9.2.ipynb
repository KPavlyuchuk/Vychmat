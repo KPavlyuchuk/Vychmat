{
 "cells": [
  {
   "cell_type": "markdown",
   "id": "5d147e93",
   "metadata": {},
   "source": [
    "$\\begin{equation*}\n",
    "A = \\left(\n",
    "\\begin{array}{cc}\n",
    "65 & 72 \\\\\n",
    "72 & 82 \\\\\n",
    "\\end{array}\n",
    "\\right)\n",
    "\\end{equation*}$\n",
    "$\\begin{equation*}\n",
    "b = \\left(\n",
    "\\begin{array}{cc}\n",
    "137 \\\\\n",
    "154 \\\\\n",
    "\\end{array}\n",
    "\\right)\n",
    "\\end{equation*}$\n"
   ]
  },
  {
   "cell_type": "markdown",
   "id": "ce1d3a13",
   "metadata": {},
   "source": [
    "Обратная матрица будет иметь вид:\n",
    "$\\begin{equation*}\n",
    "A^{-1} = \\frac{1}{146} \\left(\n",
    "\\begin{array}{cc}\n",
    "82 & -72 \\\\\n",
    "-72 & 65 \\\\\n",
    "\\end{array}\n",
    "\\right)\n",
    "\\end{equation*}$"
   ]
  },
  {
   "cell_type": "markdown",
   "id": "5ce4aef3",
   "metadata": {},
   "source": [
    "Найдем норму матриц $A$ и $A^{-1}$:"
   ]
  },
  {
   "cell_type": "markdown",
   "id": "c20d4a49",
   "metadata": {},
   "source": [
    "Для матрицы $A$\n",
    "\n",
    "\\begin{equation}\n",
    "||A||_{3} = \\sqrt{max\\lambda_i(A^T A)}\n",
    "\\end{equation}\n",
    "\n",
    "\\begin{equation}\n",
    "A^T A = \\left(\n",
    "\\begin{array}{cc}\n",
    "65 & 72 \\\\\n",
    "72 & 82 \\\\\n",
    "\\end{array}\n",
    "\\right)^2 = \\left(\n",
    "\\begin{array}{cc}\n",
    "9409 & 10584 \\\\\n",
    "10584 & 11908 \\\\\n",
    "\\end{array}\n",
    "\\right)\n",
    "\\end{equation}\n",
    "\n",
    "Найдем собственные значения:\n",
    "\n",
    "\\begin{equation}\n",
    "det \\left(\n",
    "\\begin{array}{cc}\n",
    "9409 - \\lambda & 10584 \\\\\n",
    "10584 & 11908 - \\lambda \\\\\n",
    "\\end{array}\n",
    "\\right) = 0 \n",
    "\\\\\n",
    "\\lambda^2 - 21317 \\lambda + 21316 = 0 \n",
    "\\\\\n",
    "\\lambda_1 = 1, \\lambda_2 = 21316\n",
    "\\end{equation}\n",
    "\n",
    "Получаем:\n",
    "\n",
    "\\begin{equation}\n",
    "||A||_{3} = \\sqrt{21316} = 146\n",
    "\\end{equation}"
   ]
  },
  {
   "cell_type": "markdown",
   "id": "909dd2a4",
   "metadata": {},
   "source": [
    "Для матрицы $A^{-1}$\n",
    "\n",
    "\\begin{equation}\n",
    "||A^{-1}||_{3} = \\sqrt{max\\lambda_i(A^{-T} A^{-1})}\n",
    "\\end{equation}\n",
    "\n",
    "\\begin{equation}\n",
    "A^{-T} A^{-1} = \\frac{1}{146^2} \\left(\n",
    "\\begin{array}{cc}\n",
    "82 & -72 \\\\\n",
    "-72 & 65 \\\\\n",
    "\\end{array}\n",
    "\\right)^2 = \\frac{1}{146^2} \\left(\n",
    "\\begin{array}{cc}\n",
    "11908 & -10584 \\\\\n",
    "-10584 & 9409 \\\\\n",
    "\\end{array}\n",
    "\\right)\n",
    "\\end{equation}\n",
    "\n",
    "Найдем собственные значения:\n",
    "\n",
    "\\begin{equation}\n",
    "det \\left(\n",
    "\\begin{array}{cc}\n",
    "\\frac{11908}{146^2} - \\lambda & \\frac{-10584}{146^2} \\\\\n",
    "\\frac{-10584}{146^2}& \\frac{9409}{146^2}- \\lambda \\\\\n",
    "\\end{array}\n",
    "\\right) = 0 \n",
    "\\\\\n",
    "\\lambda^2 - \\frac{21317}{21316} \\lambda + \\frac{1}{21316} = 0 \n",
    "\\\\\n",
    "\\lambda_1 = 1, \\lambda_2 = \\frac{1}{21316}\n",
    "\\end{equation}\n",
    "\n",
    "Получаем:\n",
    "\n",
    "\\begin{equation}\n",
    "||A^{-1}||_{3} = \\sqrt{1} = 1\n",
    "\\end{equation}"
   ]
  },
  {
   "cell_type": "markdown",
   "id": "890458e7",
   "metadata": {},
   "source": [
    "Получаем оценку на относительную погрешность $\\frac{||\\Delta x||_{3}}{||x||_{3}}$:\n",
    "\n",
    "\\begin{equation}\n",
    "\\frac{||Δx||_{3}}{||x||_{3}} = \\frac{||A^{-1} \\cdot \\Delta b||_{3}}{||x||_{3}} \\leqslant \\frac{||A^{-1}|| \\cdot ||\\Delta b||_{3}}{||x||_{3}} \\leqslant \\frac{||A^{-1}|| \\cdot 0.01 \\cdot ||b||_{3}}{||x||_{3}} = \\frac{1 \\cdot 2.06 }{\\sqrt{2}} \\approx 1.457\n",
    "\\end{equation}\n",
    "\n",
    "Эта оценка достигается на векторе $\\Delta b$, на котором реализуется максимум нормы матрицы $A^{-1}$, то есть $||A^{-1} \\cdot \\Delta b||_{3} = ||A^{-1}||_{3} \\cdot ||\\Delta b||_{3}$\n",
    "\n",
    "Воспользуемся связью между евклидовой нормой вектора и скалярным произведением: $||x||^2_{3} = (x, x)$, а также тем свойством, что ортогональные матрицы $U^{-1} = U^{T}$ сохраняют скалярное произведение: $(Ux, Ux) = (x, x)$.\n",
    "\n",
    "Представим матрицу $A$ в виде: $U \\Sigma V^{T}$, где $UU^{T} = VV{^T} = E$, $\\Sigma = diag(\\sigma_1, ... ,\\sigma_n)$ - сингулярное разложение $A$.\n",
    "\n",
    "Подставим сингулярное разложение в определение подчиненной евклидовой нормы и возведем в квадрат:\n",
    "\\begin{equation}\n",
    "||A||^2_{3} =\\underset{x \\neq 0}{sup}\\frac{(Ax, Ax)}{(x, x)} = \\underset{V^{T}x \\neq 0}{sup}\\frac{(U \\Sigma V^{T}x, U \\Sigma V^{T}x)}{(V^{T}x, V^{T}x)} = \\underset{z \\neq 0}{sup}\\frac{(\\Sigma z, \\Sigma z)}{(z, z)}\n",
    "\\end{equation}\n",
    "\n",
    "Евклидова норма матрицы равна евклидовой норме диагональной матрицы из ее сингулярных чисел $\\Sigma$. Максимальное значение отношения $\\frac{(\\Sigma z, \\Sigma z)}{(z, z)}$ равно $\\sigma^2_{max}$ и достигается на векторе $z_0 = (0, ... , 0, 1, 0, ... , 0)^{T}$, где единица стоит на $j_0$ месте, где $j_0$ — номер максимального сингулярного числа матрицы $A$.\n",
    "\n",
    "Откуда $||\\Delta b||_{3} = Vz_0$"
   ]
  },
  {
   "cell_type": "markdown",
   "id": "fcba4ab4",
   "metadata": {},
   "source": [
    "\n",
    "Относительная ошибка $\\frac{||\\Delta x||_{3}}{||x||_{3}}$ будет минимальной при:\n",
    "\\begin{equation}\n",
    "\\underset{\\Delta b = const}{min}\\frac{||\\Delta x||_{3}}{||x||_{3}} = \\frac{\\underset{\\Delta b = const}{min}||A^{-1} \\Delta b||_{3}}{||x||_{3}} = \\frac{|| \\Delta b||_{3}}{||x||_{3}} \\underset{\\Delta b = const}{min}\\frac{||A^{-1} \\Delta b||_{3}}{||\\Delta b||_{3}} = \\frac{|| \\Delta b||_{3}}{||x||_{3}} \\left( \\underset{\\Delta b = const}{max}\\frac{||\\Delta b||_{3}}{||A^{-1} \\Delta b||_{3}} \\right)^{-1} = \\frac{|| \\Delta b||_{3}}{||x||_{3}} \\left( \\underset{\\Delta b = const}{max}\\frac{||A \\Delta x||_{3}}{||\\Delta x||_{3}} \\right)^{-1} = \\frac{||\\Delta b||_{3}}{||A||_{3}||x||_{3}} = \\frac{0.01 \\cdot ||b||_{3}}{||A||_{3}||x||_{3}} = \\frac{2.06}{146 \\cdot 1} \\approx 0.014\n",
    "\\end{equation}"
   ]
  }
 ],
 "metadata": {
  "kernelspec": {
   "display_name": "Python 3 (ipykernel)",
   "language": "python",
   "name": "python3"
  },
  "language_info": {
   "codemirror_mode": {
    "name": "ipython",
    "version": 3
   },
   "file_extension": ".py",
   "mimetype": "text/x-python",
   "name": "python",
   "nbconvert_exporter": "python",
   "pygments_lexer": "ipython3",
   "version": "3.9.12"
  }
 },
 "nbformat": 4,
 "nbformat_minor": 5
}
