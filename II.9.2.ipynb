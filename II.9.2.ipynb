{
 "cells": [
  {
   "cell_type": "markdown",
   "id": "5d147e93",
   "metadata": {},
   "source": [
    "$\\begin{equation*}\n",
    "A = \\left(\n",
    "\\begin{array}{cc}\n",
    "65 & 72 \\\\\n",
    "72 & 82 \\\\\n",
    "\\end{array}\n",
    "\\right)\n",
    "\\end{equation*}$\n",
    "$\\begin{equation*}\n",
    "b = \\left(\n",
    "\\begin{array}{cc}\n",
    "137 \\\\\n",
    "154 \\\\\n",
    "\\end{array}\n",
    "\\right)\n",
    "\\end{equation*}$\n"
   ]
  },
  {
   "cell_type": "markdown",
   "id": "ce1d3a13",
   "metadata": {},
   "source": [
    "Обратная матрица будет иметь вид:\n",
    "$\\begin{equation*}\n",
    "A^{-1} = \\frac{1}{146} \\left(\n",
    "\\begin{array}{cc}\n",
    "82 & -72 \\\\\n",
    "-72 & 65 \\\\\n",
    "\\end{array}\n",
    "\\right)\n",
    "\\end{equation*}$"
   ]
  },
  {
   "cell_type": "markdown",
   "id": "5ce4aef3",
   "metadata": {},
   "source": [
    "Найдем норму матриц $A$ и $A^{-1}$:"
   ]
  },
  {
   "cell_type": "markdown",
   "id": "c20d4a49",
   "metadata": {},
   "source": [
    "Для матрицы $A$\n",
    "\n",
    "\\begin{equation}\n",
    "||A||_{3} = \\sqrt{max\\lambda_i(A^T A)}\n",
    "\\end{equation}\n",
    "\n",
    "\\begin{equation}\n",
    "A^T A = \\left(\n",
    "\\begin{array}{cc}\n",
    "65 & 72 \\\\\n",
    "72 & 82 \\\\\n",
    "\\end{array}\n",
    "\\right)^2 = \\left(\n",
    "\\begin{array}{cc}\n",
    "9409 & 10584 \\\\\n",
    "10584 & 11908 \\\\\n",
    "\\end{array}\n",
    "\\right)\n",
    "\\end{equation}\n",
    "\n",
    "Найдем собственные значения:\n",
    "\n",
    "\\begin{equation}\n",
    "det \\left(\n",
    "\\begin{array}{cc}\n",
    "9409 - \\lambda & 10584 \\\\\n",
    "10584 & 11908 - \\lambda \\\\\n",
    "\\end{array}\n",
    "\\right) = 0 \n",
    "\\\\\n",
    "\\lambda^2 - 21317 \\lambda + 21316 = 0 \n",
    "\\\\\n",
    "\\lambda_1 = 1, \\lambda_2 = 21316\n",
    "\\end{equation}\n",
    "\n",
    "Получаем:\n",
    "\n",
    "\\begin{equation}\n",
    "||A||_{3} = \\sqrt{21316} = 146\n",
    "\\end{equation}"
   ]
  },
  {
   "cell_type": "markdown",
   "id": "909dd2a4",
   "metadata": {},
   "source": [
    "Для матрицы $A^{-1}$\n",
    "\n",
    "\\begin{equation}\n",
    "||A^{-1}||_{3} = \\sqrt{max\\lambda_i(A^{-T} A^{-1})}\n",
    "\\end{equation}\n",
    "\n",
    "\\begin{equation}\n",
    "A^{-T} A^{-1} = \\frac{1}{146^2} \\left(\n",
    "\\begin{array}{cc}\n",
    "82 & -72 \\\\\n",
    "-72 & 65 \\\\\n",
    "\\end{array}\n",
    "\\right)^2 = \\frac{1}{146^2} \\left(\n",
    "\\begin{array}{cc}\n",
    "11908 & -10584 \\\\\n",
    "-10584 & 9409 \\\\\n",
    "\\end{array}\n",
    "\\right)\n",
    "\\end{equation}\n",
    "\n",
    "Найдем собственные значения:\n",
    "\n",
    "\\begin{equation}\n",
    "det \\left(\n",
    "\\begin{array}{cc}\n",
    "\\frac{11908}{146^2} - \\lambda & \\frac{-10584}{146^2} \\\\\n",
    "\\frac{-10584}{146^2}& \\frac{9409}{146^2}- \\lambda \\\\\n",
    "\\end{array}\n",
    "\\right) = 0 \n",
    "\\\\\n",
    "\\lambda^2 - \\frac{21317}{21316} \\lambda + \\frac{1}{21316} = 0 \n",
    "\\\\\n",
    "\\lambda_1 = 1, \\lambda_2 = \\frac{1}{21316}\n",
    "\\end{equation}\n",
    "\n",
    "Получаем:\n",
    "\n",
    "\\begin{equation}\n",
    "||A^{-1}||_{3} = \\sqrt{1} = 1\n",
    "\\end{equation}"
   ]
  },
  {
   "cell_type": "markdown",
   "id": "890458e7",
   "metadata": {},
   "source": [
    "Тогда получаем оценку на относительную погрешность $\\frac{||\\Delta x||_{3}}{||x||_{3}}$:\n",
    "\n",
    "\\begin{equation}\n",
    "\\frac{||Δx||_{3}}{||x||_{3}} \\leqslant 146 \\cdot 1 \\cdot \\frac{||\\Delta b||_{3}}{||b||_{3}} = 146 \\cdot 0.01 = 1.46\n",
    "\\end{equation}"
   ]
  },
  {
   "cell_type": "markdown",
   "id": "f916aa38",
   "metadata": {},
   "source": [
    "Найдем вектор ошибки $\\Delta b$ на котором эта оценка достигается:\n",
    "\n",
    "\\begin{equation}\n",
    "||\\Delta b||_{3} \\leqslant ||b||_{3} \\cdot 0.01 = \\sqrt{137^2 + 154^2} \\cdot 0.01 = \\sqrt{\\frac{137^2}{10^4} + \\frac{154^2}{10^4}} \\approx 2.06\n",
    "\\end{equation}\n",
    "\n",
    "Например можно взять:\n",
    "\n",
    "\\begin{equation}\n",
    "\\Delta b = \\left(\n",
    "\\begin{array}{cc}\n",
    "1.37 \\\\\n",
    "1.54 \\\\\n",
    "\\end{array}\n",
    "\\right)\n",
    "\\end{equation}"
   ]
  },
  {
   "cell_type": "markdown",
   "id": "62f7b6e7",
   "metadata": {},
   "source": [
    "Относительная ошибка $\\frac{||\\Delta x||_{3}}{||x||_{3}}$ будет минимальной при $||\\Delta b||_{3} = 0$, т.е \n",
    "\\begin{equation*}\n",
    "\\Delta b = \\left(\n",
    "\\begin{array}{cc}\n",
    "0 \\\\\n",
    "0 \\\\\n",
    "\\end{array}\n",
    "\\right)\n",
    "\\end{equation*}\n",
    "\n",
    "И эта относительная ошибка тогда равна: $\\frac{||\\Delta x||_{3}}{||x||_{3}} = 0$"
   ]
  }
 ],
 "metadata": {
  "kernelspec": {
   "display_name": "Python 3 (ipykernel)",
   "language": "python",
   "name": "python3"
  },
  "language_info": {
   "codemirror_mode": {
    "name": "ipython",
    "version": 3
   },
   "file_extension": ".py",
   "mimetype": "text/x-python",
   "name": "python",
   "nbconvert_exporter": "python",
   "pygments_lexer": "ipython3",
   "version": "3.9.12"
  }
 },
 "nbformat": 4,
 "nbformat_minor": 5
}
