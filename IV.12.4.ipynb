{
 "cells": [
  {
   "cell_type": "markdown",
   "id": "6e1a2168",
   "metadata": {},
   "source": [
    "$$x^2 - \\frac{e^x}{5} = 0$$\n",
    "\n",
    "Методом пристального взгляда в Desmos убеждаемся что существует корень на $[4.5, 5]$\n",
    "\n",
    "$$0.5^2 - \\frac{e^{0.5}}{5} < 0, 1 - \\frac{e}{5} > 0$$ \n",
    "Действительно ноль где-то тут\n",
    "\n",
    "$$e^x = 5x^2$$\n",
    "$$x = ln(5x^2)$$\n",
    "\n",
    "$$f(x) = ln(5x^2)$$ - наше отображение\n",
    "$$f'(x) = \\frac{2}{x}$$\n",
    "\n",
    "Функция переводит отрезок $[4.5, 5]$ в подмножество $[0.5, 1]$, а производная на этом отрезке убывает, значит указанная функция удовлетворяет условиям соответствующей теоремы и метод работает\n",
    "\n",
    "Корень находится где-то на отрезке $[4.5, 5]$, если выбрать начальной точкой 4.75\n",
    "\n",
    "Модуль производной будет $|\\frac{2}{4.75}| < 0.43$\n",
    "\n",
    "$$e_n \\leq e_0 \\cdot q^n \\leq 0.5 \\cdot 0.43^n$$\n",
    "$$10^{-3} \\leq 0.5 \\cdot 0.43^n$$\n",
    "\n",
    "Откуда $n = 7.3635$, берем $n = 8$\n",
    "\n"
   ]
  },
  {
   "cell_type": "code",
   "execution_count": 1,
   "id": "c6d96324",
   "metadata": {},
   "outputs": [],
   "source": [
    "import math\n",
    "import sympy\n",
    "import numpy as np\n",
    "from sympy.abc import x,y\n",
    "from sympy import *\n",
    "init_printing( use_latex='mathjax' )\n",
    "f = Function(\"f\")\n",
    "h = symbols(\"h\")\n",
    "x0=symbols(\"x0\")"
   ]
  },
  {
   "cell_type": "code",
   "execution_count": 6,
   "id": "33a40bef",
   "metadata": {},
   "outputs": [],
   "source": [
    "def iter(x):\n",
    "    x=np.log(5*x*x)\n",
    "    return x"
   ]
  },
  {
   "cell_type": "code",
   "execution_count": 7,
   "id": "70b7137f",
   "metadata": {},
   "outputs": [],
   "source": [
    "n = symbols(\"n\")\n",
    "n = 8"
   ]
  },
  {
   "cell_type": "code",
   "execution_count": 8,
   "id": "fd8ed912",
   "metadata": {},
   "outputs": [
    {
     "data": {
      "text/latex": [
       "$\\displaystyle \\left[ 4.7257271485272, \\  4.715480798381, \\  4.71113967837744, \\  4.70929760981378, \\  4.70851545139341, \\  4.70818324755072, \\  4.70804213489396, \\  4.70798219042532\\right]$"
      ],
      "text/plain": [
       "[4.7257271485272, 4.715480798381001, 4.711139678377439, 4.70929760981378, 4.70\n",
       "8515451393408, 4.708183247550717, 4.708042134893956, 4.707982190425323]"
      ]
     },
     "execution_count": 8,
     "metadata": {},
     "output_type": "execute_result"
    }
   ],
   "source": [
    "x = 4.75\n",
    "roots=[]\n",
    "for i in range(n):\n",
    "    x=iter(x)\n",
    "    roots.append(x)\n",
    "roots"
   ]
  },
  {
   "cell_type": "markdown",
   "id": "bc4de8cc",
   "metadata": {},
   "source": [
    "По Методу Ньютона\n",
    "\n",
    "$$x_{n+1} = x_n - \\frac{f(x_n)}{f'(x_n)}$$\n",
    "\n",
    "$$f(x) = x^2 - \\frac{e^x}{5}$$\n",
    "\n",
    "$$f'(x) = 2x - \\frac{e^x}{5}$$"
   ]
  },
  {
   "cell_type": "code",
   "execution_count": 9,
   "id": "3d5b2a7b",
   "metadata": {},
   "outputs": [],
   "source": [
    "def newton(x):\n",
    "    return x-(x*x-np.exp(x)/5)/(2*x-np.exp(x)/5)"
   ]
  },
  {
   "cell_type": "code",
   "execution_count": 11,
   "id": "5a5bb3da",
   "metadata": {},
   "outputs": [
    {
     "data": {
      "text/latex": [
       "$\\displaystyle 4.70793791967889$"
      ],
      "text/plain": [
       "4.707937919678887"
      ]
     },
     "execution_count": 11,
     "metadata": {},
     "output_type": "execute_result"
    }
   ],
   "source": [
    "newton(roots[-1])"
   ]
  },
  {
   "cell_type": "code",
   "execution_count": 12,
   "id": "89bdba68",
   "metadata": {},
   "outputs": [
    {
     "data": {
      "text/latex": [
       "$\\displaystyle 4.70793791812886$"
      ],
      "text/plain": [
       "4.707937918128859"
      ]
     },
     "execution_count": 12,
     "metadata": {},
     "output_type": "execute_result"
    }
   ],
   "source": [
    "newton(newton(roots[-1]))"
   ]
  },
  {
   "cell_type": "code",
   "execution_count": 13,
   "id": "316e56cc",
   "metadata": {},
   "outputs": [
    {
     "data": {
      "text/latex": [
       "$\\displaystyle 4.70793791812886$"
      ],
      "text/plain": [
       "4.707937918128859"
      ]
     },
     "execution_count": 13,
     "metadata": {},
     "output_type": "execute_result"
    }
   ],
   "source": [
    "newton(newton(newton(roots[-1])))"
   ]
  },
  {
   "cell_type": "markdown",
   "id": "2387d48a",
   "metadata": {},
   "source": [
    "Видно что метод Ньютона мега хорош и не меняется уже с третьей итерации"
   ]
  },
  {
   "cell_type": "code",
   "execution_count": null,
   "id": "1c00dc44",
   "metadata": {},
   "outputs": [],
   "source": []
  }
 ],
 "metadata": {
  "kernelspec": {
   "display_name": "Python 3 (ipykernel)",
   "language": "python",
   "name": "python3"
  },
  "language_info": {
   "codemirror_mode": {
    "name": "ipython",
    "version": 3
   },
   "file_extension": ".py",
   "mimetype": "text/x-python",
   "name": "python",
   "nbconvert_exporter": "python",
   "pygments_lexer": "ipython3",
   "version": "3.9.12"
  }
 },
 "nbformat": 4,
 "nbformat_minor": 5
}
