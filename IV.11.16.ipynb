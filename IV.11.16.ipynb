{
 "cells": [
  {
   "cell_type": "code",
   "execution_count": 2,
   "id": "6aa1b26a",
   "metadata": {},
   "outputs": [],
   "source": [
    "import math\n",
    "import sympy\n",
    "import numpy as np\n",
    "from sympy.abc import x,y\n",
    "from sympy import *\n",
    "init_printing( use_latex='mathjax' )\n",
    "f = Function(\"f\")\n",
    "h = symbols(\"h\")\n",
    "x0=symbols(\"x0\")"
   ]
  },
  {
   "cell_type": "markdown",
   "id": "a3e919e6",
   "metadata": {},
   "source": [
    "$$x^6 - 5x -2 = 0$$\n",
    "Положительный корень будет $x_0 \\approx 1,45$"
   ]
  },
  {
   "cell_type": "markdown",
   "id": "361f4863",
   "metadata": {},
   "source": [
    "I"
   ]
  },
  {
   "cell_type": "code",
   "execution_count": 3,
   "id": "c74a90ed",
   "metadata": {},
   "outputs": [],
   "source": [
    "f = (x**6 - 2)/5"
   ]
  },
  {
   "cell_type": "code",
   "execution_count": 5,
   "id": "4d1fff8c",
   "metadata": {},
   "outputs": [
    {
     "data": {
      "text/latex": [
       "$\\displaystyle \\frac{6 x^{5}}{5}$"
      ],
      "text/plain": [
       "   5\n",
       "6⋅x \n",
       "────\n",
       " 5  "
      ]
     },
     "execution_count": 5,
     "metadata": {},
     "output_type": "execute_result"
    }
   ],
   "source": [
    "g = diff(f,x)\n",
    "g"
   ]
  },
  {
   "cell_type": "code",
   "execution_count": 8,
   "id": "cc6b67aa",
   "metadata": {},
   "outputs": [
    {
     "name": "stdout",
     "output_type": "stream",
     "text": [
      "Значение производной в корне уравнения = 7.69168087500000\n"
     ]
    }
   ],
   "source": [
    "r=g.subs({x:1.45})\n",
    "print(\"Значение производной в корне уравнения =\", r)"
   ]
  },
  {
   "cell_type": "markdown",
   "id": "462c083a",
   "metadata": {},
   "source": [
    "Т.к. значение по модулю получилось больше 1, то МПИ расходится"
   ]
  },
  {
   "cell_type": "markdown",
   "id": "b4863355",
   "metadata": {},
   "source": [
    "II"
   ]
  },
  {
   "cell_type": "code",
   "execution_count": 9,
   "id": "c9e212af",
   "metadata": {},
   "outputs": [],
   "source": [
    "f2 = 5/(x**4) + 2/(x**5)"
   ]
  },
  {
   "cell_type": "code",
   "execution_count": 10,
   "id": "66284cfc",
   "metadata": {},
   "outputs": [
    {
     "data": {
      "text/latex": [
       "$\\displaystyle - \\frac{20}{x^{5}} - \\frac{10}{x^{6}}$"
      ],
      "text/plain": [
       "  20   10\n",
       "- ── - ──\n",
       "   5    6\n",
       "  x    x "
      ]
     },
     "execution_count": 10,
     "metadata": {},
     "output_type": "execute_result"
    }
   ],
   "source": [
    "g2 = diff(f2, x)\n",
    "g2"
   ]
  },
  {
   "cell_type": "code",
   "execution_count": 11,
   "id": "ab80ed5f",
   "metadata": {},
   "outputs": [
    {
     "name": "stdout",
     "output_type": "stream",
     "text": [
      "Значение производной в корне уравнения = -4.19620400189387\n"
     ]
    }
   ],
   "source": [
    "r2=g2.subs({x:1.45})\n",
    "print(\"Значение производной в корне уравнения =\", r2)"
   ]
  },
  {
   "cell_type": "markdown",
   "id": "e4d262eb",
   "metadata": {},
   "source": [
    "Т.к. значение по модулю получилось больше 1, то МПИ расходится"
   ]
  },
  {
   "cell_type": "markdown",
   "id": "22dcbf54",
   "metadata": {},
   "source": [
    "III"
   ]
  },
  {
   "cell_type": "code",
   "execution_count": 13,
   "id": "ca1aab44",
   "metadata": {},
   "outputs": [],
   "source": [
    "f3 = (5*x + 2)**(1/6)"
   ]
  },
  {
   "cell_type": "code",
   "execution_count": 14,
   "id": "92d8c2e4",
   "metadata": {},
   "outputs": [
    {
     "data": {
      "text/latex": [
       "$\\displaystyle \\frac{0.833333333333333}{\\left(5 x + 2\\right)^{0.833333333333333}}$"
      ],
      "text/plain": [
       "                           -0.833333333333333\n",
       "0.833333333333333⋅(5⋅x + 2)                  "
      ]
     },
     "execution_count": 14,
     "metadata": {},
     "output_type": "execute_result"
    }
   ],
   "source": [
    "g3 = diff(f3, x)\n",
    "g3"
   ]
  },
  {
   "cell_type": "code",
   "execution_count": 15,
   "id": "f3b8b23c",
   "metadata": {},
   "outputs": [
    {
     "name": "stdout",
     "output_type": "stream",
     "text": [
      "Значение производной в корне уравнения = 0.130527086235333\n"
     ]
    }
   ],
   "source": [
    "r3=g3.subs({x:1.45})\n",
    "print(\"Значение производной в корне уравнения =\", r3)"
   ]
  },
  {
   "cell_type": "markdown",
   "id": "b5d64cad",
   "metadata": {},
   "source": [
    "Т.к. значение по модулю получилось меньше 1, то МПИ сходится"
   ]
  },
  {
   "cell_type": "markdown",
   "id": "83bebf53",
   "metadata": {},
   "source": [
    "IV"
   ]
  },
  {
   "cell_type": "code",
   "execution_count": 17,
   "id": "c4492ece",
   "metadata": {},
   "outputs": [],
   "source": [
    "f4 = (5/(x**3) + 2/(x**4))**(1/2)"
   ]
  },
  {
   "cell_type": "code",
   "execution_count": 18,
   "id": "8532a5eb",
   "metadata": {},
   "outputs": [
    {
     "data": {
      "text/latex": [
       "$\\displaystyle \\frac{- \\frac{7.5}{x^{4}} - \\frac{4.0}{x^{5}}}{\\left(\\frac{5}{x^{3}} + \\frac{2}{x^{4}}\\right)^{0.5}}$"
      ],
      "text/plain": [
       "                       -0.5\n",
       "⎛  7.5   4.0⎞ ⎛5    2 ⎞    \n",
       "⎜- ─── - ───⎟⋅⎜── + ──⎟    \n",
       "⎜    4     5⎟ ⎜ 3    4⎟    \n",
       "⎝   x     x ⎠ ⎝x    x ⎠    "
      ]
     },
     "execution_count": 18,
     "metadata": {},
     "output_type": "execute_result"
    }
   ],
   "source": [
    "g4 = diff(f4, x)\n",
    "g4"
   ]
  },
  {
   "cell_type": "code",
   "execution_count": 21,
   "id": "4ea53544",
   "metadata": {},
   "outputs": [
    {
     "name": "stdout",
     "output_type": "stream",
     "text": [
      "Значение производной в корне уравнения = -1.60428713676965\n"
     ]
    }
   ],
   "source": [
    "r4=g4.subs({x:1.45})\n",
    "print(\"Значение производной в корне уравнения =\", r4)"
   ]
  },
  {
   "cell_type": "markdown",
   "id": "7c0caab4",
   "metadata": {},
   "source": [
    "Т.к. значение по модулю получилось больше 1, то МПИ расходится"
   ]
  }
 ],
 "metadata": {
  "kernelspec": {
   "display_name": "Python 3 (ipykernel)",
   "language": "python",
   "name": "python3"
  },
  "language_info": {
   "codemirror_mode": {
    "name": "ipython",
    "version": 3
   },
   "file_extension": ".py",
   "mimetype": "text/x-python",
   "name": "python",
   "nbconvert_exporter": "python",
   "pygments_lexer": "ipython3",
   "version": "3.9.12"
  }
 },
 "nbformat": 4,
 "nbformat_minor": 5
}
