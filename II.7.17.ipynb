{
 "cells": [
  {
   "cell_type": "markdown",
   "id": "82a500f3",
   "metadata": {},
   "source": [
    "\\begin{equation}\n",
    "A x = \\lambda x \\\\\n",
    "x = A^{-1} \\lambda x \\\\\n",
    "A^{-1} x = \\frac{1}{\\lambda} x\n",
    "\\end{equation}"
   ]
  },
  {
   "cell_type": "markdown",
   "id": "d1317adc",
   "metadata": {},
   "source": [
    "\\begin{equation}\n",
    "||A^{-1}|| =\\underset{x \\neq 0}{sup}\\frac{||A^{-1} x||}{||x||} = \\underset{x \\neq 0}{sup}\\frac{||\\frac{1}{\\lambda} x||}{||x||} = \\underset{x \\neq 0}{sup}\\frac{||x||}{\\lambda ||x||} = \\underset{x \\neq 0}{sup}\\frac{||x||}{||A x||} = \\left(\\underset{x \\neq 0}{inf}\\frac{||A x||}{||x||} \\right)^{-1}\n",
    "\\end{equation}"
   ]
  },
  {
   "cell_type": "code",
   "execution_count": null,
   "id": "8efbc90f",
   "metadata": {},
   "outputs": [],
   "source": []
  }
 ],
 "metadata": {
  "kernelspec": {
   "display_name": "Python 3 (ipykernel)",
   "language": "python",
   "name": "python3"
  },
  "language_info": {
   "codemirror_mode": {
    "name": "ipython",
    "version": 3
   },
   "file_extension": ".py",
   "mimetype": "text/x-python",
   "name": "python",
   "nbconvert_exporter": "python",
   "pygments_lexer": "ipython3",
   "version": "3.9.12"
  }
 },
 "nbformat": 4,
 "nbformat_minor": 5
}
