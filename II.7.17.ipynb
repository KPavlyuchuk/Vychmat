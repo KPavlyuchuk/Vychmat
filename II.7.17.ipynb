{
 "cells": [
  {
   "cell_type": "markdown",
   "id": "d1317adc",
   "metadata": {},
   "source": [
    "\\begin{equation}\n",
    "||A^{-1}|| =\\underset{y \\neq 0}{sup}\\frac{||A^{-1} y||}{||y||} =\\underset{y \\neq 0}{sup}\\frac{||x||}{||A x||} = \\underset{x \\neq 0}{sup}\\frac{||x||}{||Ax||} = \\left(\\underset{x \\neq 0}{inf}\\frac{||A x||}{||x||} \\right)^{-1}\n",
    "\\end{equation}"
   ]
  }
 ],
 "metadata": {
  "kernelspec": {
   "display_name": "Python 3 (ipykernel)",
   "language": "python",
   "name": "python3"
  },
  "language_info": {
   "codemirror_mode": {
    "name": "ipython",
    "version": 3
   },
   "file_extension": ".py",
   "mimetype": "text/x-python",
   "name": "python",
   "nbconvert_exporter": "python",
   "pygments_lexer": "ipython3",
   "version": "3.9.12"
  }
 },
 "nbformat": 4,
 "nbformat_minor": 5
}
